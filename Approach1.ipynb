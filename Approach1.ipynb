{
 "cells": [
  {
   "cell_type": "markdown",
   "id": "bd034a95",
   "metadata": {
    "papermill": {
     "duration": 0.005161,
     "end_time": "2025-07-04T17:52:07.684078",
     "exception": false,
     "start_time": "2025-07-04T17:52:07.678917",
     "status": "completed"
    },
    "tags": []
   },
   "source": [
    "### 0. Imports"
   ]
  },
  {
   "cell_type": "code",
   "execution_count": 1,
   "id": "b8ed8c9e",
   "metadata": {
    "execution": {
     "iopub.execute_input": "2025-07-04T17:52:07.693992Z",
     "iopub.status.busy": "2025-07-04T17:52:07.693729Z",
     "iopub.status.idle": "2025-07-04T17:52:36.181940Z",
     "shell.execute_reply": "2025-07-04T17:52:36.181321Z"
    },
    "papermill": {
     "duration": 28.494665,
     "end_time": "2025-07-04T17:52:36.183297",
     "exception": false,
     "start_time": "2025-07-04T17:52:07.688632",
     "status": "completed"
    },
    "tags": []
   },
   "outputs": [
    {
     "name": "stderr",
     "output_type": "stream",
     "text": [
      "2025-07-04 17:52:25.257201: E external/local_xla/xla/stream_executor/cuda/cuda_fft.cc:477] Unable to register cuFFT factory: Attempting to register factory for plugin cuFFT when one has already been registered\n",
      "WARNING: All log messages before absl::InitializeLog() is called are written to STDERR\n",
      "E0000 00:00:1751651545.444974      19 cuda_dnn.cc:8310] Unable to register cuDNN factory: Attempting to register factory for plugin cuDNN when one has already been registered\n",
      "E0000 00:00:1751651545.497375      19 cuda_blas.cc:1418] Unable to register cuBLAS factory: Attempting to register factory for plugin cuBLAS when one has already been registered\n"
     ]
    }
   ],
   "source": [
    "import numpy as np\n",
    "import pandas as pd\n",
    "import string\n",
    "from nltk.corpus import stopwords\n",
    "import emoji\n",
    "import torch\n",
    "import re\n",
    "from transformers import BertForSequenceClassification, BertConfig,BertTokenizer, get_linear_schedule_with_warmup\n",
    "from torch.utils.data import TensorDataset, DataLoader, RandomSampler, SequentialSampler,random_split\n",
    "import random\n",
    "from scipy.special import softmax"
   ]
  },
  {
   "cell_type": "code",
   "execution_count": 2,
   "id": "538f6bad",
   "metadata": {
    "execution": {
     "iopub.execute_input": "2025-07-04T17:52:36.193405Z",
     "iopub.status.busy": "2025-07-04T17:52:36.192954Z",
     "iopub.status.idle": "2025-07-04T17:52:36.198181Z",
     "shell.execute_reply": "2025-07-04T17:52:36.197655Z"
    },
    "papermill": {
     "duration": 0.011248,
     "end_time": "2025-07-04T17:52:36.199223",
     "exception": false,
     "start_time": "2025-07-04T17:52:36.187975",
     "status": "completed"
    },
    "tags": []
   },
   "outputs": [
    {
     "data": {
      "text/plain": [
       "device(type='cuda', index=0)"
      ]
     },
     "execution_count": 2,
     "metadata": {},
     "output_type": "execute_result"
    }
   ],
   "source": [
    "device = torch.device(\"cuda:0\" if torch.cuda.is_available() else \"cpu\")\n",
    "device"
   ]
  },
  {
   "cell_type": "markdown",
   "id": "aecbd7c4",
   "metadata": {
    "papermill": {
     "duration": 0.004054,
     "end_time": "2025-07-04T17:52:36.207710",
     "exception": false,
     "start_time": "2025-07-04T17:52:36.203656",
     "status": "completed"
    },
    "tags": []
   },
   "source": [
    "### 1. Dataset Load"
   ]
  },
  {
   "cell_type": "code",
   "execution_count": 3,
   "id": "29e88cf6",
   "metadata": {
    "execution": {
     "iopub.execute_input": "2025-07-04T17:52:36.216822Z",
     "iopub.status.busy": "2025-07-04T17:52:36.216631Z",
     "iopub.status.idle": "2025-07-04T17:52:39.681079Z",
     "shell.execute_reply": "2025-07-04T17:52:39.680536Z"
    },
    "papermill": {
     "duration": 3.470481,
     "end_time": "2025-07-04T17:52:39.682371",
     "exception": false,
     "start_time": "2025-07-04T17:52:36.211890",
     "status": "completed"
    },
    "tags": []
   },
   "outputs": [],
   "source": [
    "train_df = pd.read_csv(\"/kaggle/input/llm-classification-finetuning/train.csv\")\n",
    "test_df = pd.read_csv(\"/kaggle/input/llm-classification-finetuning/test.csv\")\n",
    "submission_template = pd.read_csv(\"/kaggle/input/llm-classification-finetuning/sample_submission.csv\")"
   ]
  },
  {
   "cell_type": "markdown",
   "id": "025ac37f",
   "metadata": {
    "papermill": {
     "duration": 0.004185,
     "end_time": "2025-07-04T17:52:39.691378",
     "exception": false,
     "start_time": "2025-07-04T17:52:39.687193",
     "status": "completed"
    },
    "tags": []
   },
   "source": [
    "### 2. Univariate EDA"
   ]
  },
  {
   "cell_type": "code",
   "execution_count": 4,
   "id": "db1d5af3",
   "metadata": {
    "execution": {
     "iopub.execute_input": "2025-07-04T17:52:39.700686Z",
     "iopub.status.busy": "2025-07-04T17:52:39.700420Z",
     "iopub.status.idle": "2025-07-04T17:52:39.714849Z",
     "shell.execute_reply": "2025-07-04T17:52:39.714292Z"
    },
    "papermill": {
     "duration": 0.020265,
     "end_time": "2025-07-04T17:52:39.715873",
     "exception": false,
     "start_time": "2025-07-04T17:52:39.695608",
     "status": "completed"
    },
    "tags": []
   },
   "outputs": [
    {
     "data": {
      "text/plain": [
       "model_a\n",
       "gpt-4-1106-preview          3678\n",
       "gpt-3.5-turbo-0613          3553\n",
       "gpt-4-0613                  3099\n",
       "claude-2.1                  2859\n",
       "gpt-4-0314                  2087\n",
       "                            ... \n",
       "falcon-180b-chat             145\n",
       "openchat-3.5-0106            108\n",
       "qwen1.5-7b-chat              106\n",
       "qwen1.5-4b-chat              100\n",
       "mistral-7b-instruct-v0.2      54\n",
       "Name: count, Length: 64, dtype: int64"
      ]
     },
     "execution_count": 4,
     "metadata": {},
     "output_type": "execute_result"
    }
   ],
   "source": [
    "train_df['model_a'].value_counts()"
   ]
  },
  {
   "cell_type": "code",
   "execution_count": 5,
   "id": "e9b0b7a0",
   "metadata": {
    "execution": {
     "iopub.execute_input": "2025-07-04T17:52:39.725415Z",
     "iopub.status.busy": "2025-07-04T17:52:39.725221Z",
     "iopub.status.idle": "2025-07-04T17:52:39.733116Z",
     "shell.execute_reply": "2025-07-04T17:52:39.732583Z"
    },
    "papermill": {
     "duration": 0.01373,
     "end_time": "2025-07-04T17:52:39.734114",
     "exception": false,
     "start_time": "2025-07-04T17:52:39.720384",
     "status": "completed"
    },
    "tags": []
   },
   "outputs": [
    {
     "data": {
      "text/plain": [
       "model_b\n",
       "gpt-4-1106-preview          3709\n",
       "gpt-3.5-turbo-0613          3530\n",
       "gpt-4-0613                  3066\n",
       "claude-2.1                  2724\n",
       "claude-instant-1            2051\n",
       "                            ... \n",
       "falcon-180b-chat             141\n",
       "openchat-3.5-0106            136\n",
       "qwen1.5-7b-chat              102\n",
       "qwen1.5-4b-chat              100\n",
       "mistral-7b-instruct-v0.2      46\n",
       "Name: count, Length: 64, dtype: int64"
      ]
     },
     "execution_count": 5,
     "metadata": {},
     "output_type": "execute_result"
    }
   ],
   "source": [
    "train_df['model_b'].value_counts()"
   ]
  },
  {
   "cell_type": "code",
   "execution_count": 6,
   "id": "21492bf2",
   "metadata": {
    "execution": {
     "iopub.execute_input": "2025-07-04T17:52:39.743818Z",
     "iopub.status.busy": "2025-07-04T17:52:39.743386Z",
     "iopub.status.idle": "2025-07-04T17:52:39.751893Z",
     "shell.execute_reply": "2025-07-04T17:52:39.751331Z"
    },
    "papermill": {
     "duration": 0.014268,
     "end_time": "2025-07-04T17:52:39.752898",
     "exception": false,
     "start_time": "2025-07-04T17:52:39.738630",
     "status": "completed"
    },
    "tags": []
   },
   "outputs": [
    {
     "data": {
      "text/plain": [
       "winner_model_a    20064\n",
       "winner_model_b    19652\n",
       "winner_tie        17761\n",
       "dtype: int64"
      ]
     },
     "execution_count": 6,
     "metadata": {},
     "output_type": "execute_result"
    }
   ],
   "source": [
    "train_df.iloc[:,[6,7,8]].sum(axis=0)"
   ]
  },
  {
   "cell_type": "markdown",
   "id": "1bc2cb5e",
   "metadata": {
    "papermill": {
     "duration": 0.004351,
     "end_time": "2025-07-04T17:52:39.762205",
     "exception": false,
     "start_time": "2025-07-04T17:52:39.757854",
     "status": "completed"
    },
    "tags": []
   },
   "source": [
    "### 3. Preprocessing + Encoding labels"
   ]
  },
  {
   "cell_type": "code",
   "execution_count": 7,
   "id": "2bbcae4a",
   "metadata": {
    "execution": {
     "iopub.execute_input": "2025-07-04T17:52:39.771906Z",
     "iopub.status.busy": "2025-07-04T17:52:39.771732Z",
     "iopub.status.idle": "2025-07-04T17:52:39.775802Z",
     "shell.execute_reply": "2025-07-04T17:52:39.775304Z"
    },
    "papermill": {
     "duration": 0.009913,
     "end_time": "2025-07-04T17:52:39.776752",
     "exception": false,
     "start_time": "2025-07-04T17:52:39.766839",
     "status": "completed"
    },
    "tags": []
   },
   "outputs": [],
   "source": [
    "def clean_text(text):\n",
    "    #1. case folding\n",
    "    text = text.lower()\n",
    "    #2. remove html tags\n",
    "    text = re.sub(r\"<.*?>\", \"\", text)\n",
    "    #3. remove URLs\n",
    "    text = re.sub(r\"https?:\\/\\/\\S+|www\\.\\S+\", \"\", text)\n",
    "    #4. remove punctutation\n",
    "    text = text.translate(str.maketrans('', '', string.punctuation))\n",
    "    #5. remove stopwords\n",
    "    stopword_list = stopwords.words('english')\n",
    "    text = [word for word in text.split() if word not in stopword_list]\n",
    "    text = \" \".join(text)\n",
    "    #6. handle emojis\n",
    "    text = emoji.demojize(text)\n",
    "\n",
    "    return text"
   ]
  },
  {
   "cell_type": "code",
   "execution_count": 8,
   "id": "4effc9b0",
   "metadata": {
    "execution": {
     "iopub.execute_input": "2025-07-04T17:52:39.786388Z",
     "iopub.status.busy": "2025-07-04T17:52:39.786204Z",
     "iopub.status.idle": "2025-07-04T17:52:39.789265Z",
     "shell.execute_reply": "2025-07-04T17:52:39.788753Z"
    },
    "papermill": {
     "duration": 0.009001,
     "end_time": "2025-07-04T17:52:39.790282",
     "exception": false,
     "start_time": "2025-07-04T17:52:39.781281",
     "status": "completed"
    },
    "tags": []
   },
   "outputs": [],
   "source": [
    "def replace_emptystring(text):\n",
    "    if (text == ''):\n",
    "        return \"NA\"\n",
    "    return text"
   ]
  },
  {
   "cell_type": "code",
   "execution_count": 9,
   "id": "e5af9130",
   "metadata": {
    "execution": {
     "iopub.execute_input": "2025-07-04T17:52:39.800175Z",
     "iopub.status.busy": "2025-07-04T17:52:39.800004Z",
     "iopub.status.idle": "2025-07-04T17:52:39.802760Z",
     "shell.execute_reply": "2025-07-04T17:52:39.802236Z"
    },
    "papermill": {
     "duration": 0.008814,
     "end_time": "2025-07-04T17:52:39.803740",
     "exception": false,
     "start_time": "2025-07-04T17:52:39.794926",
     "status": "completed"
    },
    "tags": []
   },
   "outputs": [],
   "source": [
    "#One hot encoded\n",
    "#train_df['label'] = [[train_df['winner_model_a'][i], train_df['winner_model_b'][i], train_df['winner_tie'][i]] for i in range(0, len(train_df))]"
   ]
  },
  {
   "cell_type": "code",
   "execution_count": 10,
   "id": "e172ec09",
   "metadata": {
    "execution": {
     "iopub.execute_input": "2025-07-04T17:52:39.813537Z",
     "iopub.status.busy": "2025-07-04T17:52:39.813319Z",
     "iopub.status.idle": "2025-07-04T17:52:40.159798Z",
     "shell.execute_reply": "2025-07-04T17:52:40.159201Z"
    },
    "papermill": {
     "duration": 0.352633,
     "end_time": "2025-07-04T17:52:40.160960",
     "exception": false,
     "start_time": "2025-07-04T17:52:39.808327",
     "status": "completed"
    },
    "tags": []
   },
   "outputs": [],
   "source": [
    "#Class indices\n",
    "train_df['label'] = [0 if train_df['winner_model_a'][i]==1 else(1 if train_df['winner_model_b'][i]==1 else 2) for i in range(0, len(train_df))]"
   ]
  },
  {
   "cell_type": "code",
   "execution_count": 11,
   "id": "2c8a3a0c",
   "metadata": {
    "execution": {
     "iopub.execute_input": "2025-07-04T17:52:40.171772Z",
     "iopub.status.busy": "2025-07-04T17:52:40.171574Z",
     "iopub.status.idle": "2025-07-04T17:55:07.656955Z",
     "shell.execute_reply": "2025-07-04T17:55:07.656106Z"
    },
    "papermill": {
     "duration": 147.492626,
     "end_time": "2025-07-04T17:55:07.658510",
     "exception": false,
     "start_time": "2025-07-04T17:52:40.165884",
     "status": "completed"
    },
    "tags": []
   },
   "outputs": [],
   "source": [
    "train_df['prompt'] = train_df['prompt'].apply(lambda x: clean_text(x))\n",
    "train_df['response_a'] = train_df['response_a'].apply(lambda x: clean_text(x))\n",
    "train_df['response_b'] = train_df['response_b'].apply(lambda x: clean_text(x))\n",
    "\n",
    "test_df['prompt'] = test_df['prompt'].apply(lambda x: clean_text(x))\n",
    "test_df['response_a'] = test_df['response_a'].apply(lambda x: clean_text(x))\n",
    "test_df['response_b'] = test_df['response_b'].apply(lambda x: clean_text(x))"
   ]
  },
  {
   "cell_type": "code",
   "execution_count": 12,
   "id": "e1207977",
   "metadata": {
    "execution": {
     "iopub.execute_input": "2025-07-04T17:55:07.669389Z",
     "iopub.status.busy": "2025-07-04T17:55:07.669181Z",
     "iopub.status.idle": "2025-07-04T17:55:07.724900Z",
     "shell.execute_reply": "2025-07-04T17:55:07.724354Z"
    },
    "papermill": {
     "duration": 0.06214,
     "end_time": "2025-07-04T17:55:07.725938",
     "exception": false,
     "start_time": "2025-07-04T17:55:07.663798",
     "status": "completed"
    },
    "tags": []
   },
   "outputs": [],
   "source": [
    "train_df['prompt'] = train_df['prompt'].apply(lambda x: replace_emptystring(x))\n",
    "train_df['response_a'] = train_df['response_a'].apply(lambda x: replace_emptystring(x))\n",
    "train_df['response_b'] = train_df['response_b'].apply(lambda x: replace_emptystring(x))\n",
    "\n",
    "test_df['prompt'] = test_df['prompt'].apply(lambda x: replace_emptystring(x))\n",
    "test_df['response_a'] = test_df['response_a'].apply(lambda x: replace_emptystring(x))\n",
    "test_df['response_b'] = test_df['response_b'].apply(lambda x: replace_emptystring(x))"
   ]
  },
  {
   "cell_type": "code",
   "execution_count": 13,
   "id": "c57b9937",
   "metadata": {
    "execution": {
     "iopub.execute_input": "2025-07-04T17:55:07.736143Z",
     "iopub.status.busy": "2025-07-04T17:55:07.735935Z",
     "iopub.status.idle": "2025-07-04T17:55:07.749939Z",
     "shell.execute_reply": "2025-07-04T17:55:07.749375Z"
    },
    "papermill": {
     "duration": 0.020107,
     "end_time": "2025-07-04T17:55:07.750884",
     "exception": false,
     "start_time": "2025-07-04T17:55:07.730777",
     "status": "completed"
    },
    "tags": []
   },
   "outputs": [
    {
     "data": {
      "text/plain": [
       "prompt\n",
       "False    57477\n",
       "Name: count, dtype: int64"
      ]
     },
     "execution_count": 13,
     "metadata": {},
     "output_type": "execute_result"
    }
   ],
   "source": [
    "(train_df['prompt']=='').value_counts()"
   ]
  },
  {
   "cell_type": "markdown",
   "id": "f1a1ade4",
   "metadata": {
    "papermill": {
     "duration": 0.004735,
     "end_time": "2025-07-04T17:55:07.760406",
     "exception": false,
     "start_time": "2025-07-04T17:55:07.755671",
     "status": "completed"
    },
    "tags": []
   },
   "source": [
    "### 4. LLM Finetuning\n",
    "#### 4.1 Load Tokenizer"
   ]
  },
  {
   "cell_type": "code",
   "execution_count": 14,
   "id": "c1722836",
   "metadata": {
    "execution": {
     "iopub.execute_input": "2025-07-04T17:55:07.770621Z",
     "iopub.status.busy": "2025-07-04T17:55:07.770385Z",
     "iopub.status.idle": "2025-07-04T17:55:09.090297Z",
     "shell.execute_reply": "2025-07-04T17:55:09.089542Z"
    },
    "papermill": {
     "duration": 1.326575,
     "end_time": "2025-07-04T17:55:09.091684",
     "exception": false,
     "start_time": "2025-07-04T17:55:07.765109",
     "status": "completed"
    },
    "tags": []
   },
   "outputs": [
    {
     "data": {
      "application/vnd.jupyter.widget-view+json": {
       "model_id": "cbdc8fcfe20e4e92b1105e75bd4a6888",
       "version_major": 2,
       "version_minor": 0
      },
      "text/plain": [
       "tokenizer_config.json:   0%|          | 0.00/48.0 [00:00<?, ?B/s]"
      ]
     },
     "metadata": {},
     "output_type": "display_data"
    },
    {
     "data": {
      "application/vnd.jupyter.widget-view+json": {
       "model_id": "db0063837ee845b3b2988dfef4660cb4",
       "version_major": 2,
       "version_minor": 0
      },
      "text/plain": [
       "vocab.txt:   0%|          | 0.00/232k [00:00<?, ?B/s]"
      ]
     },
     "metadata": {},
     "output_type": "display_data"
    },
    {
     "data": {
      "application/vnd.jupyter.widget-view+json": {
       "model_id": "5e8572bf790d410198c8851862705318",
       "version_major": 2,
       "version_minor": 0
      },
      "text/plain": [
       "tokenizer.json:   0%|          | 0.00/466k [00:00<?, ?B/s]"
      ]
     },
     "metadata": {},
     "output_type": "display_data"
    },
    {
     "data": {
      "application/vnd.jupyter.widget-view+json": {
       "model_id": "f0412c4225474b0c9dce2ddb2e93faa5",
       "version_major": 2,
       "version_minor": 0
      },
      "text/plain": [
       "config.json:   0%|          | 0.00/570 [00:00<?, ?B/s]"
      ]
     },
     "metadata": {},
     "output_type": "display_data"
    }
   ],
   "source": [
    "tokenizer = BertTokenizer.from_pretrained('bert-base-uncased', do_lower_case = True)"
   ]
  },
  {
   "cell_type": "markdown",
   "id": "3228bb4c",
   "metadata": {
    "papermill": {
     "duration": 0.005073,
     "end_time": "2025-07-04T17:55:09.102540",
     "exception": false,
     "start_time": "2025-07-04T17:55:09.097467",
     "status": "completed"
    },
    "tags": []
   },
   "source": [
    "#### 4.2 Configure maxlength of encoder\n",
    "Setting maxlength of encoder too high wastes memory, while setting it too low cuts off important context"
   ]
  },
  {
   "cell_type": "code",
   "execution_count": 15,
   "id": "d505bdaf",
   "metadata": {
    "execution": {
     "iopub.execute_input": "2025-07-04T17:55:09.114113Z",
     "iopub.status.busy": "2025-07-04T17:55:09.113516Z",
     "iopub.status.idle": "2025-07-04T18:00:47.039524Z",
     "shell.execute_reply": "2025-07-04T18:00:47.038646Z"
    },
    "papermill": {
     "duration": 337.938458,
     "end_time": "2025-07-04T18:00:47.046247",
     "exception": false,
     "start_time": "2025-07-04T17:55:09.107789",
     "status": "completed"
    },
    "tags": []
   },
   "outputs": [
    {
     "name": "stderr",
     "output_type": "stream",
     "text": [
      "Token indices sequence length is longer than the specified maximum sequence length for this model (554 > 512). Running this sequence through the model will result in indexing errors\n"
     ]
    },
    {
     "name": "stdout",
     "output_type": "stream",
     "text": [
      "4477\n",
      "8552\n",
      "9657\n"
     ]
    }
   ],
   "source": [
    "#MAX LENGTH OF EACH INPUT\n",
    "maxlength_encoded_prompt = 0\n",
    "maxlength_encoded_response1 = 0\n",
    "maxlength_encoded_response2 = 0\n",
    "for prompt, response1, response2 in zip(train_df['prompt'], train_df['response_a'] ,train_df['response_b']):\n",
    "    encoded_prompt = tokenizer.encode(prompt, add_special_tokens=True)\n",
    "    encoded_response1 = tokenizer.encode(response1, add_special_tokens=True)\n",
    "    encoded_response2 = tokenizer.encode(response2, add_special_tokens=True)\n",
    "    maxlength_encoded_prompt = max(maxlength_encoded_prompt, len(encoded_prompt))\n",
    "    maxlength_encoded_response1 = max(maxlength_encoded_response1, len(encoded_response1))\n",
    "    maxlength_encoded_response2 = max(maxlength_encoded_response2, len(encoded_response2))\n",
    "\n",
    "\n",
    "print(maxlength_encoded_prompt)\n",
    "print(maxlength_encoded_response1)\n",
    "print(maxlength_encoded_response2)"
   ]
  },
  {
   "cell_type": "code",
   "execution_count": 16,
   "id": "23239b38",
   "metadata": {
    "execution": {
     "iopub.execute_input": "2025-07-04T18:00:47.058209Z",
     "iopub.status.busy": "2025-07-04T18:00:47.057689Z",
     "iopub.status.idle": "2025-07-04T18:06:24.732985Z",
     "shell.execute_reply": "2025-07-04T18:06:24.732295Z"
    },
    "papermill": {
     "duration": 337.688285,
     "end_time": "2025-07-04T18:06:24.739978",
     "exception": false,
     "start_time": "2025-07-04T18:00:47.051693",
     "status": "completed"
    },
    "tags": []
   },
   "outputs": [
    {
     "name": "stdout",
     "output_type": "stream",
     "text": [
      "52.93219896654314\n",
      "181.41056422569028\n",
      "182.86933903996382\n"
     ]
    }
   ],
   "source": [
    "#AVERAGE LENGTH OF EACH INPUT\n",
    "avglength_encoded_prompt = 0\n",
    "avglength_encoded_response1 = 0\n",
    "avglength_encoded_response2 = 0\n",
    "for prompt, response1, response2 in zip(train_df['prompt'], train_df['response_a'] ,train_df['response_b']):\n",
    "    encoded_prompt = tokenizer.encode(prompt, add_special_tokens=True)\n",
    "    encoded_response1 = tokenizer.encode(response1, add_special_tokens=True)\n",
    "    encoded_response2 = tokenizer.encode(response2, add_special_tokens=True)\n",
    "    avglength_encoded_prompt += len(encoded_prompt)\n",
    "    avglength_encoded_response1 += len(encoded_response1)\n",
    "    avglength_encoded_response2 += len(encoded_response2)\n",
    "\n",
    "print(avglength_encoded_prompt / len(train_df))\n",
    "print(avglength_encoded_response1 / len(train_df))\n",
    "print(avglength_encoded_response2 / len(train_df))"
   ]
  },
  {
   "cell_type": "code",
   "execution_count": 17,
   "id": "0531b400",
   "metadata": {
    "execution": {
     "iopub.execute_input": "2025-07-04T18:06:24.751611Z",
     "iopub.status.busy": "2025-07-04T18:06:24.751361Z",
     "iopub.status.idle": "2025-07-04T18:12:01.570109Z",
     "shell.execute_reply": "2025-07-04T18:12:01.569317Z"
    },
    "papermill": {
     "duration": 336.877466,
     "end_time": "2025-07-04T18:12:01.622859",
     "exception": false,
     "start_time": "2025-07-04T18:06:24.745393",
     "status": "completed"
    },
    "tags": []
   },
   "outputs": [
    {
     "name": "stdout",
     "output_type": "stream",
     "text": [
      "14\n",
      "134\n",
      "135\n",
      "900\n",
      "2700\n",
      "2731\n"
     ]
    }
   ],
   "source": [
    "#MEDIAN LENGTH OF EACH INPUT\n",
    "lengths_encoded_prompt = []\n",
    "lengths_encoded_response1 = []\n",
    "lengths_encoded_response2 = []\n",
    "for prompt, response1, response2 in zip(train_df['prompt'], train_df['response_a'] ,train_df['response_b']):\n",
    "    encoded_prompt = tokenizer.encode(prompt, add_special_tokens=True)\n",
    "    encoded_response1 = tokenizer.encode(response1, add_special_tokens=True)\n",
    "    encoded_response2 = tokenizer.encode(response2, add_special_tokens=True)\n",
    "    lengths_encoded_prompt.append(len(encoded_prompt))\n",
    "    lengths_encoded_response1.append(len(encoded_response1))\n",
    "    lengths_encoded_response2.append(len(encoded_response2))\n",
    "\n",
    "lengths_encoded_prompt.sort()\n",
    "lengths_encoded_response1.sort()\n",
    "lengths_encoded_response2.sort()\n",
    "\n",
    "lengths_encoded_prompt = np.array(lengths_encoded_prompt)\n",
    "lengths_encoded_response1 = np.array(lengths_encoded_response1)\n",
    "lengths_encoded_response2 = np.array(lengths_encoded_response2)\n",
    "print(lengths_encoded_prompt[len(lengths_encoded_prompt)//2])\n",
    "print(lengths_encoded_response1[len(lengths_encoded_response1)//2])\n",
    "print(lengths_encoded_response2[len(lengths_encoded_response2)//2])\n",
    "\n",
    "#900 prompts exceed 512 size [out of 57K], 2700 response1s and 2731 response2s => we can ignore these cases where only prompt context fits in the max_length\n",
    "print((lengths_encoded_prompt > 512).sum())\n",
    "print((lengths_encoded_response1 > 512).sum())\n",
    "print((lengths_encoded_response2 > 512).sum())"
   ]
  },
  {
   "cell_type": "markdown",
   "id": "b86aa1d6",
   "metadata": {
    "papermill": {
     "duration": 0.005249,
     "end_time": "2025-07-04T18:12:01.633664",
     "exception": false,
     "start_time": "2025-07-04T18:12:01.628415",
     "status": "completed"
    },
    "tags": []
   },
   "source": [
    "#### Conclusion:\n",
    "Maximum length, average length, median length comparison for each input: </br>\n",
    "\n",
    "| | Maximum length | Average length | Median length |\n",
    "| ------ | ------ | ------ | ------ |\n",
    "| Prompt | 4477 | 53 | 14 |\n",
    "| Response1 | 8552 | 181 | 134 |\n",
    "| Response2 | 9657 | 183 | 135 |\n",
    "\n",
    "Since bert is limited to max #subtokens to be 512, we keep first 100 tokens reserved for prompt, followed by 204 tokens for response1 and response2 each. This is done to ensure that some context for all 3 inputs - prompt, response1 and response2 - is available to bert to take a decision and the context is not overpowered by a single input. The division is done based on average and median values of each input.\n"
   ]
  },
  {
   "cell_type": "markdown",
   "id": "9b7b3597",
   "metadata": {
    "papermill": {
     "duration": 0.005167,
     "end_time": "2025-07-04T18:12:01.644171",
     "exception": false,
     "start_time": "2025-07-04T18:12:01.639004",
     "status": "completed"
    },
    "tags": []
   },
   "source": [
    "#### 4.3 Encoding train dataset"
   ]
  },
  {
   "cell_type": "code",
   "execution_count": 18,
   "id": "133cb765",
   "metadata": {
    "execution": {
     "iopub.execute_input": "2025-07-04T18:12:01.656295Z",
     "iopub.status.busy": "2025-07-04T18:12:01.655548Z",
     "iopub.status.idle": "2025-07-04T18:16:26.933511Z",
     "shell.execute_reply": "2025-07-04T18:16:26.932779Z"
    },
    "papermill": {
     "duration": 265.285872,
     "end_time": "2025-07-04T18:16:26.935344",
     "exception": false,
     "start_time": "2025-07-04T18:12:01.649472",
     "status": "completed"
    },
    "tags": []
   },
   "outputs": [],
   "source": [
    "input_encodings  = []\n",
    "attention_masks = []\n",
    "\n",
    "for prompt, response1, response2 in zip(train_df['prompt'], train_df['response_a'], train_df['response_b']):\n",
    "    prompt_encoded_dict = tokenizer(\n",
    "        prompt,\n",
    "        add_special_tokens = False,\n",
    "        max_length = 100,\n",
    "        padding = 'max_length',\n",
    "        return_attention_mask = True,\n",
    "        return_tensors = 'pt',\n",
    "        truncation=True\n",
    "    )\n",
    "\n",
    "    response1_encoded_dict = tokenizer(\n",
    "        response1,\n",
    "        add_special_tokens = False,\n",
    "        max_length = 204,\n",
    "        padding = 'max_length',\n",
    "        return_attention_mask = True,\n",
    "        return_tensors = 'pt',\n",
    "        truncation=True\n",
    "    )\n",
    "\n",
    "    response2_encoded_dict = tokenizer(\n",
    "        prompt,\n",
    "        add_special_tokens = False,\n",
    "        max_length = 204,\n",
    "        padding = 'max_length',\n",
    "        return_attention_mask = True,\n",
    "        return_tensors = 'pt',\n",
    "        truncation=True\n",
    "    )\n",
    "\n",
    "    input_id = torch.cat(\n",
    "        [torch.tensor([101]), \n",
    "         prompt_encoded_dict['input_ids'][0], \n",
    "         torch.tensor([102]), \n",
    "         response1_encoded_dict['input_ids'][0], \n",
    "         torch.tensor([102]),\n",
    "         response2_encoded_dict['input_ids'][0],\n",
    "         torch.tensor([102])], dim=0)\n",
    "    attention_mask = torch.cat(\n",
    "        [torch.tensor([1]), \n",
    "         prompt_encoded_dict['attention_mask'][0], \n",
    "         torch.tensor([1]), \n",
    "         response1_encoded_dict['attention_mask'][0], \n",
    "         torch.tensor([1]),\n",
    "         response2_encoded_dict['attention_mask'][0],\n",
    "         torch.tensor([1])], dim=0)\n",
    "    input_encodings.append(input_id)\n",
    "    attention_masks.append(attention_mask)\n",
    "    \n",
    "dataset = TensorDataset(\n",
    "    torch.stack(input_encodings), \n",
    "    torch.stack(attention_masks),\n",
    "    torch.tensor(train_df['label']))"
   ]
  },
  {
   "cell_type": "code",
   "execution_count": 19,
   "id": "781cdfba",
   "metadata": {
    "execution": {
     "iopub.execute_input": "2025-07-04T18:16:26.948852Z",
     "iopub.status.busy": "2025-07-04T18:16:26.948631Z",
     "iopub.status.idle": "2025-07-04T18:16:26.972114Z",
     "shell.execute_reply": "2025-07-04T18:16:26.971467Z"
    },
    "papermill": {
     "duration": 0.031044,
     "end_time": "2025-07-04T18:16:26.973159",
     "exception": false,
     "start_time": "2025-07-04T18:16:26.942115",
     "status": "completed"
    },
    "tags": []
   },
   "outputs": [],
   "source": [
    "test_input_encodings  = []\n",
    "test_attention_masks = []\n",
    "\n",
    "for prompt, response1, response2 in zip(test_df['prompt'], test_df['response_a'], test_df['response_b']):\n",
    "    prompt_encoded_dict = tokenizer(\n",
    "        prompt,\n",
    "        add_special_tokens = False,\n",
    "        max_length = 100,\n",
    "        padding = 'max_length',\n",
    "        return_attention_mask = True,\n",
    "        return_tensors = 'pt',\n",
    "        truncation=True\n",
    "    )\n",
    "\n",
    "    response1_encoded_dict = tokenizer(\n",
    "        response1,\n",
    "        add_special_tokens = False,\n",
    "        max_length = 204,\n",
    "        padding = 'max_length',\n",
    "        return_attention_mask = True,\n",
    "        return_tensors = 'pt',\n",
    "        truncation=True\n",
    "    )\n",
    "\n",
    "    response2_encoded_dict = tokenizer(\n",
    "        prompt,\n",
    "        add_special_tokens = False,\n",
    "        max_length = 204,\n",
    "        padding = 'max_length',\n",
    "        return_attention_mask = True,\n",
    "        return_tensors = 'pt',\n",
    "        truncation=True\n",
    "    )\n",
    "\n",
    "    test_input_id = torch.cat(\n",
    "        [torch.tensor([101]), \n",
    "         prompt_encoded_dict['input_ids'][0], \n",
    "         torch.tensor([102]), \n",
    "         response1_encoded_dict['input_ids'][0], \n",
    "         torch.tensor([102]),\n",
    "         response2_encoded_dict['input_ids'][0],\n",
    "         torch.tensor([102])], dim=0)\n",
    "    test_attention_mask = torch.cat(\n",
    "        [torch.tensor([1]), \n",
    "         prompt_encoded_dict['attention_mask'][0], \n",
    "         torch.tensor([1]), \n",
    "         response1_encoded_dict['attention_mask'][0], \n",
    "         torch.tensor([1]),\n",
    "         response2_encoded_dict['attention_mask'][0],\n",
    "         torch.tensor([1])], dim=0)\n",
    "    test_input_encodings.append(test_input_id)\n",
    "    test_attention_masks.append(test_attention_mask)\n",
    "    \n",
    "test_dataset = TensorDataset(\n",
    "    torch.stack(test_input_encodings), \n",
    "    torch.stack(test_attention_masks),\n",
    "    torch.tensor(test_df['id']))"
   ]
  },
  {
   "cell_type": "markdown",
   "id": "22da411e",
   "metadata": {
    "papermill": {
     "duration": 0.005468,
     "end_time": "2025-07-04T18:16:26.984119",
     "exception": false,
     "start_time": "2025-07-04T18:16:26.978651",
     "status": "completed"
    },
    "tags": []
   },
   "source": [
    "#### 4.4 Train-Val Split"
   ]
  },
  {
   "cell_type": "code",
   "execution_count": 20,
   "id": "5b53f002",
   "metadata": {
    "execution": {
     "iopub.execute_input": "2025-07-04T18:16:26.995744Z",
     "iopub.status.busy": "2025-07-04T18:16:26.995529Z",
     "iopub.status.idle": "2025-07-04T18:16:27.003733Z",
     "shell.execute_reply": "2025-07-04T18:16:27.003196Z"
    },
    "papermill": {
     "duration": 0.015169,
     "end_time": "2025-07-04T18:16:27.004757",
     "exception": false,
     "start_time": "2025-07-04T18:16:26.989588",
     "status": "completed"
    },
    "tags": []
   },
   "outputs": [],
   "source": [
    "train_dataset, val_dataset = random_split(dataset, [int(0.8*len(dataset)), len(dataset)-int(0.8*len(dataset))])"
   ]
  },
  {
   "cell_type": "markdown",
   "id": "1279e0bb",
   "metadata": {
    "papermill": {
     "duration": 0.005767,
     "end_time": "2025-07-04T18:16:27.017545",
     "exception": false,
     "start_time": "2025-07-04T18:16:27.011778",
     "status": "completed"
    },
    "tags": []
   },
   "source": [
    "#### 4.5 Prepare Dataloader"
   ]
  },
  {
   "cell_type": "code",
   "execution_count": 21,
   "id": "c53990ad",
   "metadata": {
    "execution": {
     "iopub.execute_input": "2025-07-04T18:16:27.028997Z",
     "iopub.status.busy": "2025-07-04T18:16:27.028797Z",
     "iopub.status.idle": "2025-07-04T18:16:27.032779Z",
     "shell.execute_reply": "2025-07-04T18:16:27.032260Z"
    },
    "papermill": {
     "duration": 0.010835,
     "end_time": "2025-07-04T18:16:27.033762",
     "exception": false,
     "start_time": "2025-07-04T18:16:27.022927",
     "status": "completed"
    },
    "tags": []
   },
   "outputs": [],
   "source": [
    "train_dataloader = DataLoader(\n",
    "    train_dataset,\n",
    "    sampler = RandomSampler(train_dataset),\n",
    "    batch_size = 32\n",
    ")\n",
    "\n",
    "val_dataloader = DataLoader(\n",
    "    val_dataset,\n",
    "    sampler = SequentialSampler(val_dataset),\n",
    "    batch_size = 32\n",
    ")\n",
    "\n",
    "test_dataloader = DataLoader(\n",
    "    test_dataset,\n",
    "    sampler = SequentialSampler(test_dataset),\n",
    "    batch_size = 32\n",
    ")"
   ]
  },
  {
   "cell_type": "markdown",
   "id": "57755d9d",
   "metadata": {
    "papermill": {
     "duration": 0.005221,
     "end_time": "2025-07-04T18:16:27.044476",
     "exception": false,
     "start_time": "2025-07-04T18:16:27.039255",
     "status": "completed"
    },
    "tags": []
   },
   "source": [
    "#### 4.6 Define model + optimizer"
   ]
  },
  {
   "cell_type": "code",
   "execution_count": 22,
   "id": "713f440e",
   "metadata": {
    "execution": {
     "iopub.execute_input": "2025-07-04T18:16:27.055932Z",
     "iopub.status.busy": "2025-07-04T18:16:27.055737Z",
     "iopub.status.idle": "2025-07-04T18:16:29.744313Z",
     "shell.execute_reply": "2025-07-04T18:16:29.743741Z"
    },
    "papermill": {
     "duration": 2.695895,
     "end_time": "2025-07-04T18:16:29.745743",
     "exception": false,
     "start_time": "2025-07-04T18:16:27.049848",
     "status": "completed"
    },
    "tags": []
   },
   "outputs": [
    {
     "data": {
      "application/vnd.jupyter.widget-view+json": {
       "model_id": "9bee3386249f4e648ba72723045d194d",
       "version_major": 2,
       "version_minor": 0
      },
      "text/plain": [
       "model.safetensors:   0%|          | 0.00/440M [00:00<?, ?B/s]"
      ]
     },
     "metadata": {},
     "output_type": "display_data"
    },
    {
     "name": "stderr",
     "output_type": "stream",
     "text": [
      "Some weights of BertForSequenceClassification were not initialized from the model checkpoint at bert-base-uncased and are newly initialized: ['classifier.bias', 'classifier.weight']\n",
      "You should probably TRAIN this model on a down-stream task to be able to use it for predictions and inference.\n"
     ]
    }
   ],
   "source": [
    "model = BertForSequenceClassification.from_pretrained(\n",
    "    \"bert-base-uncased\",\n",
    "    num_labels = 3,\n",
    "    output_attentions = False,\n",
    "    output_hidden_states = False\n",
    ")\n",
    "model = model.to(device)"
   ]
  },
  {
   "cell_type": "code",
   "execution_count": 23,
   "id": "f8180264",
   "metadata": {
    "execution": {
     "iopub.execute_input": "2025-07-04T18:16:29.758608Z",
     "iopub.status.busy": "2025-07-04T18:16:29.758314Z",
     "iopub.status.idle": "2025-07-04T18:16:29.762379Z",
     "shell.execute_reply": "2025-07-04T18:16:29.761895Z"
    },
    "papermill": {
     "duration": 0.011432,
     "end_time": "2025-07-04T18:16:29.763401",
     "exception": false,
     "start_time": "2025-07-04T18:16:29.751969",
     "status": "completed"
    },
    "tags": []
   },
   "outputs": [],
   "source": [
    "optimizer = torch.optim.Adam(model.parameters())"
   ]
  },
  {
   "cell_type": "markdown",
   "id": "4ada40e7",
   "metadata": {
    "papermill": {
     "duration": 0.005497,
     "end_time": "2025-07-04T18:16:29.774710",
     "exception": false,
     "start_time": "2025-07-04T18:16:29.769213",
     "status": "completed"
    },
    "tags": []
   },
   "source": [
    "#### 4.7 Training loop"
   ]
  },
  {
   "cell_type": "code",
   "execution_count": 24,
   "id": "41c1665e",
   "metadata": {
    "execution": {
     "iopub.execute_input": "2025-07-04T18:16:29.786784Z",
     "iopub.status.busy": "2025-07-04T18:16:29.786581Z",
     "iopub.status.idle": "2025-07-04T18:16:29.793686Z",
     "shell.execute_reply": "2025-07-04T18:16:29.793204Z"
    },
    "papermill": {
     "duration": 0.014344,
     "end_time": "2025-07-04T18:16:29.794687",
     "exception": false,
     "start_time": "2025-07-04T18:16:29.780343",
     "status": "completed"
    },
    "tags": []
   },
   "outputs": [],
   "source": [
    "seed_val = 42\n",
    "random.seed(seed_val)\n",
    "np.random.seed(seed_val)\n",
    "torch.manual_seed(seed_val)\n",
    "torch.cuda.manual_seed_all(seed_val)"
   ]
  },
  {
   "cell_type": "code",
   "execution_count": 25,
   "id": "bfa38ef2",
   "metadata": {
    "execution": {
     "iopub.execute_input": "2025-07-04T18:16:29.806846Z",
     "iopub.status.busy": "2025-07-04T18:16:29.806656Z",
     "iopub.status.idle": "2025-07-04T18:16:29.810101Z",
     "shell.execute_reply": "2025-07-04T18:16:29.809464Z"
    },
    "papermill": {
     "duration": 0.01079,
     "end_time": "2025-07-04T18:16:29.811167",
     "exception": false,
     "start_time": "2025-07-04T18:16:29.800377",
     "status": "completed"
    },
    "tags": []
   },
   "outputs": [],
   "source": [
    "def get_accuracy(predictions, ground_truths):\n",
    "    pred = np.argmax(predictions, axis=1)\n",
    "    return np.sum(pred==ground_truths) / len(ground_truths)"
   ]
  },
  {
   "cell_type": "code",
   "execution_count": 26,
   "id": "50b1a3aa",
   "metadata": {
    "execution": {
     "iopub.execute_input": "2025-07-04T18:16:29.823272Z",
     "iopub.status.busy": "2025-07-04T18:16:29.823103Z",
     "iopub.status.idle": "2025-07-04T20:56:33.949992Z",
     "shell.execute_reply": "2025-07-04T20:56:33.949228Z"
    },
    "papermill": {
     "duration": 9604.140026,
     "end_time": "2025-07-04T20:56:33.956856",
     "exception": false,
     "start_time": "2025-07-04T18:16:29.816830",
     "status": "completed"
    },
    "tags": []
   },
   "outputs": [
    {
     "name": "stdout",
     "output_type": "stream",
     "text": [
      "Epoch : 0 | Training loss : 1.1092377686218495\n",
      "Val loss : 1.1156544884045918 | Val accuracy : 0.3451388888888889\n",
      "Epoch : 1 | Training loss : 1.0998592019993643\n",
      "Val loss : 1.0984774175617429 | Val accuracy : 0.35260416666666666\n",
      "Epoch : 2 | Training loss : 1.0988804048851455\n",
      "Val loss : 1.0969997240437401 | Val accuracy : 0.35260416666666666\n"
     ]
    }
   ],
   "source": [
    "best_eval_accuracy = 0.0\n",
    "for epoch in range(0, 3):\n",
    "    #train\n",
    "    model.train()\n",
    "    train_loss = 0.0\n",
    "    for (step, batch) in enumerate(train_dataloader):\n",
    "        batch_input = batch[0].to(device)\n",
    "        batch_attentionmask = batch[1].to(device)\n",
    "        batch_labels = batch[2].to(device)\n",
    "\n",
    "        optimizer.zero_grad()\n",
    "        output = model(batch_input, \n",
    "                       token_type_ids = None, \n",
    "                       attention_mask = batch_attentionmask, \n",
    "                       labels = batch_labels)\n",
    "        \n",
    "        loss = output.loss\n",
    "        train_loss += loss.item()\n",
    "        loss.backward()\n",
    "        torch.nn.utils.clip_grad_norm_(model.parameters(), 1.0)\n",
    "        optimizer.step()\n",
    "    print(f\"Epoch : {epoch} | Training loss : {train_loss / len(train_dataloader)}\")\n",
    "\n",
    "    #val\n",
    "    model.eval()\n",
    "    val_loss = 0.0\n",
    "    val_accuracy = 0.0\n",
    "    for (step, batch) in enumerate(val_dataloader):\n",
    "        batch_input = batch[0].to(device)\n",
    "        batch_attentionmask = batch[1].to(device)\n",
    "        batch_labels = batch[2].to(device)\n",
    "        with torch.no_grad():\n",
    "            output = model(batch_input, \n",
    "                       token_type_ids = None, \n",
    "                       attention_mask = batch_attentionmask, \n",
    "                       labels = batch_labels)\n",
    "        loss = output.loss\n",
    "        val_loss += loss.item()\n",
    "        logits = output.logits\n",
    "        logits = logits.detach().cpu().numpy()\n",
    "        ground_truths = batch_labels.to('cpu').numpy()\n",
    "        val_accuracy += get_accuracy(logits, ground_truths)\n",
    "    print(f\"Val loss : {val_loss / len(val_dataloader)} | Val accuracy : {val_accuracy / len(val_dataloader)}\")\n",
    "    if ((val_accuracy / len(val_dataloader)) > best_eval_accuracy):\n",
    "        torch.save(model, 'bert-model')\n",
    "        best_eval_accuracy = val_accuracy / len(val_dataloader)"
   ]
  },
  {
   "cell_type": "code",
   "execution_count": 27,
   "id": "4d51445c",
   "metadata": {
    "execution": {
     "iopub.execute_input": "2025-07-04T20:56:33.970024Z",
     "iopub.status.busy": "2025-07-04T20:56:33.969807Z",
     "iopub.status.idle": "2025-07-04T20:56:34.322366Z",
     "shell.execute_reply": "2025-07-04T20:56:34.321580Z"
    },
    "papermill": {
     "duration": 0.360804,
     "end_time": "2025-07-04T20:56:34.323870",
     "exception": false,
     "start_time": "2025-07-04T20:56:33.963066",
     "status": "completed"
    },
    "tags": []
   },
   "outputs": [],
   "source": [
    "model = torch.load('bert-model', weights_only=False)"
   ]
  },
  {
   "cell_type": "markdown",
   "id": "9ee9b02c",
   "metadata": {
    "papermill": {
     "duration": 0.005982,
     "end_time": "2025-07-04T20:56:34.336319",
     "exception": false,
     "start_time": "2025-07-04T20:56:34.330337",
     "status": "completed"
    },
    "tags": []
   },
   "source": [
    "#### 4.7 Get predictions on test set"
   ]
  },
  {
   "cell_type": "code",
   "execution_count": 28,
   "id": "92254c3f",
   "metadata": {
    "execution": {
     "iopub.execute_input": "2025-07-04T20:56:34.349145Z",
     "iopub.status.busy": "2025-07-04T20:56:34.348911Z",
     "iopub.status.idle": "2025-07-04T20:56:34.406971Z",
     "shell.execute_reply": "2025-07-04T20:56:34.406228Z"
    },
    "papermill": {
     "duration": 0.065799,
     "end_time": "2025-07-04T20:56:34.408106",
     "exception": false,
     "start_time": "2025-07-04T20:56:34.342307",
     "status": "completed"
    },
    "tags": []
   },
   "outputs": [],
   "source": [
    "model.eval()\n",
    "predictions = None\n",
    "for (step, batch) in enumerate(test_dataloader):\n",
    "    batch_input = batch[0].to(device)\n",
    "    batch_attentionmask = batch[1].to(device)\n",
    "    batch_id = batch[2].reshape(-1,1)\n",
    "    with torch.no_grad():\n",
    "        output = model(batch_input, \n",
    "                    token_type_ids = None, \n",
    "                    attention_mask = batch_attentionmask)\n",
    "    logits = output.logits\n",
    "    logits = logits.detach().cpu().numpy()\n",
    "    pred = torch.tensor(softmax(logits, axis=1))\n",
    "    pred = torch.cat([batch_id, pred], dim=1).numpy()\n",
    "    if (predictions==None):\n",
    "        predictions = pred\n",
    "    else:\n",
    "        predictions = np.concatenate((predictions, pred), axis=0)"
   ]
  },
  {
   "cell_type": "code",
   "execution_count": 29,
   "id": "acc76bb0",
   "metadata": {
    "execution": {
     "iopub.execute_input": "2025-07-04T20:56:34.421203Z",
     "iopub.status.busy": "2025-07-04T20:56:34.420994Z",
     "iopub.status.idle": "2025-07-04T20:56:34.442217Z",
     "shell.execute_reply": "2025-07-04T20:56:34.441659Z"
    },
    "papermill": {
     "duration": 0.028973,
     "end_time": "2025-07-04T20:56:34.443273",
     "exception": false,
     "start_time": "2025-07-04T20:56:34.414300",
     "status": "completed"
    },
    "tags": []
   },
   "outputs": [
    {
     "data": {
      "text/html": [
       "<div>\n",
       "<style scoped>\n",
       "    .dataframe tbody tr th:only-of-type {\n",
       "        vertical-align: middle;\n",
       "    }\n",
       "\n",
       "    .dataframe tbody tr th {\n",
       "        vertical-align: top;\n",
       "    }\n",
       "\n",
       "    .dataframe thead th {\n",
       "        text-align: right;\n",
       "    }\n",
       "</style>\n",
       "<table border=\"1\" class=\"dataframe\">\n",
       "  <thead>\n",
       "    <tr style=\"text-align: right;\">\n",
       "      <th></th>\n",
       "      <th>id</th>\n",
       "      <th>winner_model_a</th>\n",
       "      <th>winner_model_b</th>\n",
       "      <th>winner_tie</th>\n",
       "    </tr>\n",
       "  </thead>\n",
       "  <tbody>\n",
       "    <tr>\n",
       "      <th>0</th>\n",
       "      <td>136060.0</td>\n",
       "      <td>0.373595</td>\n",
       "      <td>0.315166</td>\n",
       "      <td>0.311239</td>\n",
       "    </tr>\n",
       "    <tr>\n",
       "      <th>1</th>\n",
       "      <td>211333.0</td>\n",
       "      <td>0.373595</td>\n",
       "      <td>0.315166</td>\n",
       "      <td>0.311239</td>\n",
       "    </tr>\n",
       "    <tr>\n",
       "      <th>2</th>\n",
       "      <td>1233961.0</td>\n",
       "      <td>0.373595</td>\n",
       "      <td>0.315166</td>\n",
       "      <td>0.311239</td>\n",
       "    </tr>\n",
       "  </tbody>\n",
       "</table>\n",
       "</div>"
      ],
      "text/plain": [
       "          id  winner_model_a  winner_model_b  winner_tie\n",
       "0   136060.0        0.373595        0.315166    0.311239\n",
       "1   211333.0        0.373595        0.315166    0.311239\n",
       "2  1233961.0        0.373595        0.315166    0.311239"
      ]
     },
     "execution_count": 29,
     "metadata": {},
     "output_type": "execute_result"
    }
   ],
   "source": [
    "submission = pd.DataFrame({\n",
    "    'id' : predictions[:,0],\n",
    "    'winner_model_a' : predictions[:,1],\n",
    "    'winner_model_b' : predictions[:,2],\n",
    "    'winner_tie' : predictions[:,3]\n",
    "})\n",
    "submission.to_csv('submission.csv', index=False)\n",
    "submission.head()"
   ]
  }
 ],
 "metadata": {
  "kaggle": {
   "accelerator": "none",
   "dataSources": [
    {
     "databundleVersionId": 9809560,
     "sourceId": 86518,
     "sourceType": "competition"
    }
   ],
   "dockerImageVersionId": 31040,
   "isGpuEnabled": false,
   "isInternetEnabled": true,
   "language": "python",
   "sourceType": "notebook"
  },
  "kernelspec": {
   "display_name": "Python 3",
   "language": "python",
   "name": "python3"
  },
  "language_info": {
   "codemirror_mode": {
    "name": "ipython",
    "version": 3
   },
   "file_extension": ".py",
   "mimetype": "text/x-python",
   "name": "python",
   "nbconvert_exporter": "python",
   "pygments_lexer": "ipython3",
   "version": "3.11.11"
  },
  "papermill": {
   "default_parameters": {},
   "duration": 11074.474235,
   "end_time": "2025-07-04T20:56:37.909523",
   "environment_variables": {},
   "exception": null,
   "input_path": "__notebook__.ipynb",
   "output_path": "__notebook__.ipynb",
   "parameters": {},
   "start_time": "2025-07-04T17:52:03.435288",
   "version": "2.6.0"
  },
  "widgets": {
   "application/vnd.jupyter.widget-state+json": {
    "state": {
     "0232bb450b434a3ebbc4f3f5dd89aabc": {
      "model_module": "@jupyter-widgets/controls",
      "model_module_version": "2.0.0",
      "model_name": "FloatProgressModel",
      "state": {
       "_dom_classes": [],
       "_model_module": "@jupyter-widgets/controls",
       "_model_module_version": "2.0.0",
       "_model_name": "FloatProgressModel",
       "_view_count": null,
       "_view_module": "@jupyter-widgets/controls",
       "_view_module_version": "2.0.0",
       "_view_name": "ProgressView",
       "bar_style": "success",
       "description": "",
       "description_allow_html": false,
       "layout": "IPY_MODEL_33ba3941c873412c8bce19c27aea05cd",
       "max": 570.0,
       "min": 0.0,
       "orientation": "horizontal",
       "style": "IPY_MODEL_dd94b13c189943499fcf99f68fa4f666",
       "tabbable": null,
       "tooltip": null,
       "value": 570.0
      }
     },
     "094901fbd5f5470980a1ec32416e1838": {
      "model_module": "@jupyter-widgets/controls",
      "model_module_version": "2.0.0",
      "model_name": "HTMLStyleModel",
      "state": {
       "_model_module": "@jupyter-widgets/controls",
       "_model_module_version": "2.0.0",
       "_model_name": "HTMLStyleModel",
       "_view_count": null,
       "_view_module": "@jupyter-widgets/base",
       "_view_module_version": "2.0.0",
       "_view_name": "StyleView",
       "background": null,
       "description_width": "",
       "font_size": null,
       "text_color": null
      }
     },
     "0a0c82641c1a450f99b4b0d1f1a47e94": {
      "model_module": "@jupyter-widgets/controls",
      "model_module_version": "2.0.0",
      "model_name": "HTMLStyleModel",
      "state": {
       "_model_module": "@jupyter-widgets/controls",
       "_model_module_version": "2.0.0",
       "_model_name": "HTMLStyleModel",
       "_view_count": null,
       "_view_module": "@jupyter-widgets/base",
       "_view_module_version": "2.0.0",
       "_view_name": "StyleView",
       "background": null,
       "description_width": "",
       "font_size": null,
       "text_color": null
      }
     },
     "0cb0bc0f78bf4e6bb82cb30182c9fc16": {
      "model_module": "@jupyter-widgets/controls",
      "model_module_version": "2.0.0",
      "model_name": "HTMLStyleModel",
      "state": {
       "_model_module": "@jupyter-widgets/controls",
       "_model_module_version": "2.0.0",
       "_model_name": "HTMLStyleModel",
       "_view_count": null,
       "_view_module": "@jupyter-widgets/base",
       "_view_module_version": "2.0.0",
       "_view_name": "StyleView",
       "background": null,
       "description_width": "",
       "font_size": null,
       "text_color": null
      }
     },
     "0e57c998cf0c446bbbfd66d8c526d3f1": {
      "model_module": "@jupyter-widgets/controls",
      "model_module_version": "2.0.0",
      "model_name": "FloatProgressModel",
      "state": {
       "_dom_classes": [],
       "_model_module": "@jupyter-widgets/controls",
       "_model_module_version": "2.0.0",
       "_model_name": "FloatProgressModel",
       "_view_count": null,
       "_view_module": "@jupyter-widgets/controls",
       "_view_module_version": "2.0.0",
       "_view_name": "ProgressView",
       "bar_style": "success",
       "description": "",
       "description_allow_html": false,
       "layout": "IPY_MODEL_b052dbca2c7a4a2ca9cf7809333d83c3",
       "max": 466062.0,
       "min": 0.0,
       "orientation": "horizontal",
       "style": "IPY_MODEL_3398b7b1f8ef472d92ea699a7f5fe7d0",
       "tabbable": null,
       "tooltip": null,
       "value": 466062.0
      }
     },
     "110180cca2c049528dccb4a53856c038": {
      "model_module": "@jupyter-widgets/base",
      "model_module_version": "2.0.0",
      "model_name": "LayoutModel",
      "state": {
       "_model_module": "@jupyter-widgets/base",
       "_model_module_version": "2.0.0",
       "_model_name": "LayoutModel",
       "_view_count": null,
       "_view_module": "@jupyter-widgets/base",
       "_view_module_version": "2.0.0",
       "_view_name": "LayoutView",
       "align_content": null,
       "align_items": null,
       "align_self": null,
       "border_bottom": null,
       "border_left": null,
       "border_right": null,
       "border_top": null,
       "bottom": null,
       "display": null,
       "flex": null,
       "flex_flow": null,
       "grid_area": null,
       "grid_auto_columns": null,
       "grid_auto_flow": null,
       "grid_auto_rows": null,
       "grid_column": null,
       "grid_gap": null,
       "grid_row": null,
       "grid_template_areas": null,
       "grid_template_columns": null,
       "grid_template_rows": null,
       "height": null,
       "justify_content": null,
       "justify_items": null,
       "left": null,
       "margin": null,
       "max_height": null,
       "max_width": null,
       "min_height": null,
       "min_width": null,
       "object_fit": null,
       "object_position": null,
       "order": null,
       "overflow": null,
       "padding": null,
       "right": null,
       "top": null,
       "visibility": null,
       "width": null
      }
     },
     "175fc39e478c41ae88cb28ab52bc7dca": {
      "model_module": "@jupyter-widgets/controls",
      "model_module_version": "2.0.0",
      "model_name": "HTMLStyleModel",
      "state": {
       "_model_module": "@jupyter-widgets/controls",
       "_model_module_version": "2.0.0",
       "_model_name": "HTMLStyleModel",
       "_view_count": null,
       "_view_module": "@jupyter-widgets/base",
       "_view_module_version": "2.0.0",
       "_view_name": "StyleView",
       "background": null,
       "description_width": "",
       "font_size": null,
       "text_color": null
      }
     },
     "1b0c3aa7ee084d92938577678e2f0d79": {
      "model_module": "@jupyter-widgets/controls",
      "model_module_version": "2.0.0",
      "model_name": "HTMLModel",
      "state": {
       "_dom_classes": [],
       "_model_module": "@jupyter-widgets/controls",
       "_model_module_version": "2.0.0",
       "_model_name": "HTMLModel",
       "_view_count": null,
       "_view_module": "@jupyter-widgets/controls",
       "_view_module_version": "2.0.0",
       "_view_name": "HTMLView",
       "description": "",
       "description_allow_html": false,
       "layout": "IPY_MODEL_7afc7e37b7904726b3bee80345c0ebc5",
       "placeholder": "​",
       "style": "IPY_MODEL_5f97efe5ee8f4bba832373de3f6ca5d0",
       "tabbable": null,
       "tooltip": null,
       "value": "tokenizer_config.json: 100%"
      }
     },
     "21d38821c43248628935fbe39594098c": {
      "model_module": "@jupyter-widgets/controls",
      "model_module_version": "2.0.0",
      "model_name": "HTMLModel",
      "state": {
       "_dom_classes": [],
       "_model_module": "@jupyter-widgets/controls",
       "_model_module_version": "2.0.0",
       "_model_name": "HTMLModel",
       "_view_count": null,
       "_view_module": "@jupyter-widgets/controls",
       "_view_module_version": "2.0.0",
       "_view_name": "HTMLView",
       "description": "",
       "description_allow_html": false,
       "layout": "IPY_MODEL_c609601707134962ab12c08993ea9932",
       "placeholder": "​",
       "style": "IPY_MODEL_46c6e733582a45d193b6869fc3709a38",
       "tabbable": null,
       "tooltip": null,
       "value": " 232k/232k [00:00&lt;00:00, 1.96MB/s]"
      }
     },
     "2736f5bbd8ba452f9bd2131fdbc75fad": {
      "model_module": "@jupyter-widgets/controls",
      "model_module_version": "2.0.0",
      "model_name": "HTMLStyleModel",
      "state": {
       "_model_module": "@jupyter-widgets/controls",
       "_model_module_version": "2.0.0",
       "_model_name": "HTMLStyleModel",
       "_view_count": null,
       "_view_module": "@jupyter-widgets/base",
       "_view_module_version": "2.0.0",
       "_view_name": "StyleView",
       "background": null,
       "description_width": "",
       "font_size": null,
       "text_color": null
      }
     },
     "3398b7b1f8ef472d92ea699a7f5fe7d0": {
      "model_module": "@jupyter-widgets/controls",
      "model_module_version": "2.0.0",
      "model_name": "ProgressStyleModel",
      "state": {
       "_model_module": "@jupyter-widgets/controls",
       "_model_module_version": "2.0.0",
       "_model_name": "ProgressStyleModel",
       "_view_count": null,
       "_view_module": "@jupyter-widgets/base",
       "_view_module_version": "2.0.0",
       "_view_name": "StyleView",
       "bar_color": null,
       "description_width": ""
      }
     },
     "33ba3941c873412c8bce19c27aea05cd": {
      "model_module": "@jupyter-widgets/base",
      "model_module_version": "2.0.0",
      "model_name": "LayoutModel",
      "state": {
       "_model_module": "@jupyter-widgets/base",
       "_model_module_version": "2.0.0",
       "_model_name": "LayoutModel",
       "_view_count": null,
       "_view_module": "@jupyter-widgets/base",
       "_view_module_version": "2.0.0",
       "_view_name": "LayoutView",
       "align_content": null,
       "align_items": null,
       "align_self": null,
       "border_bottom": null,
       "border_left": null,
       "border_right": null,
       "border_top": null,
       "bottom": null,
       "display": null,
       "flex": null,
       "flex_flow": null,
       "grid_area": null,
       "grid_auto_columns": null,
       "grid_auto_flow": null,
       "grid_auto_rows": null,
       "grid_column": null,
       "grid_gap": null,
       "grid_row": null,
       "grid_template_areas": null,
       "grid_template_columns": null,
       "grid_template_rows": null,
       "height": null,
       "justify_content": null,
       "justify_items": null,
       "left": null,
       "margin": null,
       "max_height": null,
       "max_width": null,
       "min_height": null,
       "min_width": null,
       "object_fit": null,
       "object_position": null,
       "order": null,
       "overflow": null,
       "padding": null,
       "right": null,
       "top": null,
       "visibility": null,
       "width": null
      }
     },
     "354e76498c27487fb128845a26992708": {
      "model_module": "@jupyter-widgets/controls",
      "model_module_version": "2.0.0",
      "model_name": "HTMLModel",
      "state": {
       "_dom_classes": [],
       "_model_module": "@jupyter-widgets/controls",
       "_model_module_version": "2.0.0",
       "_model_name": "HTMLModel",
       "_view_count": null,
       "_view_module": "@jupyter-widgets/controls",
       "_view_module_version": "2.0.0",
       "_view_name": "HTMLView",
       "description": "",
       "description_allow_html": false,
       "layout": "IPY_MODEL_110180cca2c049528dccb4a53856c038",
       "placeholder": "​",
       "style": "IPY_MODEL_0cb0bc0f78bf4e6bb82cb30182c9fc16",
       "tabbable": null,
       "tooltip": null,
       "value": " 570/570 [00:00&lt;00:00, 82.1kB/s]"
      }
     },
     "36b9e30b442c4893b351463468e6eae5": {
      "model_module": "@jupyter-widgets/base",
      "model_module_version": "2.0.0",
      "model_name": "LayoutModel",
      "state": {
       "_model_module": "@jupyter-widgets/base",
       "_model_module_version": "2.0.0",
       "_model_name": "LayoutModel",
       "_view_count": null,
       "_view_module": "@jupyter-widgets/base",
       "_view_module_version": "2.0.0",
       "_view_name": "LayoutView",
       "align_content": null,
       "align_items": null,
       "align_self": null,
       "border_bottom": null,
       "border_left": null,
       "border_right": null,
       "border_top": null,
       "bottom": null,
       "display": null,
       "flex": null,
       "flex_flow": null,
       "grid_area": null,
       "grid_auto_columns": null,
       "grid_auto_flow": null,
       "grid_auto_rows": null,
       "grid_column": null,
       "grid_gap": null,
       "grid_row": null,
       "grid_template_areas": null,
       "grid_template_columns": null,
       "grid_template_rows": null,
       "height": null,
       "justify_content": null,
       "justify_items": null,
       "left": null,
       "margin": null,
       "max_height": null,
       "max_width": null,
       "min_height": null,
       "min_width": null,
       "object_fit": null,
       "object_position": null,
       "order": null,
       "overflow": null,
       "padding": null,
       "right": null,
       "top": null,
       "visibility": null,
       "width": null
      }
     },
     "41e3fbed7a6347ce818f5ad134ef2c37": {
      "model_module": "@jupyter-widgets/controls",
      "model_module_version": "2.0.0",
      "model_name": "FloatProgressModel",
      "state": {
       "_dom_classes": [],
       "_model_module": "@jupyter-widgets/controls",
       "_model_module_version": "2.0.0",
       "_model_name": "FloatProgressModel",
       "_view_count": null,
       "_view_module": "@jupyter-widgets/controls",
       "_view_module_version": "2.0.0",
       "_view_name": "ProgressView",
       "bar_style": "success",
       "description": "",
       "description_allow_html": false,
       "layout": "IPY_MODEL_fda7ffe2f8a84e2fa774a6e81f4d83d1",
       "max": 440449768.0,
       "min": 0.0,
       "orientation": "horizontal",
       "style": "IPY_MODEL_ce34cf083dc34ef0803ff1bcf82cfe6e",
       "tabbable": null,
       "tooltip": null,
       "value": 440449768.0
      }
     },
     "42c5037c72cd43dfa5e648a0619372ee": {
      "model_module": "@jupyter-widgets/base",
      "model_module_version": "2.0.0",
      "model_name": "LayoutModel",
      "state": {
       "_model_module": "@jupyter-widgets/base",
       "_model_module_version": "2.0.0",
       "_model_name": "LayoutModel",
       "_view_count": null,
       "_view_module": "@jupyter-widgets/base",
       "_view_module_version": "2.0.0",
       "_view_name": "LayoutView",
       "align_content": null,
       "align_items": null,
       "align_self": null,
       "border_bottom": null,
       "border_left": null,
       "border_right": null,
       "border_top": null,
       "bottom": null,
       "display": null,
       "flex": null,
       "flex_flow": null,
       "grid_area": null,
       "grid_auto_columns": null,
       "grid_auto_flow": null,
       "grid_auto_rows": null,
       "grid_column": null,
       "grid_gap": null,
       "grid_row": null,
       "grid_template_areas": null,
       "grid_template_columns": null,
       "grid_template_rows": null,
       "height": null,
       "justify_content": null,
       "justify_items": null,
       "left": null,
       "margin": null,
       "max_height": null,
       "max_width": null,
       "min_height": null,
       "min_width": null,
       "object_fit": null,
       "object_position": null,
       "order": null,
       "overflow": null,
       "padding": null,
       "right": null,
       "top": null,
       "visibility": null,
       "width": null
      }
     },
     "44dd7f9cedff4942ababbe7dc2a8b598": {
      "model_module": "@jupyter-widgets/controls",
      "model_module_version": "2.0.0",
      "model_name": "ProgressStyleModel",
      "state": {
       "_model_module": "@jupyter-widgets/controls",
       "_model_module_version": "2.0.0",
       "_model_name": "ProgressStyleModel",
       "_view_count": null,
       "_view_module": "@jupyter-widgets/base",
       "_view_module_version": "2.0.0",
       "_view_name": "StyleView",
       "bar_color": null,
       "description_width": ""
      }
     },
     "46c6e733582a45d193b6869fc3709a38": {
      "model_module": "@jupyter-widgets/controls",
      "model_module_version": "2.0.0",
      "model_name": "HTMLStyleModel",
      "state": {
       "_model_module": "@jupyter-widgets/controls",
       "_model_module_version": "2.0.0",
       "_model_name": "HTMLStyleModel",
       "_view_count": null,
       "_view_module": "@jupyter-widgets/base",
       "_view_module_version": "2.0.0",
       "_view_name": "StyleView",
       "background": null,
       "description_width": "",
       "font_size": null,
       "text_color": null
      }
     },
     "4bb9baf96e9c4e8e89a07e7ab09e1064": {
      "model_module": "@jupyter-widgets/controls",
      "model_module_version": "2.0.0",
      "model_name": "HTMLModel",
      "state": {
       "_dom_classes": [],
       "_model_module": "@jupyter-widgets/controls",
       "_model_module_version": "2.0.0",
       "_model_name": "HTMLModel",
       "_view_count": null,
       "_view_module": "@jupyter-widgets/controls",
       "_view_module_version": "2.0.0",
       "_view_name": "HTMLView",
       "description": "",
       "description_allow_html": false,
       "layout": "IPY_MODEL_aa77112ca9bf4def9803eb698220ceb4",
       "placeholder": "​",
       "style": "IPY_MODEL_b4944124a39147f29b08126d8fc39c6a",
       "tabbable": null,
       "tooltip": null,
       "value": "config.json: 100%"
      }
     },
     "4fb0aefac44f4cd8b040709f042e4865": {
      "model_module": "@jupyter-widgets/base",
      "model_module_version": "2.0.0",
      "model_name": "LayoutModel",
      "state": {
       "_model_module": "@jupyter-widgets/base",
       "_model_module_version": "2.0.0",
       "_model_name": "LayoutModel",
       "_view_count": null,
       "_view_module": "@jupyter-widgets/base",
       "_view_module_version": "2.0.0",
       "_view_name": "LayoutView",
       "align_content": null,
       "align_items": null,
       "align_self": null,
       "border_bottom": null,
       "border_left": null,
       "border_right": null,
       "border_top": null,
       "bottom": null,
       "display": null,
       "flex": null,
       "flex_flow": null,
       "grid_area": null,
       "grid_auto_columns": null,
       "grid_auto_flow": null,
       "grid_auto_rows": null,
       "grid_column": null,
       "grid_gap": null,
       "grid_row": null,
       "grid_template_areas": null,
       "grid_template_columns": null,
       "grid_template_rows": null,
       "height": null,
       "justify_content": null,
       "justify_items": null,
       "left": null,
       "margin": null,
       "max_height": null,
       "max_width": null,
       "min_height": null,
       "min_width": null,
       "object_fit": null,
       "object_position": null,
       "order": null,
       "overflow": null,
       "padding": null,
       "right": null,
       "top": null,
       "visibility": null,
       "width": null
      }
     },
     "5e8572bf790d410198c8851862705318": {
      "model_module": "@jupyter-widgets/controls",
      "model_module_version": "2.0.0",
      "model_name": "HBoxModel",
      "state": {
       "_dom_classes": [],
       "_model_module": "@jupyter-widgets/controls",
       "_model_module_version": "2.0.0",
       "_model_name": "HBoxModel",
       "_view_count": null,
       "_view_module": "@jupyter-widgets/controls",
       "_view_module_version": "2.0.0",
       "_view_name": "HBoxView",
       "box_style": "",
       "children": [
        "IPY_MODEL_f912e17166eb413da72bc7cf2cae765f",
        "IPY_MODEL_0e57c998cf0c446bbbfd66d8c526d3f1",
        "IPY_MODEL_be38bbae31844e938b6f48eb416d991a"
       ],
       "layout": "IPY_MODEL_75aa276bf53542a8b4386cf1e3545f5b",
       "tabbable": null,
       "tooltip": null
      }
     },
     "5f505e5988b74a7f8cf77c8661dabab9": {
      "model_module": "@jupyter-widgets/controls",
      "model_module_version": "2.0.0",
      "model_name": "HTMLStyleModel",
      "state": {
       "_model_module": "@jupyter-widgets/controls",
       "_model_module_version": "2.0.0",
       "_model_name": "HTMLStyleModel",
       "_view_count": null,
       "_view_module": "@jupyter-widgets/base",
       "_view_module_version": "2.0.0",
       "_view_name": "StyleView",
       "background": null,
       "description_width": "",
       "font_size": null,
       "text_color": null
      }
     },
     "5f97efe5ee8f4bba832373de3f6ca5d0": {
      "model_module": "@jupyter-widgets/controls",
      "model_module_version": "2.0.0",
      "model_name": "HTMLStyleModel",
      "state": {
       "_model_module": "@jupyter-widgets/controls",
       "_model_module_version": "2.0.0",
       "_model_name": "HTMLStyleModel",
       "_view_count": null,
       "_view_module": "@jupyter-widgets/base",
       "_view_module_version": "2.0.0",
       "_view_name": "StyleView",
       "background": null,
       "description_width": "",
       "font_size": null,
       "text_color": null
      }
     },
     "738cc200d4b144c6aa7f979c524f8929": {
      "model_module": "@jupyter-widgets/base",
      "model_module_version": "2.0.0",
      "model_name": "LayoutModel",
      "state": {
       "_model_module": "@jupyter-widgets/base",
       "_model_module_version": "2.0.0",
       "_model_name": "LayoutModel",
       "_view_count": null,
       "_view_module": "@jupyter-widgets/base",
       "_view_module_version": "2.0.0",
       "_view_name": "LayoutView",
       "align_content": null,
       "align_items": null,
       "align_self": null,
       "border_bottom": null,
       "border_left": null,
       "border_right": null,
       "border_top": null,
       "bottom": null,
       "display": null,
       "flex": null,
       "flex_flow": null,
       "grid_area": null,
       "grid_auto_columns": null,
       "grid_auto_flow": null,
       "grid_auto_rows": null,
       "grid_column": null,
       "grid_gap": null,
       "grid_row": null,
       "grid_template_areas": null,
       "grid_template_columns": null,
       "grid_template_rows": null,
       "height": null,
       "justify_content": null,
       "justify_items": null,
       "left": null,
       "margin": null,
       "max_height": null,
       "max_width": null,
       "min_height": null,
       "min_width": null,
       "object_fit": null,
       "object_position": null,
       "order": null,
       "overflow": null,
       "padding": null,
       "right": null,
       "top": null,
       "visibility": null,
       "width": null
      }
     },
     "75aa276bf53542a8b4386cf1e3545f5b": {
      "model_module": "@jupyter-widgets/base",
      "model_module_version": "2.0.0",
      "model_name": "LayoutModel",
      "state": {
       "_model_module": "@jupyter-widgets/base",
       "_model_module_version": "2.0.0",
       "_model_name": "LayoutModel",
       "_view_count": null,
       "_view_module": "@jupyter-widgets/base",
       "_view_module_version": "2.0.0",
       "_view_name": "LayoutView",
       "align_content": null,
       "align_items": null,
       "align_self": null,
       "border_bottom": null,
       "border_left": null,
       "border_right": null,
       "border_top": null,
       "bottom": null,
       "display": null,
       "flex": null,
       "flex_flow": null,
       "grid_area": null,
       "grid_auto_columns": null,
       "grid_auto_flow": null,
       "grid_auto_rows": null,
       "grid_column": null,
       "grid_gap": null,
       "grid_row": null,
       "grid_template_areas": null,
       "grid_template_columns": null,
       "grid_template_rows": null,
       "height": null,
       "justify_content": null,
       "justify_items": null,
       "left": null,
       "margin": null,
       "max_height": null,
       "max_width": null,
       "min_height": null,
       "min_width": null,
       "object_fit": null,
       "object_position": null,
       "order": null,
       "overflow": null,
       "padding": null,
       "right": null,
       "top": null,
       "visibility": null,
       "width": null
      }
     },
     "7afc7e37b7904726b3bee80345c0ebc5": {
      "model_module": "@jupyter-widgets/base",
      "model_module_version": "2.0.0",
      "model_name": "LayoutModel",
      "state": {
       "_model_module": "@jupyter-widgets/base",
       "_model_module_version": "2.0.0",
       "_model_name": "LayoutModel",
       "_view_count": null,
       "_view_module": "@jupyter-widgets/base",
       "_view_module_version": "2.0.0",
       "_view_name": "LayoutView",
       "align_content": null,
       "align_items": null,
       "align_self": null,
       "border_bottom": null,
       "border_left": null,
       "border_right": null,
       "border_top": null,
       "bottom": null,
       "display": null,
       "flex": null,
       "flex_flow": null,
       "grid_area": null,
       "grid_auto_columns": null,
       "grid_auto_flow": null,
       "grid_auto_rows": null,
       "grid_column": null,
       "grid_gap": null,
       "grid_row": null,
       "grid_template_areas": null,
       "grid_template_columns": null,
       "grid_template_rows": null,
       "height": null,
       "justify_content": null,
       "justify_items": null,
       "left": null,
       "margin": null,
       "max_height": null,
       "max_width": null,
       "min_height": null,
       "min_width": null,
       "object_fit": null,
       "object_position": null,
       "order": null,
       "overflow": null,
       "padding": null,
       "right": null,
       "top": null,
       "visibility": null,
       "width": null
      }
     },
     "7cfab4afffd84ea6b9d80899dc96a557": {
      "model_module": "@jupyter-widgets/base",
      "model_module_version": "2.0.0",
      "model_name": "LayoutModel",
      "state": {
       "_model_module": "@jupyter-widgets/base",
       "_model_module_version": "2.0.0",
       "_model_name": "LayoutModel",
       "_view_count": null,
       "_view_module": "@jupyter-widgets/base",
       "_view_module_version": "2.0.0",
       "_view_name": "LayoutView",
       "align_content": null,
       "align_items": null,
       "align_self": null,
       "border_bottom": null,
       "border_left": null,
       "border_right": null,
       "border_top": null,
       "bottom": null,
       "display": null,
       "flex": null,
       "flex_flow": null,
       "grid_area": null,
       "grid_auto_columns": null,
       "grid_auto_flow": null,
       "grid_auto_rows": null,
       "grid_column": null,
       "grid_gap": null,
       "grid_row": null,
       "grid_template_areas": null,
       "grid_template_columns": null,
       "grid_template_rows": null,
       "height": null,
       "justify_content": null,
       "justify_items": null,
       "left": null,
       "margin": null,
       "max_height": null,
       "max_width": null,
       "min_height": null,
       "min_width": null,
       "object_fit": null,
       "object_position": null,
       "order": null,
       "overflow": null,
       "padding": null,
       "right": null,
       "top": null,
       "visibility": null,
       "width": null
      }
     },
     "800358077cf84d359f4a626caf6e052d": {
      "model_module": "@jupyter-widgets/controls",
      "model_module_version": "2.0.0",
      "model_name": "ProgressStyleModel",
      "state": {
       "_model_module": "@jupyter-widgets/controls",
       "_model_module_version": "2.0.0",
       "_model_name": "ProgressStyleModel",
       "_view_count": null,
       "_view_module": "@jupyter-widgets/base",
       "_view_module_version": "2.0.0",
       "_view_name": "StyleView",
       "bar_color": null,
       "description_width": ""
      }
     },
     "8de8adcc7e5d4c5881de421f8fd7821d": {
      "model_module": "@jupyter-widgets/controls",
      "model_module_version": "2.0.0",
      "model_name": "HTMLModel",
      "state": {
       "_dom_classes": [],
       "_model_module": "@jupyter-widgets/controls",
       "_model_module_version": "2.0.0",
       "_model_name": "HTMLModel",
       "_view_count": null,
       "_view_module": "@jupyter-widgets/controls",
       "_view_module_version": "2.0.0",
       "_view_name": "HTMLView",
       "description": "",
       "description_allow_html": false,
       "layout": "IPY_MODEL_738cc200d4b144c6aa7f979c524f8929",
       "placeholder": "​",
       "style": "IPY_MODEL_b665aaddde4c46a49ef8a4e75c2ceb6e",
       "tabbable": null,
       "tooltip": null,
       "value": "model.safetensors: 100%"
      }
     },
     "8e5246800f884b9694cc306e59090104": {
      "model_module": "@jupyter-widgets/base",
      "model_module_version": "2.0.0",
      "model_name": "LayoutModel",
      "state": {
       "_model_module": "@jupyter-widgets/base",
       "_model_module_version": "2.0.0",
       "_model_name": "LayoutModel",
       "_view_count": null,
       "_view_module": "@jupyter-widgets/base",
       "_view_module_version": "2.0.0",
       "_view_name": "LayoutView",
       "align_content": null,
       "align_items": null,
       "align_self": null,
       "border_bottom": null,
       "border_left": null,
       "border_right": null,
       "border_top": null,
       "bottom": null,
       "display": null,
       "flex": null,
       "flex_flow": null,
       "grid_area": null,
       "grid_auto_columns": null,
       "grid_auto_flow": null,
       "grid_auto_rows": null,
       "grid_column": null,
       "grid_gap": null,
       "grid_row": null,
       "grid_template_areas": null,
       "grid_template_columns": null,
       "grid_template_rows": null,
       "height": null,
       "justify_content": null,
       "justify_items": null,
       "left": null,
       "margin": null,
       "max_height": null,
       "max_width": null,
       "min_height": null,
       "min_width": null,
       "object_fit": null,
       "object_position": null,
       "order": null,
       "overflow": null,
       "padding": null,
       "right": null,
       "top": null,
       "visibility": null,
       "width": null
      }
     },
     "934070c4ba424e2a8d12bdee1ce390e7": {
      "model_module": "@jupyter-widgets/controls",
      "model_module_version": "2.0.0",
      "model_name": "FloatProgressModel",
      "state": {
       "_dom_classes": [],
       "_model_module": "@jupyter-widgets/controls",
       "_model_module_version": "2.0.0",
       "_model_name": "FloatProgressModel",
       "_view_count": null,
       "_view_module": "@jupyter-widgets/controls",
       "_view_module_version": "2.0.0",
       "_view_name": "ProgressView",
       "bar_style": "success",
       "description": "",
       "description_allow_html": false,
       "layout": "IPY_MODEL_7cfab4afffd84ea6b9d80899dc96a557",
       "max": 231508.0,
       "min": 0.0,
       "orientation": "horizontal",
       "style": "IPY_MODEL_44dd7f9cedff4942ababbe7dc2a8b598",
       "tabbable": null,
       "tooltip": null,
       "value": 231508.0
      }
     },
     "9bee3386249f4e648ba72723045d194d": {
      "model_module": "@jupyter-widgets/controls",
      "model_module_version": "2.0.0",
      "model_name": "HBoxModel",
      "state": {
       "_dom_classes": [],
       "_model_module": "@jupyter-widgets/controls",
       "_model_module_version": "2.0.0",
       "_model_name": "HBoxModel",
       "_view_count": null,
       "_view_module": "@jupyter-widgets/controls",
       "_view_module_version": "2.0.0",
       "_view_name": "HBoxView",
       "box_style": "",
       "children": [
        "IPY_MODEL_8de8adcc7e5d4c5881de421f8fd7821d",
        "IPY_MODEL_41e3fbed7a6347ce818f5ad134ef2c37",
        "IPY_MODEL_f2051457e45c4928a661593b2113fcd3"
       ],
       "layout": "IPY_MODEL_8e5246800f884b9694cc306e59090104",
       "tabbable": null,
       "tooltip": null
      }
     },
     "a53a6163ee57411d95f145d04bb5a997": {
      "model_module": "@jupyter-widgets/controls",
      "model_module_version": "2.0.0",
      "model_name": "HTMLModel",
      "state": {
       "_dom_classes": [],
       "_model_module": "@jupyter-widgets/controls",
       "_model_module_version": "2.0.0",
       "_model_name": "HTMLModel",
       "_view_count": null,
       "_view_module": "@jupyter-widgets/controls",
       "_view_module_version": "2.0.0",
       "_view_name": "HTMLView",
       "description": "",
       "description_allow_html": false,
       "layout": "IPY_MODEL_b249b2c09f094ae58899a300b506996d",
       "placeholder": "​",
       "style": "IPY_MODEL_0a0c82641c1a450f99b4b0d1f1a47e94",
       "tabbable": null,
       "tooltip": null,
       "value": "vocab.txt: 100%"
      }
     },
     "aa77112ca9bf4def9803eb698220ceb4": {
      "model_module": "@jupyter-widgets/base",
      "model_module_version": "2.0.0",
      "model_name": "LayoutModel",
      "state": {
       "_model_module": "@jupyter-widgets/base",
       "_model_module_version": "2.0.0",
       "_model_name": "LayoutModel",
       "_view_count": null,
       "_view_module": "@jupyter-widgets/base",
       "_view_module_version": "2.0.0",
       "_view_name": "LayoutView",
       "align_content": null,
       "align_items": null,
       "align_self": null,
       "border_bottom": null,
       "border_left": null,
       "border_right": null,
       "border_top": null,
       "bottom": null,
       "display": null,
       "flex": null,
       "flex_flow": null,
       "grid_area": null,
       "grid_auto_columns": null,
       "grid_auto_flow": null,
       "grid_auto_rows": null,
       "grid_column": null,
       "grid_gap": null,
       "grid_row": null,
       "grid_template_areas": null,
       "grid_template_columns": null,
       "grid_template_rows": null,
       "height": null,
       "justify_content": null,
       "justify_items": null,
       "left": null,
       "margin": null,
       "max_height": null,
       "max_width": null,
       "min_height": null,
       "min_width": null,
       "object_fit": null,
       "object_position": null,
       "order": null,
       "overflow": null,
       "padding": null,
       "right": null,
       "top": null,
       "visibility": null,
       "width": null
      }
     },
     "aeafac8056914cd5a7a6aab02631b69d": {
      "model_module": "@jupyter-widgets/base",
      "model_module_version": "2.0.0",
      "model_name": "LayoutModel",
      "state": {
       "_model_module": "@jupyter-widgets/base",
       "_model_module_version": "2.0.0",
       "_model_name": "LayoutModel",
       "_view_count": null,
       "_view_module": "@jupyter-widgets/base",
       "_view_module_version": "2.0.0",
       "_view_name": "LayoutView",
       "align_content": null,
       "align_items": null,
       "align_self": null,
       "border_bottom": null,
       "border_left": null,
       "border_right": null,
       "border_top": null,
       "bottom": null,
       "display": null,
       "flex": null,
       "flex_flow": null,
       "grid_area": null,
       "grid_auto_columns": null,
       "grid_auto_flow": null,
       "grid_auto_rows": null,
       "grid_column": null,
       "grid_gap": null,
       "grid_row": null,
       "grid_template_areas": null,
       "grid_template_columns": null,
       "grid_template_rows": null,
       "height": null,
       "justify_content": null,
       "justify_items": null,
       "left": null,
       "margin": null,
       "max_height": null,
       "max_width": null,
       "min_height": null,
       "min_width": null,
       "object_fit": null,
       "object_position": null,
       "order": null,
       "overflow": null,
       "padding": null,
       "right": null,
       "top": null,
       "visibility": null,
       "width": null
      }
     },
     "b052dbca2c7a4a2ca9cf7809333d83c3": {
      "model_module": "@jupyter-widgets/base",
      "model_module_version": "2.0.0",
      "model_name": "LayoutModel",
      "state": {
       "_model_module": "@jupyter-widgets/base",
       "_model_module_version": "2.0.0",
       "_model_name": "LayoutModel",
       "_view_count": null,
       "_view_module": "@jupyter-widgets/base",
       "_view_module_version": "2.0.0",
       "_view_name": "LayoutView",
       "align_content": null,
       "align_items": null,
       "align_self": null,
       "border_bottom": null,
       "border_left": null,
       "border_right": null,
       "border_top": null,
       "bottom": null,
       "display": null,
       "flex": null,
       "flex_flow": null,
       "grid_area": null,
       "grid_auto_columns": null,
       "grid_auto_flow": null,
       "grid_auto_rows": null,
       "grid_column": null,
       "grid_gap": null,
       "grid_row": null,
       "grid_template_areas": null,
       "grid_template_columns": null,
       "grid_template_rows": null,
       "height": null,
       "justify_content": null,
       "justify_items": null,
       "left": null,
       "margin": null,
       "max_height": null,
       "max_width": null,
       "min_height": null,
       "min_width": null,
       "object_fit": null,
       "object_position": null,
       "order": null,
       "overflow": null,
       "padding": null,
       "right": null,
       "top": null,
       "visibility": null,
       "width": null
      }
     },
     "b249b2c09f094ae58899a300b506996d": {
      "model_module": "@jupyter-widgets/base",
      "model_module_version": "2.0.0",
      "model_name": "LayoutModel",
      "state": {
       "_model_module": "@jupyter-widgets/base",
       "_model_module_version": "2.0.0",
       "_model_name": "LayoutModel",
       "_view_count": null,
       "_view_module": "@jupyter-widgets/base",
       "_view_module_version": "2.0.0",
       "_view_name": "LayoutView",
       "align_content": null,
       "align_items": null,
       "align_self": null,
       "border_bottom": null,
       "border_left": null,
       "border_right": null,
       "border_top": null,
       "bottom": null,
       "display": null,
       "flex": null,
       "flex_flow": null,
       "grid_area": null,
       "grid_auto_columns": null,
       "grid_auto_flow": null,
       "grid_auto_rows": null,
       "grid_column": null,
       "grid_gap": null,
       "grid_row": null,
       "grid_template_areas": null,
       "grid_template_columns": null,
       "grid_template_rows": null,
       "height": null,
       "justify_content": null,
       "justify_items": null,
       "left": null,
       "margin": null,
       "max_height": null,
       "max_width": null,
       "min_height": null,
       "min_width": null,
       "object_fit": null,
       "object_position": null,
       "order": null,
       "overflow": null,
       "padding": null,
       "right": null,
       "top": null,
       "visibility": null,
       "width": null
      }
     },
     "b25c70e46b044ee0b3dcf5afc60e3ad0": {
      "model_module": "@jupyter-widgets/base",
      "model_module_version": "2.0.0",
      "model_name": "LayoutModel",
      "state": {
       "_model_module": "@jupyter-widgets/base",
       "_model_module_version": "2.0.0",
       "_model_name": "LayoutModel",
       "_view_count": null,
       "_view_module": "@jupyter-widgets/base",
       "_view_module_version": "2.0.0",
       "_view_name": "LayoutView",
       "align_content": null,
       "align_items": null,
       "align_self": null,
       "border_bottom": null,
       "border_left": null,
       "border_right": null,
       "border_top": null,
       "bottom": null,
       "display": null,
       "flex": null,
       "flex_flow": null,
       "grid_area": null,
       "grid_auto_columns": null,
       "grid_auto_flow": null,
       "grid_auto_rows": null,
       "grid_column": null,
       "grid_gap": null,
       "grid_row": null,
       "grid_template_areas": null,
       "grid_template_columns": null,
       "grid_template_rows": null,
       "height": null,
       "justify_content": null,
       "justify_items": null,
       "left": null,
       "margin": null,
       "max_height": null,
       "max_width": null,
       "min_height": null,
       "min_width": null,
       "object_fit": null,
       "object_position": null,
       "order": null,
       "overflow": null,
       "padding": null,
       "right": null,
       "top": null,
       "visibility": null,
       "width": null
      }
     },
     "b4944124a39147f29b08126d8fc39c6a": {
      "model_module": "@jupyter-widgets/controls",
      "model_module_version": "2.0.0",
      "model_name": "HTMLStyleModel",
      "state": {
       "_model_module": "@jupyter-widgets/controls",
       "_model_module_version": "2.0.0",
       "_model_name": "HTMLStyleModel",
       "_view_count": null,
       "_view_module": "@jupyter-widgets/base",
       "_view_module_version": "2.0.0",
       "_view_name": "StyleView",
       "background": null,
       "description_width": "",
       "font_size": null,
       "text_color": null
      }
     },
     "b665aaddde4c46a49ef8a4e75c2ceb6e": {
      "model_module": "@jupyter-widgets/controls",
      "model_module_version": "2.0.0",
      "model_name": "HTMLStyleModel",
      "state": {
       "_model_module": "@jupyter-widgets/controls",
       "_model_module_version": "2.0.0",
       "_model_name": "HTMLStyleModel",
       "_view_count": null,
       "_view_module": "@jupyter-widgets/base",
       "_view_module_version": "2.0.0",
       "_view_name": "StyleView",
       "background": null,
       "description_width": "",
       "font_size": null,
       "text_color": null
      }
     },
     "bbb764f7df0643b9af30d0d28567b115": {
      "model_module": "@jupyter-widgets/controls",
      "model_module_version": "2.0.0",
      "model_name": "HTMLModel",
      "state": {
       "_dom_classes": [],
       "_model_module": "@jupyter-widgets/controls",
       "_model_module_version": "2.0.0",
       "_model_name": "HTMLModel",
       "_view_count": null,
       "_view_module": "@jupyter-widgets/controls",
       "_view_module_version": "2.0.0",
       "_view_name": "HTMLView",
       "description": "",
       "description_allow_html": false,
       "layout": "IPY_MODEL_4fb0aefac44f4cd8b040709f042e4865",
       "placeholder": "​",
       "style": "IPY_MODEL_094901fbd5f5470980a1ec32416e1838",
       "tabbable": null,
       "tooltip": null,
       "value": " 48.0/48.0 [00:00&lt;00:00, 5.48kB/s]"
      }
     },
     "be38bbae31844e938b6f48eb416d991a": {
      "model_module": "@jupyter-widgets/controls",
      "model_module_version": "2.0.0",
      "model_name": "HTMLModel",
      "state": {
       "_dom_classes": [],
       "_model_module": "@jupyter-widgets/controls",
       "_model_module_version": "2.0.0",
       "_model_name": "HTMLModel",
       "_view_count": null,
       "_view_module": "@jupyter-widgets/controls",
       "_view_module_version": "2.0.0",
       "_view_name": "HTMLView",
       "description": "",
       "description_allow_html": false,
       "layout": "IPY_MODEL_42c5037c72cd43dfa5e648a0619372ee",
       "placeholder": "​",
       "style": "IPY_MODEL_175fc39e478c41ae88cb28ab52bc7dca",
       "tabbable": null,
       "tooltip": null,
       "value": " 466k/466k [00:00&lt;00:00, 6.91MB/s]"
      }
     },
     "c609601707134962ab12c08993ea9932": {
      "model_module": "@jupyter-widgets/base",
      "model_module_version": "2.0.0",
      "model_name": "LayoutModel",
      "state": {
       "_model_module": "@jupyter-widgets/base",
       "_model_module_version": "2.0.0",
       "_model_name": "LayoutModel",
       "_view_count": null,
       "_view_module": "@jupyter-widgets/base",
       "_view_module_version": "2.0.0",
       "_view_name": "LayoutView",
       "align_content": null,
       "align_items": null,
       "align_self": null,
       "border_bottom": null,
       "border_left": null,
       "border_right": null,
       "border_top": null,
       "bottom": null,
       "display": null,
       "flex": null,
       "flex_flow": null,
       "grid_area": null,
       "grid_auto_columns": null,
       "grid_auto_flow": null,
       "grid_auto_rows": null,
       "grid_column": null,
       "grid_gap": null,
       "grid_row": null,
       "grid_template_areas": null,
       "grid_template_columns": null,
       "grid_template_rows": null,
       "height": null,
       "justify_content": null,
       "justify_items": null,
       "left": null,
       "margin": null,
       "max_height": null,
       "max_width": null,
       "min_height": null,
       "min_width": null,
       "object_fit": null,
       "object_position": null,
       "order": null,
       "overflow": null,
       "padding": null,
       "right": null,
       "top": null,
       "visibility": null,
       "width": null
      }
     },
     "cbdc8fcfe20e4e92b1105e75bd4a6888": {
      "model_module": "@jupyter-widgets/controls",
      "model_module_version": "2.0.0",
      "model_name": "HBoxModel",
      "state": {
       "_dom_classes": [],
       "_model_module": "@jupyter-widgets/controls",
       "_model_module_version": "2.0.0",
       "_model_name": "HBoxModel",
       "_view_count": null,
       "_view_module": "@jupyter-widgets/controls",
       "_view_module_version": "2.0.0",
       "_view_name": "HBoxView",
       "box_style": "",
       "children": [
        "IPY_MODEL_1b0c3aa7ee084d92938577678e2f0d79",
        "IPY_MODEL_edc821b854cf48c68d899bd598c98e36",
        "IPY_MODEL_bbb764f7df0643b9af30d0d28567b115"
       ],
       "layout": "IPY_MODEL_f0bd09b404ad4c22a7ab23dc785a14f8",
       "tabbable": null,
       "tooltip": null
      }
     },
     "ce34cf083dc34ef0803ff1bcf82cfe6e": {
      "model_module": "@jupyter-widgets/controls",
      "model_module_version": "2.0.0",
      "model_name": "ProgressStyleModel",
      "state": {
       "_model_module": "@jupyter-widgets/controls",
       "_model_module_version": "2.0.0",
       "_model_name": "ProgressStyleModel",
       "_view_count": null,
       "_view_module": "@jupyter-widgets/base",
       "_view_module_version": "2.0.0",
       "_view_name": "StyleView",
       "bar_color": null,
       "description_width": ""
      }
     },
     "d2ae9ca7ae7b4e00beedb8449ecc0ae8": {
      "model_module": "@jupyter-widgets/base",
      "model_module_version": "2.0.0",
      "model_name": "LayoutModel",
      "state": {
       "_model_module": "@jupyter-widgets/base",
       "_model_module_version": "2.0.0",
       "_model_name": "LayoutModel",
       "_view_count": null,
       "_view_module": "@jupyter-widgets/base",
       "_view_module_version": "2.0.0",
       "_view_name": "LayoutView",
       "align_content": null,
       "align_items": null,
       "align_self": null,
       "border_bottom": null,
       "border_left": null,
       "border_right": null,
       "border_top": null,
       "bottom": null,
       "display": null,
       "flex": null,
       "flex_flow": null,
       "grid_area": null,
       "grid_auto_columns": null,
       "grid_auto_flow": null,
       "grid_auto_rows": null,
       "grid_column": null,
       "grid_gap": null,
       "grid_row": null,
       "grid_template_areas": null,
       "grid_template_columns": null,
       "grid_template_rows": null,
       "height": null,
       "justify_content": null,
       "justify_items": null,
       "left": null,
       "margin": null,
       "max_height": null,
       "max_width": null,
       "min_height": null,
       "min_width": null,
       "object_fit": null,
       "object_position": null,
       "order": null,
       "overflow": null,
       "padding": null,
       "right": null,
       "top": null,
       "visibility": null,
       "width": null
      }
     },
     "db0063837ee845b3b2988dfef4660cb4": {
      "model_module": "@jupyter-widgets/controls",
      "model_module_version": "2.0.0",
      "model_name": "HBoxModel",
      "state": {
       "_dom_classes": [],
       "_model_module": "@jupyter-widgets/controls",
       "_model_module_version": "2.0.0",
       "_model_name": "HBoxModel",
       "_view_count": null,
       "_view_module": "@jupyter-widgets/controls",
       "_view_module_version": "2.0.0",
       "_view_name": "HBoxView",
       "box_style": "",
       "children": [
        "IPY_MODEL_a53a6163ee57411d95f145d04bb5a997",
        "IPY_MODEL_934070c4ba424e2a8d12bdee1ce390e7",
        "IPY_MODEL_21d38821c43248628935fbe39594098c"
       ],
       "layout": "IPY_MODEL_d2ae9ca7ae7b4e00beedb8449ecc0ae8",
       "tabbable": null,
       "tooltip": null
      }
     },
     "db04fc8e5f96468f92337e18219dbd70": {
      "model_module": "@jupyter-widgets/base",
      "model_module_version": "2.0.0",
      "model_name": "LayoutModel",
      "state": {
       "_model_module": "@jupyter-widgets/base",
       "_model_module_version": "2.0.0",
       "_model_name": "LayoutModel",
       "_view_count": null,
       "_view_module": "@jupyter-widgets/base",
       "_view_module_version": "2.0.0",
       "_view_name": "LayoutView",
       "align_content": null,
       "align_items": null,
       "align_self": null,
       "border_bottom": null,
       "border_left": null,
       "border_right": null,
       "border_top": null,
       "bottom": null,
       "display": null,
       "flex": null,
       "flex_flow": null,
       "grid_area": null,
       "grid_auto_columns": null,
       "grid_auto_flow": null,
       "grid_auto_rows": null,
       "grid_column": null,
       "grid_gap": null,
       "grid_row": null,
       "grid_template_areas": null,
       "grid_template_columns": null,
       "grid_template_rows": null,
       "height": null,
       "justify_content": null,
       "justify_items": null,
       "left": null,
       "margin": null,
       "max_height": null,
       "max_width": null,
       "min_height": null,
       "min_width": null,
       "object_fit": null,
       "object_position": null,
       "order": null,
       "overflow": null,
       "padding": null,
       "right": null,
       "top": null,
       "visibility": null,
       "width": null
      }
     },
     "dd94b13c189943499fcf99f68fa4f666": {
      "model_module": "@jupyter-widgets/controls",
      "model_module_version": "2.0.0",
      "model_name": "ProgressStyleModel",
      "state": {
       "_model_module": "@jupyter-widgets/controls",
       "_model_module_version": "2.0.0",
       "_model_name": "ProgressStyleModel",
       "_view_count": null,
       "_view_module": "@jupyter-widgets/base",
       "_view_module_version": "2.0.0",
       "_view_name": "StyleView",
       "bar_color": null,
       "description_width": ""
      }
     },
     "edc821b854cf48c68d899bd598c98e36": {
      "model_module": "@jupyter-widgets/controls",
      "model_module_version": "2.0.0",
      "model_name": "FloatProgressModel",
      "state": {
       "_dom_classes": [],
       "_model_module": "@jupyter-widgets/controls",
       "_model_module_version": "2.0.0",
       "_model_name": "FloatProgressModel",
       "_view_count": null,
       "_view_module": "@jupyter-widgets/controls",
       "_view_module_version": "2.0.0",
       "_view_name": "ProgressView",
       "bar_style": "success",
       "description": "",
       "description_allow_html": false,
       "layout": "IPY_MODEL_36b9e30b442c4893b351463468e6eae5",
       "max": 48.0,
       "min": 0.0,
       "orientation": "horizontal",
       "style": "IPY_MODEL_800358077cf84d359f4a626caf6e052d",
       "tabbable": null,
       "tooltip": null,
       "value": 48.0
      }
     },
     "f0412c4225474b0c9dce2ddb2e93faa5": {
      "model_module": "@jupyter-widgets/controls",
      "model_module_version": "2.0.0",
      "model_name": "HBoxModel",
      "state": {
       "_dom_classes": [],
       "_model_module": "@jupyter-widgets/controls",
       "_model_module_version": "2.0.0",
       "_model_name": "HBoxModel",
       "_view_count": null,
       "_view_module": "@jupyter-widgets/controls",
       "_view_module_version": "2.0.0",
       "_view_name": "HBoxView",
       "box_style": "",
       "children": [
        "IPY_MODEL_4bb9baf96e9c4e8e89a07e7ab09e1064",
        "IPY_MODEL_0232bb450b434a3ebbc4f3f5dd89aabc",
        "IPY_MODEL_354e76498c27487fb128845a26992708"
       ],
       "layout": "IPY_MODEL_aeafac8056914cd5a7a6aab02631b69d",
       "tabbable": null,
       "tooltip": null
      }
     },
     "f0bd09b404ad4c22a7ab23dc785a14f8": {
      "model_module": "@jupyter-widgets/base",
      "model_module_version": "2.0.0",
      "model_name": "LayoutModel",
      "state": {
       "_model_module": "@jupyter-widgets/base",
       "_model_module_version": "2.0.0",
       "_model_name": "LayoutModel",
       "_view_count": null,
       "_view_module": "@jupyter-widgets/base",
       "_view_module_version": "2.0.0",
       "_view_name": "LayoutView",
       "align_content": null,
       "align_items": null,
       "align_self": null,
       "border_bottom": null,
       "border_left": null,
       "border_right": null,
       "border_top": null,
       "bottom": null,
       "display": null,
       "flex": null,
       "flex_flow": null,
       "grid_area": null,
       "grid_auto_columns": null,
       "grid_auto_flow": null,
       "grid_auto_rows": null,
       "grid_column": null,
       "grid_gap": null,
       "grid_row": null,
       "grid_template_areas": null,
       "grid_template_columns": null,
       "grid_template_rows": null,
       "height": null,
       "justify_content": null,
       "justify_items": null,
       "left": null,
       "margin": null,
       "max_height": null,
       "max_width": null,
       "min_height": null,
       "min_width": null,
       "object_fit": null,
       "object_position": null,
       "order": null,
       "overflow": null,
       "padding": null,
       "right": null,
       "top": null,
       "visibility": null,
       "width": null
      }
     },
     "f2051457e45c4928a661593b2113fcd3": {
      "model_module": "@jupyter-widgets/controls",
      "model_module_version": "2.0.0",
      "model_name": "HTMLModel",
      "state": {
       "_dom_classes": [],
       "_model_module": "@jupyter-widgets/controls",
       "_model_module_version": "2.0.0",
       "_model_name": "HTMLModel",
       "_view_count": null,
       "_view_module": "@jupyter-widgets/controls",
       "_view_module_version": "2.0.0",
       "_view_name": "HTMLView",
       "description": "",
       "description_allow_html": false,
       "layout": "IPY_MODEL_db04fc8e5f96468f92337e18219dbd70",
       "placeholder": "​",
       "style": "IPY_MODEL_5f505e5988b74a7f8cf77c8661dabab9",
       "tabbable": null,
       "tooltip": null,
       "value": " 440M/440M [00:01&lt;00:00, 452MB/s]"
      }
     },
     "f912e17166eb413da72bc7cf2cae765f": {
      "model_module": "@jupyter-widgets/controls",
      "model_module_version": "2.0.0",
      "model_name": "HTMLModel",
      "state": {
       "_dom_classes": [],
       "_model_module": "@jupyter-widgets/controls",
       "_model_module_version": "2.0.0",
       "_model_name": "HTMLModel",
       "_view_count": null,
       "_view_module": "@jupyter-widgets/controls",
       "_view_module_version": "2.0.0",
       "_view_name": "HTMLView",
       "description": "",
       "description_allow_html": false,
       "layout": "IPY_MODEL_b25c70e46b044ee0b3dcf5afc60e3ad0",
       "placeholder": "​",
       "style": "IPY_MODEL_2736f5bbd8ba452f9bd2131fdbc75fad",
       "tabbable": null,
       "tooltip": null,
       "value": "tokenizer.json: 100%"
      }
     },
     "fda7ffe2f8a84e2fa774a6e81f4d83d1": {
      "model_module": "@jupyter-widgets/base",
      "model_module_version": "2.0.0",
      "model_name": "LayoutModel",
      "state": {
       "_model_module": "@jupyter-widgets/base",
       "_model_module_version": "2.0.0",
       "_model_name": "LayoutModel",
       "_view_count": null,
       "_view_module": "@jupyter-widgets/base",
       "_view_module_version": "2.0.0",
       "_view_name": "LayoutView",
       "align_content": null,
       "align_items": null,
       "align_self": null,
       "border_bottom": null,
       "border_left": null,
       "border_right": null,
       "border_top": null,
       "bottom": null,
       "display": null,
       "flex": null,
       "flex_flow": null,
       "grid_area": null,
       "grid_auto_columns": null,
       "grid_auto_flow": null,
       "grid_auto_rows": null,
       "grid_column": null,
       "grid_gap": null,
       "grid_row": null,
       "grid_template_areas": null,
       "grid_template_columns": null,
       "grid_template_rows": null,
       "height": null,
       "justify_content": null,
       "justify_items": null,
       "left": null,
       "margin": null,
       "max_height": null,
       "max_width": null,
       "min_height": null,
       "min_width": null,
       "object_fit": null,
       "object_position": null,
       "order": null,
       "overflow": null,
       "padding": null,
       "right": null,
       "top": null,
       "visibility": null,
       "width": null
      }
     }
    },
    "version_major": 2,
    "version_minor": 0
   }
  }
 },
 "nbformat": 4,
 "nbformat_minor": 5
}
