{
 "cells": [
  {
   "cell_type": "markdown",
   "id": "e6d041ef",
   "metadata": {
    "papermill": {
     "duration": 0.005325,
     "end_time": "2025-07-05T12:09:33.757836",
     "exception": false,
     "start_time": "2025-07-05T12:09:33.752511",
     "status": "completed"
    },
    "tags": []
   },
   "source": [
    "### 0. Imports"
   ]
  },
  {
   "cell_type": "code",
   "execution_count": 1,
   "id": "189b7218",
   "metadata": {
    "execution": {
     "iopub.execute_input": "2025-07-05T12:09:33.767904Z",
     "iopub.status.busy": "2025-07-05T12:09:33.767280Z",
     "iopub.status.idle": "2025-07-05T12:10:01.726599Z",
     "shell.execute_reply": "2025-07-05T12:10:01.726031Z"
    },
    "papermill": {
     "duration": 27.965499,
     "end_time": "2025-07-05T12:10:01.727971",
     "exception": false,
     "start_time": "2025-07-05T12:09:33.762472",
     "status": "completed"
    },
    "tags": []
   },
   "outputs": [
    {
     "name": "stderr",
     "output_type": "stream",
     "text": [
      "2025-07-05 12:09:51.126415: E external/local_xla/xla/stream_executor/cuda/cuda_fft.cc:477] Unable to register cuFFT factory: Attempting to register factory for plugin cuFFT when one has already been registered\n",
      "WARNING: All log messages before absl::InitializeLog() is called are written to STDERR\n",
      "E0000 00:00:1751717391.320452      19 cuda_dnn.cc:8310] Unable to register cuDNN factory: Attempting to register factory for plugin cuDNN when one has already been registered\n",
      "E0000 00:00:1751717391.373696      19 cuda_blas.cc:1418] Unable to register cuBLAS factory: Attempting to register factory for plugin cuBLAS when one has already been registered\n"
     ]
    }
   ],
   "source": [
    "import numpy as np\n",
    "import pandas as pd\n",
    "import string\n",
    "from nltk.corpus import stopwords\n",
    "import emoji\n",
    "import torch\n",
    "import re\n",
    "from transformers import BertForSequenceClassification, BertConfig,BertTokenizer, get_linear_schedule_with_warmup, BertModel, AutoTokenizer\n",
    "from torch.utils.data import TensorDataset, DataLoader, RandomSampler, SequentialSampler,random_split\n",
    "import random\n",
    "import torch.nn as nn\n",
    "from scipy.special import softmax"
   ]
  },
  {
   "cell_type": "code",
   "execution_count": 2,
   "id": "44e668a1",
   "metadata": {
    "execution": {
     "iopub.execute_input": "2025-07-05T12:10:01.738604Z",
     "iopub.status.busy": "2025-07-05T12:10:01.737917Z",
     "iopub.status.idle": "2025-07-05T12:10:01.743091Z",
     "shell.execute_reply": "2025-07-05T12:10:01.742564Z"
    },
    "papermill": {
     "duration": 0.011209,
     "end_time": "2025-07-05T12:10:01.744150",
     "exception": false,
     "start_time": "2025-07-05T12:10:01.732941",
     "status": "completed"
    },
    "tags": []
   },
   "outputs": [
    {
     "data": {
      "text/plain": [
       "device(type='cuda', index=0)"
      ]
     },
     "execution_count": 2,
     "metadata": {},
     "output_type": "execute_result"
    }
   ],
   "source": [
    "device = torch.device(\"cuda:0\" if torch.cuda.is_available() else \"cpu\")\n",
    "device"
   ]
  },
  {
   "cell_type": "markdown",
   "id": "b58f7921",
   "metadata": {
    "papermill": {
     "duration": 0.004234,
     "end_time": "2025-07-05T12:10:01.753022",
     "exception": false,
     "start_time": "2025-07-05T12:10:01.748788",
     "status": "completed"
    },
    "tags": []
   },
   "source": [
    "### 1. Dataset Load"
   ]
  },
  {
   "cell_type": "code",
   "execution_count": 3,
   "id": "905cbcc1",
   "metadata": {
    "execution": {
     "iopub.execute_input": "2025-07-05T12:10:01.762827Z",
     "iopub.status.busy": "2025-07-05T12:10:01.762641Z",
     "iopub.status.idle": "2025-07-05T12:10:04.941403Z",
     "shell.execute_reply": "2025-07-05T12:10:04.940661Z"
    },
    "papermill": {
     "duration": 3.185203,
     "end_time": "2025-07-05T12:10:04.942829",
     "exception": false,
     "start_time": "2025-07-05T12:10:01.757626",
     "status": "completed"
    },
    "tags": []
   },
   "outputs": [],
   "source": [
    "train_df = pd.read_csv(\"/kaggle/input/llm-classification-finetuning/train.csv\")\n",
    "test_df = pd.read_csv(\"/kaggle/input/llm-classification-finetuning/test.csv\")\n",
    "submission_template = pd.read_csv(\"/kaggle/input/llm-classification-finetuning/sample_submission.csv\")"
   ]
  },
  {
   "cell_type": "markdown",
   "id": "a91d0e93",
   "metadata": {
    "papermill": {
     "duration": 0.005052,
     "end_time": "2025-07-05T12:10:04.952814",
     "exception": false,
     "start_time": "2025-07-05T12:10:04.947762",
     "status": "completed"
    },
    "tags": []
   },
   "source": [
    "### 2. EDA"
   ]
  },
  {
   "cell_type": "markdown",
   "id": "1aa961b8",
   "metadata": {
    "papermill": {
     "duration": 0.004435,
     "end_time": "2025-07-05T12:10:04.962076",
     "exception": false,
     "start_time": "2025-07-05T12:10:04.957641",
     "status": "completed"
    },
    "tags": []
   },
   "source": [
    "Check Exp1 notebook for data analysis"
   ]
  },
  {
   "cell_type": "markdown",
   "id": "25ac6141",
   "metadata": {
    "papermill": {
     "duration": 0.00508,
     "end_time": "2025-07-05T12:10:04.971781",
     "exception": false,
     "start_time": "2025-07-05T12:10:04.966701",
     "status": "completed"
    },
    "tags": []
   },
   "source": [
    "### 3. Preprocessing"
   ]
  },
  {
   "cell_type": "code",
   "execution_count": 4,
   "id": "f80a90f9",
   "metadata": {
    "execution": {
     "iopub.execute_input": "2025-07-05T12:10:04.982115Z",
     "iopub.status.busy": "2025-07-05T12:10:04.981404Z",
     "iopub.status.idle": "2025-07-05T12:10:04.986179Z",
     "shell.execute_reply": "2025-07-05T12:10:04.985574Z"
    },
    "papermill": {
     "duration": 0.011252,
     "end_time": "2025-07-05T12:10:04.987412",
     "exception": false,
     "start_time": "2025-07-05T12:10:04.976160",
     "status": "completed"
    },
    "tags": []
   },
   "outputs": [],
   "source": [
    "def clean_text(text):\n",
    "    #1. case folding\n",
    "    text = text.lower()\n",
    "    #handling non-words\n",
    "    #text = re.sub(r\"[^a-zA-Z?.!,¿]+\", \" \", text) \n",
    "    #2. remove html tags\n",
    "    text = re.sub(r\"<.*?>\", \"\", text)\n",
    "    #3. remove URLs\n",
    "    text = re.sub(r\"https?:\\/\\/\\S+|www\\.\\S+\", \"\", text)\n",
    "    #4. remove punctutation\n",
    "    text = text.translate(str.maketrans('', '', string.punctuation))\n",
    "    #5. remove stopwords\n",
    "    stopword_list = stopwords.words('english')\n",
    "    text = [word for word in text.split() if word not in stopword_list]\n",
    "    text = \" \".join(text)\n",
    "    #6. handle emojis\n",
    "    text = emoji.demojize(text)\n",
    "\n",
    "    return text"
   ]
  },
  {
   "cell_type": "code",
   "execution_count": 5,
   "id": "4434e493",
   "metadata": {
    "execution": {
     "iopub.execute_input": "2025-07-05T12:10:05.004206Z",
     "iopub.status.busy": "2025-07-05T12:10:05.003998Z",
     "iopub.status.idle": "2025-07-05T12:10:05.007470Z",
     "shell.execute_reply": "2025-07-05T12:10:05.006782Z"
    },
    "papermill": {
     "duration": 0.013305,
     "end_time": "2025-07-05T12:10:05.008738",
     "exception": false,
     "start_time": "2025-07-05T12:10:04.995433",
     "status": "completed"
    },
    "tags": []
   },
   "outputs": [],
   "source": [
    "def replace_emptystring(text):\n",
    "    if (text == ''):\n",
    "        return \"NA\"\n",
    "    return text"
   ]
  },
  {
   "cell_type": "code",
   "execution_count": 6,
   "id": "2e6ea4aa",
   "metadata": {
    "execution": {
     "iopub.execute_input": "2025-07-05T12:10:05.025912Z",
     "iopub.status.busy": "2025-07-05T12:10:05.025709Z",
     "iopub.status.idle": "2025-07-05T12:10:05.028775Z",
     "shell.execute_reply": "2025-07-05T12:10:05.028182Z"
    },
    "papermill": {
     "duration": 0.012554,
     "end_time": "2025-07-05T12:10:05.029776",
     "exception": false,
     "start_time": "2025-07-05T12:10:05.017222",
     "status": "completed"
    },
    "tags": []
   },
   "outputs": [],
   "source": [
    "#One hot encoded\n",
    "#train_df['label'] = [[train_df['winner_model_a'][i], train_df['winner_model_b'][i], train_df['winner_tie'][i]] for i in range(0, len(train_df))]"
   ]
  },
  {
   "cell_type": "code",
   "execution_count": 7,
   "id": "735ec452",
   "metadata": {
    "execution": {
     "iopub.execute_input": "2025-07-05T12:10:05.039738Z",
     "iopub.status.busy": "2025-07-05T12:10:05.039271Z",
     "iopub.status.idle": "2025-07-05T12:10:05.411475Z",
     "shell.execute_reply": "2025-07-05T12:10:05.410906Z"
    },
    "papermill": {
     "duration": 0.378638,
     "end_time": "2025-07-05T12:10:05.412825",
     "exception": false,
     "start_time": "2025-07-05T12:10:05.034187",
     "status": "completed"
    },
    "tags": []
   },
   "outputs": [],
   "source": [
    "#Class indices\n",
    "train_df['label'] = [0 if train_df['winner_model_a'][i]==1 else(1 if train_df['winner_model_b'][i]==1 else 2) for i in range(0, len(train_df))]"
   ]
  },
  {
   "cell_type": "code",
   "execution_count": 8,
   "id": "fa0f65de",
   "metadata": {
    "execution": {
     "iopub.execute_input": "2025-07-05T12:10:05.422936Z",
     "iopub.status.busy": "2025-07-05T12:10:05.422713Z",
     "iopub.status.idle": "2025-07-05T12:12:33.609537Z",
     "shell.execute_reply": "2025-07-05T12:12:33.608732Z"
    },
    "papermill": {
     "duration": 148.193416,
     "end_time": "2025-07-05T12:12:33.611035",
     "exception": false,
     "start_time": "2025-07-05T12:10:05.417619",
     "status": "completed"
    },
    "tags": []
   },
   "outputs": [],
   "source": [
    "train_df['prompt'] = train_df['prompt'].apply(lambda x: clean_text(x))\n",
    "train_df['response_a'] = train_df['response_a'].apply(lambda x: clean_text(x))\n",
    "train_df['response_b'] = train_df['response_b'].apply(lambda x: clean_text(x))\n",
    "\n",
    "test_df['prompt'] = test_df['prompt'].apply(lambda x: clean_text(x))\n",
    "test_df['response_a'] = test_df['response_a'].apply(lambda x: clean_text(x))\n",
    "test_df['response_b'] = test_df['response_b'].apply(lambda x: clean_text(x))"
   ]
  },
  {
   "cell_type": "code",
   "execution_count": 9,
   "id": "dcb99778",
   "metadata": {
    "execution": {
     "iopub.execute_input": "2025-07-05T12:12:33.621675Z",
     "iopub.status.busy": "2025-07-05T12:12:33.621439Z",
     "iopub.status.idle": "2025-07-05T12:12:33.678042Z",
     "shell.execute_reply": "2025-07-05T12:12:33.677332Z"
    },
    "papermill": {
     "duration": 0.062927,
     "end_time": "2025-07-05T12:12:33.679161",
     "exception": false,
     "start_time": "2025-07-05T12:12:33.616234",
     "status": "completed"
    },
    "tags": []
   },
   "outputs": [],
   "source": [
    "train_df['prompt'] = train_df['prompt'].apply(lambda x: replace_emptystring(x))\n",
    "train_df['response_a'] = train_df['response_a'].apply(lambda x: replace_emptystring(x))\n",
    "train_df['response_b'] = train_df['response_b'].apply(lambda x: replace_emptystring(x))\n",
    "\n",
    "test_df['prompt'] = test_df['prompt'].apply(lambda x: replace_emptystring(x))\n",
    "test_df['response_a'] = test_df['response_a'].apply(lambda x: replace_emptystring(x))\n",
    "test_df['response_b'] = test_df['response_b'].apply(lambda x: replace_emptystring(x))"
   ]
  },
  {
   "cell_type": "markdown",
   "id": "9b50f56d",
   "metadata": {
    "papermill": {
     "duration": 0.004381,
     "end_time": "2025-07-05T12:12:33.688132",
     "exception": false,
     "start_time": "2025-07-05T12:12:33.683751",
     "status": "completed"
    },
    "tags": []
   },
   "source": [
    "### 4. LLM Finetune\n",
    "#### 4.1 Tokenizer"
   ]
  },
  {
   "cell_type": "code",
   "execution_count": 10,
   "id": "ce9a7c2e",
   "metadata": {
    "execution": {
     "iopub.execute_input": "2025-07-05T12:12:33.697564Z",
     "iopub.status.busy": "2025-07-05T12:12:33.697311Z",
     "iopub.status.idle": "2025-07-05T12:12:35.101854Z",
     "shell.execute_reply": "2025-07-05T12:12:35.101332Z"
    },
    "papermill": {
     "duration": 1.410556,
     "end_time": "2025-07-05T12:12:35.102990",
     "exception": false,
     "start_time": "2025-07-05T12:12:33.692434",
     "status": "completed"
    },
    "tags": []
   },
   "outputs": [
    {
     "data": {
      "application/vnd.jupyter.widget-view+json": {
       "model_id": "37b4c94d7eec469db5318d9704721905",
       "version_major": 2,
       "version_minor": 0
      },
      "text/plain": [
       "tokenizer_config.json:   0%|          | 0.00/48.0 [00:00<?, ?B/s]"
      ]
     },
     "metadata": {},
     "output_type": "display_data"
    },
    {
     "data": {
      "application/vnd.jupyter.widget-view+json": {
       "model_id": "2310cd2a572e4a2d9eea5823003b2502",
       "version_major": 2,
       "version_minor": 0
      },
      "text/plain": [
       "vocab.txt:   0%|          | 0.00/232k [00:00<?, ?B/s]"
      ]
     },
     "metadata": {},
     "output_type": "display_data"
    },
    {
     "data": {
      "application/vnd.jupyter.widget-view+json": {
       "model_id": "7c9e37cb7cdd46a4a6d5d2aab59967dd",
       "version_major": 2,
       "version_minor": 0
      },
      "text/plain": [
       "tokenizer.json:   0%|          | 0.00/466k [00:00<?, ?B/s]"
      ]
     },
     "metadata": {},
     "output_type": "display_data"
    },
    {
     "data": {
      "application/vnd.jupyter.widget-view+json": {
       "model_id": "cb3843d695704585920f6439b47822a9",
       "version_major": 2,
       "version_minor": 0
      },
      "text/plain": [
       "config.json:   0%|          | 0.00/570 [00:00<?, ?B/s]"
      ]
     },
     "metadata": {},
     "output_type": "display_data"
    }
   ],
   "source": [
    "tokenizer = BertTokenizer.from_pretrained('bert-base-uncased', do_lower_case = True)"
   ]
  },
  {
   "cell_type": "markdown",
   "id": "f15591a7",
   "metadata": {
    "papermill": {
     "duration": 0.004722,
     "end_time": "2025-07-05T12:12:35.112989",
     "exception": false,
     "start_time": "2025-07-05T12:12:35.108267",
     "status": "completed"
    },
    "tags": []
   },
   "source": [
    "#### 4.2 Encoding inputs"
   ]
  },
  {
   "cell_type": "markdown",
   "id": "2755fb9c",
   "metadata": {
    "papermill": {
     "duration": 0.004468,
     "end_time": "2025-07-05T12:12:35.122043",
     "exception": false,
     "start_time": "2025-07-05T12:12:35.117575",
     "status": "completed"
    },
    "tags": []
   },
   "source": [
    "I create separate embeddings for Prompt-response1 and Prompt-response2 and then concatenate them. This is based on the fact that response1 and response2 only depend on given prompt, not on each other. A classification layer is added on top and I train the classification layer and bert both.\n",
    "#### Difference from exp4 : </br>\n",
    "1. Updated input format to tokenizer to specifically instead Prompt and Response headers"
   ]
  },
  {
   "cell_type": "markdown",
   "id": "43d0b44a",
   "metadata": {
    "papermill": {
     "duration": 0.004468,
     "end_time": "2025-07-05T12:12:35.131081",
     "exception": false,
     "start_time": "2025-07-05T12:12:35.126613",
     "status": "completed"
    },
    "tags": []
   },
   "source": [
    "#### 4.3 Encoding train dataset"
   ]
  },
  {
   "cell_type": "code",
   "execution_count": 11,
   "id": "d241a529",
   "metadata": {
    "_kg_hide-input": false,
    "execution": {
     "iopub.execute_input": "2025-07-05T12:12:35.141468Z",
     "iopub.status.busy": "2025-07-05T12:12:35.140986Z",
     "iopub.status.idle": "2025-07-05T12:19:29.191325Z",
     "shell.execute_reply": "2025-07-05T12:19:29.190690Z"
    },
    "papermill": {
     "duration": 414.057128,
     "end_time": "2025-07-05T12:19:29.192774",
     "exception": false,
     "start_time": "2025-07-05T12:12:35.135646",
     "status": "completed"
    },
    "tags": []
   },
   "outputs": [],
   "source": [
    "input_encodings  = [[], []]\n",
    "attention_masks = [[], []]\n",
    "\n",
    "for prompt, response1, response2 in zip(train_df['prompt'], train_df['response_a'], train_df['response_b']):\n",
    "    prompt_response1_encoded_dict = tokenizer(\n",
    "        f\"Prompt: {prompt}\\n\\nResponse: {response1}\",\n",
    "        add_special_tokens = True,\n",
    "        max_length = 512,\n",
    "        padding = 'max_length',\n",
    "        return_attention_mask = True,\n",
    "        return_tensors = 'pt',\n",
    "        truncation=True\n",
    "    )\n",
    "\n",
    "    prompt_response2_encoded_dict = tokenizer(\n",
    "        f\"Prompt: {prompt}\\n\\nResponse: {response2}\",\n",
    "        add_special_tokens = True,\n",
    "        max_length = 512,\n",
    "        padding = 'max_length',\n",
    "        return_attention_mask = True,\n",
    "        return_tensors = 'pt',\n",
    "        truncation=True\n",
    "    )\n",
    "    input_encodings[0].append(prompt_response1_encoded_dict['input_ids'])\n",
    "    attention_masks[0].append(prompt_response1_encoded_dict['attention_mask'])\n",
    "    input_encodings[1].append(prompt_response2_encoded_dict['input_ids'])\n",
    "    attention_masks[1].append(prompt_response2_encoded_dict['attention_mask'])\n",
    "    \n",
    "dataset = TensorDataset(\n",
    "    torch.cat(input_encodings[0], dim=0), \n",
    "    torch.cat(attention_masks[0], dim=0),\n",
    "    torch.cat(input_encodings[1], dim=0), \n",
    "    torch.cat(attention_masks[1], dim=0),\n",
    "    torch.tensor(train_df['label']))"
   ]
  },
  {
   "cell_type": "code",
   "execution_count": 12,
   "id": "9846c9c5",
   "metadata": {
    "execution": {
     "iopub.execute_input": "2025-07-05T12:19:29.203995Z",
     "iopub.status.busy": "2025-07-05T12:19:29.203795Z",
     "iopub.status.idle": "2025-07-05T12:19:29.235612Z",
     "shell.execute_reply": "2025-07-05T12:19:29.235130Z"
    },
    "papermill": {
     "duration": 0.038362,
     "end_time": "2025-07-05T12:19:29.236578",
     "exception": false,
     "start_time": "2025-07-05T12:19:29.198216",
     "status": "completed"
    },
    "tags": []
   },
   "outputs": [],
   "source": [
    "test_input_encodings  = [[], []]\n",
    "test_attention_masks = [[], []]\n",
    "\n",
    "for prompt, response1, response2 in zip(test_df['prompt'], test_df['response_a'], test_df['response_b']):\n",
    "    test_prompt_response1_encoded_dict = tokenizer(\n",
    "        f\"Prompt: {prompt}\\n\\nResponse: {response1}\",\n",
    "        add_special_tokens = True,\n",
    "        max_length = 512,\n",
    "        padding = 'max_length',\n",
    "        return_attention_mask = True,\n",
    "        return_tensors = 'pt',\n",
    "        truncation=True\n",
    "    )\n",
    "\n",
    "    test_prompt_response2_encoded_dict = tokenizer(\n",
    "        f\"Prompt: {prompt}\\n\\nResponse: {response2}\",\n",
    "        add_special_tokens = True,\n",
    "        max_length = 512,\n",
    "        padding = 'max_length',\n",
    "        return_attention_mask = True,\n",
    "        return_tensors = 'pt',\n",
    "        truncation=True\n",
    "    )\n",
    "    test_input_encodings[0].append(test_prompt_response1_encoded_dict['input_ids'])\n",
    "    test_attention_masks[0].append(test_prompt_response1_encoded_dict['attention_mask'])\n",
    "    test_input_encodings[1].append(test_prompt_response2_encoded_dict['input_ids'])\n",
    "    test_attention_masks[1].append(test_prompt_response2_encoded_dict['attention_mask'])\n",
    "    \n",
    "test_dataset = TensorDataset(\n",
    "    torch.cat(test_input_encodings[0], dim=0), \n",
    "    torch.cat(test_attention_masks[0], dim=0),\n",
    "    torch.cat(test_input_encodings[1], dim=0), \n",
    "    torch.cat(test_attention_masks[1], dim=0),\n",
    "    torch.tensor(test_df['id']))"
   ]
  },
  {
   "cell_type": "markdown",
   "id": "d90a4614",
   "metadata": {
    "papermill": {
     "duration": 0.004493,
     "end_time": "2025-07-05T12:19:29.245773",
     "exception": false,
     "start_time": "2025-07-05T12:19:29.241280",
     "status": "completed"
    },
    "tags": []
   },
   "source": [
    "#### 4.4 Train-Val Split"
   ]
  },
  {
   "cell_type": "code",
   "execution_count": 13,
   "id": "851f738f",
   "metadata": {
    "execution": {
     "iopub.execute_input": "2025-07-05T12:19:29.255908Z",
     "iopub.status.busy": "2025-07-05T12:19:29.255707Z",
     "iopub.status.idle": "2025-07-05T12:19:29.262340Z",
     "shell.execute_reply": "2025-07-05T12:19:29.261812Z"
    },
    "papermill": {
     "duration": 0.012946,
     "end_time": "2025-07-05T12:19:29.263401",
     "exception": false,
     "start_time": "2025-07-05T12:19:29.250455",
     "status": "completed"
    },
    "tags": []
   },
   "outputs": [],
   "source": [
    "train_dataset, val_dataset = random_split(dataset, [int(0.8*len(dataset)), len(dataset)-int(0.8*len(dataset))])"
   ]
  },
  {
   "cell_type": "markdown",
   "id": "cea67c0b",
   "metadata": {
    "papermill": {
     "duration": 0.00453,
     "end_time": "2025-07-05T12:19:29.272737",
     "exception": false,
     "start_time": "2025-07-05T12:19:29.268207",
     "status": "completed"
    },
    "tags": []
   },
   "source": [
    "#### 4.5 Dataloader"
   ]
  },
  {
   "cell_type": "code",
   "execution_count": 14,
   "id": "a8b2c450",
   "metadata": {
    "execution": {
     "iopub.execute_input": "2025-07-05T12:19:29.283052Z",
     "iopub.status.busy": "2025-07-05T12:19:29.282675Z",
     "iopub.status.idle": "2025-07-05T12:19:29.286666Z",
     "shell.execute_reply": "2025-07-05T12:19:29.285996Z"
    },
    "papermill": {
     "duration": 0.010308,
     "end_time": "2025-07-05T12:19:29.287799",
     "exception": false,
     "start_time": "2025-07-05T12:19:29.277491",
     "status": "completed"
    },
    "tags": []
   },
   "outputs": [],
   "source": [
    "train_dataloader = DataLoader(\n",
    "    train_dataset,\n",
    "    sampler = RandomSampler(train_dataset),\n",
    "    batch_size = 16\n",
    ")\n",
    "\n",
    "val_dataloader = DataLoader(\n",
    "    val_dataset,\n",
    "    sampler = SequentialSampler(val_dataset),\n",
    "    batch_size = 16\n",
    ")\n",
    "\n",
    "test_dataloader = DataLoader(\n",
    "    test_dataset,\n",
    "    sampler = SequentialSampler(test_dataset),\n",
    "    batch_size = 16\n",
    ")"
   ]
  },
  {
   "cell_type": "markdown",
   "id": "616d68be",
   "metadata": {
    "papermill": {
     "duration": 0.004459,
     "end_time": "2025-07-05T12:19:29.297049",
     "exception": false,
     "start_time": "2025-07-05T12:19:29.292590",
     "status": "completed"
    },
    "tags": []
   },
   "source": [
    "#### 4.6 Create bert classifier"
   ]
  },
  {
   "cell_type": "code",
   "execution_count": 15,
   "id": "0da9a7ee",
   "metadata": {
    "execution": {
     "iopub.execute_input": "2025-07-05T12:19:29.307404Z",
     "iopub.status.busy": "2025-07-05T12:19:29.306761Z",
     "iopub.status.idle": "2025-07-05T12:19:29.312288Z",
     "shell.execute_reply": "2025-07-05T12:19:29.311774Z"
    },
    "papermill": {
     "duration": 0.011545,
     "end_time": "2025-07-05T12:19:29.313247",
     "exception": false,
     "start_time": "2025-07-05T12:19:29.301702",
     "status": "completed"
    },
    "tags": []
   },
   "outputs": [],
   "source": [
    "class BertClassifier(nn.Module):\n",
    "    def __init__(self, num_labels=3, pretrained_model_name='bert-base-uncased'):\n",
    "        super(BertClassifier, self).__init__()\n",
    "        self.bert = BertModel.from_pretrained(pretrained_model_name)\n",
    "        self.dropout = nn.Dropout(p=0.1)\n",
    "        self.classifier_head = nn.Linear(self.bert.config.hidden_size*2, num_labels)\n",
    "        # for param in self.bert.parameters():\n",
    "        #     param.requires_grad = False\n",
    "\n",
    "    def forward(self, input1, attentionmask1, input2, attentionmask2):\n",
    "        output1 = self.bert(\n",
    "            input1, \n",
    "            token_type_ids = None, \n",
    "            attention_mask = attentionmask1\n",
    "        )\n",
    "        embedding1 = output1.last_hidden_state[:,0,:]\n",
    "        \n",
    "        output2 = self.bert(\n",
    "            input2, \n",
    "            token_type_ids = None, \n",
    "            attention_mask = attentionmask2\n",
    "        )\n",
    "        embedding2 = output2.last_hidden_state[:,0,:]\n",
    "\n",
    "        final_embedding = torch.cat((embedding1, embedding2), dim=1)\n",
    "\n",
    "        out = self.dropout(final_embedding)\n",
    "        out = self.classifier_head(out)\n",
    "        #out = self.softmax(out) nn.CrossEntropyLoss() expects logits not probabilities!!!\n",
    "        \n",
    "        return out"
   ]
  },
  {
   "cell_type": "code",
   "execution_count": 16,
   "id": "636f14f3",
   "metadata": {
    "execution": {
     "iopub.execute_input": "2025-07-05T12:19:29.323630Z",
     "iopub.status.busy": "2025-07-05T12:19:29.323086Z",
     "iopub.status.idle": "2025-07-05T12:19:31.983380Z",
     "shell.execute_reply": "2025-07-05T12:19:31.982651Z"
    },
    "papermill": {
     "duration": 2.667045,
     "end_time": "2025-07-05T12:19:31.984944",
     "exception": false,
     "start_time": "2025-07-05T12:19:29.317899",
     "status": "completed"
    },
    "tags": []
   },
   "outputs": [
    {
     "data": {
      "application/vnd.jupyter.widget-view+json": {
       "model_id": "aff34eca432b4f798713d19b6fd5c438",
       "version_major": 2,
       "version_minor": 0
      },
      "text/plain": [
       "model.safetensors:   0%|          | 0.00/440M [00:00<?, ?B/s]"
      ]
     },
     "metadata": {},
     "output_type": "display_data"
    }
   ],
   "source": [
    "model = BertClassifier()\n",
    "model = model.to(device)"
   ]
  },
  {
   "cell_type": "code",
   "execution_count": 17,
   "id": "f9ecc6e6",
   "metadata": {
    "execution": {
     "iopub.execute_input": "2025-07-05T12:19:31.998122Z",
     "iopub.status.busy": "2025-07-05T12:19:31.997851Z",
     "iopub.status.idle": "2025-07-05T12:19:32.005626Z",
     "shell.execute_reply": "2025-07-05T12:19:32.003765Z"
    },
    "papermill": {
     "duration": 0.016355,
     "end_time": "2025-07-05T12:19:32.006898",
     "exception": false,
     "start_time": "2025-07-05T12:19:31.990543",
     "status": "completed"
    },
    "tags": []
   },
   "outputs": [],
   "source": [
    "optimizer = torch.optim.Adam(model.parameters())\n",
    "criterion = nn.CrossEntropyLoss() # expects logits instead of prediction probabilites & class indices instead of one hot encoded targets!!!\n",
    "scheduler = get_linear_schedule_with_warmup(optimizer, num_warmup_steps=0, num_training_steps=len(train_dataloader)*3) #3=#epochs"
   ]
  },
  {
   "cell_type": "markdown",
   "id": "89a0ee2d",
   "metadata": {
    "papermill": {
     "duration": 0.004678,
     "end_time": "2025-07-05T12:19:32.016671",
     "exception": false,
     "start_time": "2025-07-05T12:19:32.011993",
     "status": "completed"
    },
    "tags": []
   },
   "source": [
    "#### 4.6 Finetuning Bert - Training loop"
   ]
  },
  {
   "cell_type": "code",
   "execution_count": 18,
   "id": "b6623bcc",
   "metadata": {
    "execution": {
     "iopub.execute_input": "2025-07-05T12:19:32.027088Z",
     "iopub.status.busy": "2025-07-05T12:19:32.026871Z",
     "iopub.status.idle": "2025-07-05T12:19:32.035226Z",
     "shell.execute_reply": "2025-07-05T12:19:32.034549Z"
    },
    "papermill": {
     "duration": 0.015181,
     "end_time": "2025-07-05T12:19:32.036719",
     "exception": false,
     "start_time": "2025-07-05T12:19:32.021538",
     "status": "completed"
    },
    "tags": []
   },
   "outputs": [],
   "source": [
    "seed_val = 42\n",
    "random.seed(seed_val)\n",
    "np.random.seed(seed_val)\n",
    "torch.manual_seed(seed_val)\n",
    "torch.cuda.manual_seed_all(seed_val)"
   ]
  },
  {
   "cell_type": "code",
   "execution_count": 19,
   "id": "88f6396d",
   "metadata": {
    "execution": {
     "iopub.execute_input": "2025-07-05T12:19:32.053151Z",
     "iopub.status.busy": "2025-07-05T12:19:32.052942Z",
     "iopub.status.idle": "2025-07-05T12:19:32.056601Z",
     "shell.execute_reply": "2025-07-05T12:19:32.055929Z"
    },
    "papermill": {
     "duration": 0.012525,
     "end_time": "2025-07-05T12:19:32.057705",
     "exception": false,
     "start_time": "2025-07-05T12:19:32.045180",
     "status": "completed"
    },
    "tags": []
   },
   "outputs": [],
   "source": [
    "def get_accuracy(predictions, ground_truths):\n",
    "    pred = np.argmax(predictions, axis=1)\n",
    "    return np.sum(pred==ground_truths) / len(ground_truths)"
   ]
  },
  {
   "cell_type": "code",
   "execution_count": 20,
   "id": "6144e5b1",
   "metadata": {
    "execution": {
     "iopub.execute_input": "2025-07-05T12:19:32.118593Z",
     "iopub.status.busy": "2025-07-05T12:19:32.118214Z",
     "iopub.status.idle": "2025-07-05T17:22:16.283896Z",
     "shell.execute_reply": "2025-07-05T17:22:16.283106Z"
    },
    "papermill": {
     "duration": 18164.178,
     "end_time": "2025-07-05T17:22:16.290019",
     "exception": false,
     "start_time": "2025-07-05T12:19:32.112019",
     "status": "completed"
    },
    "tags": []
   },
   "outputs": [
    {
     "name": "stdout",
     "output_type": "stream",
     "text": [
      "Epoch : 0 | Training loss : 1.1085344703768223\n",
      "Val loss : 1.097557026587209 | Val accuracy : 0.3508344923504868\n",
      "Epoch : 1 | Training loss : 1.1007347381314057\n",
      "Val loss : 1.0977819383724674 | Val accuracy : 0.3397079276773296\n",
      "Epoch : 2 | Training loss : 1.0941692405719265\n",
      "Val loss : 1.108750295904316 | Val accuracy : 0.3094575799721836\n"
     ]
    }
   ],
   "source": [
    "best_eval_accuracy = 0.0\n",
    "for epoch in range(0, 3):\n",
    "    #train\n",
    "    model.train()\n",
    "    train_loss = 0.0\n",
    "    for (step, batch) in enumerate(train_dataloader):\n",
    "        batch_input1 = batch[0].to(device)\n",
    "        batch_attentionmask1 = batch[1].to(device)\n",
    "        batch_input2 = batch[2].to(device)\n",
    "        batch_attentionmask2 = batch[3].to(device)\n",
    "        batch_labels = batch[4].to(device)\n",
    "\n",
    "        optimizer.zero_grad()\n",
    "        output = model(batch_input1, \n",
    "                       batch_attentionmask1,\n",
    "                       batch_input2,\n",
    "                       batch_attentionmask2)\n",
    "        \n",
    "        loss = criterion(output, batch_labels)\n",
    "        train_loss += loss.item()\n",
    "        loss.backward()\n",
    "        torch.nn.utils.clip_grad_norm_(model.parameters(), 1.0)\n",
    "        optimizer.step()\n",
    "        scheduler.step()\n",
    "    print(f\"Epoch : {epoch} | Training loss : {train_loss / len(train_dataloader)}\")\n",
    "\n",
    "    #val\n",
    "    model.eval()\n",
    "    val_loss = 0.0\n",
    "    val_accuracy = 0.0\n",
    "    for (step, batch) in enumerate(val_dataloader):\n",
    "        batch_input1 = batch[0].to(device)\n",
    "        batch_attentionmask1 = batch[1].to(device)\n",
    "        batch_input2 = batch[2].to(device)\n",
    "        batch_attentionmask2 = batch[3].to(device)\n",
    "        batch_labels = batch[4].to(device)\n",
    "        \n",
    "        with torch.no_grad():\n",
    "            output = model(batch_input1, \n",
    "                       batch_attentionmask1,\n",
    "                       batch_input2,\n",
    "                       batch_attentionmask2)\n",
    "        \n",
    "        loss = criterion(output, batch_labels)\n",
    "        val_loss += loss.item()\n",
    "        logits = output.detach().cpu().numpy()\n",
    "        ground_truths = batch_labels.to('cpu').numpy()\n",
    "        val_accuracy += get_accuracy(logits, ground_truths)\n",
    "    print(f\"Val loss : {val_loss / len(val_dataloader)} | Val accuracy : {val_accuracy / len(val_dataloader)}\")\n",
    "    if ((val_accuracy / len(val_dataloader)) > best_eval_accuracy):\n",
    "        torch.save(model, 'bert-model')\n",
    "        best_eval_accuracy = val_accuracy / len(val_dataloader)"
   ]
  },
  {
   "cell_type": "code",
   "execution_count": 21,
   "id": "88812964",
   "metadata": {
    "execution": {
     "iopub.execute_input": "2025-07-05T17:22:16.301673Z",
     "iopub.status.busy": "2025-07-05T17:22:16.301249Z",
     "iopub.status.idle": "2025-07-05T17:22:16.609215Z",
     "shell.execute_reply": "2025-07-05T17:22:16.608611Z"
    },
    "papermill": {
     "duration": 0.315247,
     "end_time": "2025-07-05T17:22:16.610682",
     "exception": false,
     "start_time": "2025-07-05T17:22:16.295435",
     "status": "completed"
    },
    "tags": []
   },
   "outputs": [],
   "source": [
    "model = torch.load('bert-model', weights_only=False)"
   ]
  },
  {
   "cell_type": "markdown",
   "id": "c27980ac",
   "metadata": {
    "papermill": {
     "duration": 0.005104,
     "end_time": "2025-07-05T17:22:16.621403",
     "exception": false,
     "start_time": "2025-07-05T17:22:16.616299",
     "status": "completed"
    },
    "tags": []
   },
   "source": [
    "#### 4.7 Get predictions on test set"
   ]
  },
  {
   "cell_type": "code",
   "execution_count": 22,
   "id": "5628c37f",
   "metadata": {
    "execution": {
     "iopub.execute_input": "2025-07-05T17:22:16.633396Z",
     "iopub.status.busy": "2025-07-05T17:22:16.632633Z",
     "iopub.status.idle": "2025-07-05T17:22:16.740246Z",
     "shell.execute_reply": "2025-07-05T17:22:16.739470Z"
    },
    "papermill": {
     "duration": 0.115019,
     "end_time": "2025-07-05T17:22:16.741600",
     "exception": false,
     "start_time": "2025-07-05T17:22:16.626581",
     "status": "completed"
    },
    "tags": []
   },
   "outputs": [],
   "source": [
    "model.eval()\n",
    "predictions = None\n",
    "for (step, batch) in enumerate(test_dataloader):\n",
    "    batch_input1 = batch[0].to(device)\n",
    "    batch_attentionmask1 = batch[1].to(device)\n",
    "    batch_input2 = batch[2].to(device)\n",
    "    batch_attentionmask2 = batch[3].to(device)\n",
    "    batch_id = batch[4].reshape(-1,1)\n",
    "    \n",
    "    with torch.no_grad():\n",
    "        output = model(batch_input1, \n",
    "                    batch_attentionmask1,\n",
    "                    batch_input2,\n",
    "                    batch_attentionmask2)\n",
    "    logits = output.detach().cpu().numpy()\n",
    "    pred = torch.tensor(softmax(logits, axis=1))\n",
    "    pred = torch.cat([batch_id, pred], dim=1).numpy()\n",
    "    if (predictions==None):\n",
    "        predictions = pred\n",
    "    else:\n",
    "        predictions = np.concatenate((predictions, pred), axis=0)"
   ]
  },
  {
   "cell_type": "code",
   "execution_count": 23,
   "id": "978715be",
   "metadata": {
    "execution": {
     "iopub.execute_input": "2025-07-05T17:22:16.753440Z",
     "iopub.status.busy": "2025-07-05T17:22:16.753177Z",
     "iopub.status.idle": "2025-07-05T17:22:16.762686Z",
     "shell.execute_reply": "2025-07-05T17:22:16.761881Z"
    },
    "papermill": {
     "duration": 0.016607,
     "end_time": "2025-07-05T17:22:16.763904",
     "exception": false,
     "start_time": "2025-07-05T17:22:16.747297",
     "status": "completed"
    },
    "tags": []
   },
   "outputs": [],
   "source": [
    "submission = pd.DataFrame({\n",
    "    'id' : predictions[:,0],\n",
    "    'winner_model_a' : predictions[:,1],\n",
    "    'winner_model_b' : predictions[:,2],\n",
    "    'winner_tie' : predictions[:,3]\n",
    "})\n",
    "submission.to_csv('submission.csv', index=False)"
   ]
  }
 ],
 "metadata": {
  "kaggle": {
   "accelerator": "gpu",
   "dataSources": [
    {
     "databundleVersionId": 9809560,
     "sourceId": 86518,
     "sourceType": "competition"
    }
   ],
   "dockerImageVersionId": 31041,
   "isGpuEnabled": true,
   "isInternetEnabled": true,
   "language": "python",
   "sourceType": "notebook"
  },
  "kernelspec": {
   "display_name": "Python 3",
   "language": "python",
   "name": "python3"
  },
  "language_info": {
   "codemirror_mode": {
    "name": "ipython",
    "version": 3
   },
   "file_extension": ".py",
   "mimetype": "text/x-python",
   "name": "python",
   "nbconvert_exporter": "python",
   "pygments_lexer": "ipython3",
   "version": "3.11.11"
  },
  "papermill": {
   "default_parameters": {},
   "duration": 18769.939558,
   "end_time": "2025-07-05T17:22:19.703796",
   "environment_variables": {},
   "exception": null,
   "input_path": "__notebook__.ipynb",
   "output_path": "__notebook__.ipynb",
   "parameters": {},
   "start_time": "2025-07-05T12:09:29.764238",
   "version": "2.6.0"
  },
  "widgets": {
   "application/vnd.jupyter.widget-state+json": {
    "state": {
     "069f45ff56f740158d4345454b7fc8c0": {
      "model_module": "@jupyter-widgets/base",
      "model_module_version": "2.0.0",
      "model_name": "LayoutModel",
      "state": {
       "_model_module": "@jupyter-widgets/base",
       "_model_module_version": "2.0.0",
       "_model_name": "LayoutModel",
       "_view_count": null,
       "_view_module": "@jupyter-widgets/base",
       "_view_module_version": "2.0.0",
       "_view_name": "LayoutView",
       "align_content": null,
       "align_items": null,
       "align_self": null,
       "border_bottom": null,
       "border_left": null,
       "border_right": null,
       "border_top": null,
       "bottom": null,
       "display": null,
       "flex": null,
       "flex_flow": null,
       "grid_area": null,
       "grid_auto_columns": null,
       "grid_auto_flow": null,
       "grid_auto_rows": null,
       "grid_column": null,
       "grid_gap": null,
       "grid_row": null,
       "grid_template_areas": null,
       "grid_template_columns": null,
       "grid_template_rows": null,
       "height": null,
       "justify_content": null,
       "justify_items": null,
       "left": null,
       "margin": null,
       "max_height": null,
       "max_width": null,
       "min_height": null,
       "min_width": null,
       "object_fit": null,
       "object_position": null,
       "order": null,
       "overflow": null,
       "padding": null,
       "right": null,
       "top": null,
       "visibility": null,
       "width": null
      }
     },
     "0f6211ad52fd4b3786a30a2970a65a8c": {
      "model_module": "@jupyter-widgets/controls",
      "model_module_version": "2.0.0",
      "model_name": "HTMLStyleModel",
      "state": {
       "_model_module": "@jupyter-widgets/controls",
       "_model_module_version": "2.0.0",
       "_model_name": "HTMLStyleModel",
       "_view_count": null,
       "_view_module": "@jupyter-widgets/base",
       "_view_module_version": "2.0.0",
       "_view_name": "StyleView",
       "background": null,
       "description_width": "",
       "font_size": null,
       "text_color": null
      }
     },
     "198e8879a5844baebbe0c96b0cb23996": {
      "model_module": "@jupyter-widgets/controls",
      "model_module_version": "2.0.0",
      "model_name": "HTMLStyleModel",
      "state": {
       "_model_module": "@jupyter-widgets/controls",
       "_model_module_version": "2.0.0",
       "_model_name": "HTMLStyleModel",
       "_view_count": null,
       "_view_module": "@jupyter-widgets/base",
       "_view_module_version": "2.0.0",
       "_view_name": "StyleView",
       "background": null,
       "description_width": "",
       "font_size": null,
       "text_color": null
      }
     },
     "2310cd2a572e4a2d9eea5823003b2502": {
      "model_module": "@jupyter-widgets/controls",
      "model_module_version": "2.0.0",
      "model_name": "HBoxModel",
      "state": {
       "_dom_classes": [],
       "_model_module": "@jupyter-widgets/controls",
       "_model_module_version": "2.0.0",
       "_model_name": "HBoxModel",
       "_view_count": null,
       "_view_module": "@jupyter-widgets/controls",
       "_view_module_version": "2.0.0",
       "_view_name": "HBoxView",
       "box_style": "",
       "children": [
        "IPY_MODEL_9635fa06e25e475eaed662ca947a6ef2",
        "IPY_MODEL_6188cfd3d72643349ea43d2b7e505317",
        "IPY_MODEL_7f89783ba8be42d9a0039eb12de3f706"
       ],
       "layout": "IPY_MODEL_9e4aac0530094878bc18116f89d7b2f6",
       "tabbable": null,
       "tooltip": null
      }
     },
     "27203cfc07dd4a8eb7e5834c5e97d4bb": {
      "model_module": "@jupyter-widgets/base",
      "model_module_version": "2.0.0",
      "model_name": "LayoutModel",
      "state": {
       "_model_module": "@jupyter-widgets/base",
       "_model_module_version": "2.0.0",
       "_model_name": "LayoutModel",
       "_view_count": null,
       "_view_module": "@jupyter-widgets/base",
       "_view_module_version": "2.0.0",
       "_view_name": "LayoutView",
       "align_content": null,
       "align_items": null,
       "align_self": null,
       "border_bottom": null,
       "border_left": null,
       "border_right": null,
       "border_top": null,
       "bottom": null,
       "display": null,
       "flex": null,
       "flex_flow": null,
       "grid_area": null,
       "grid_auto_columns": null,
       "grid_auto_flow": null,
       "grid_auto_rows": null,
       "grid_column": null,
       "grid_gap": null,
       "grid_row": null,
       "grid_template_areas": null,
       "grid_template_columns": null,
       "grid_template_rows": null,
       "height": null,
       "justify_content": null,
       "justify_items": null,
       "left": null,
       "margin": null,
       "max_height": null,
       "max_width": null,
       "min_height": null,
       "min_width": null,
       "object_fit": null,
       "object_position": null,
       "order": null,
       "overflow": null,
       "padding": null,
       "right": null,
       "top": null,
       "visibility": null,
       "width": null
      }
     },
     "2c74bb4d84404871939e60855280c449": {
      "model_module": "@jupyter-widgets/controls",
      "model_module_version": "2.0.0",
      "model_name": "HTMLModel",
      "state": {
       "_dom_classes": [],
       "_model_module": "@jupyter-widgets/controls",
       "_model_module_version": "2.0.0",
       "_model_name": "HTMLModel",
       "_view_count": null,
       "_view_module": "@jupyter-widgets/controls",
       "_view_module_version": "2.0.0",
       "_view_name": "HTMLView",
       "description": "",
       "description_allow_html": false,
       "layout": "IPY_MODEL_4c92639d0ca241d080d885fe2b1f5c50",
       "placeholder": "​",
       "style": "IPY_MODEL_85590de3f0444aabb77a34d6da14470f",
       "tabbable": null,
       "tooltip": null,
       "value": "tokenizer.json: 100%"
      }
     },
     "2d62feb1f431403798367c87511d78b0": {
      "model_module": "@jupyter-widgets/controls",
      "model_module_version": "2.0.0",
      "model_name": "HTMLStyleModel",
      "state": {
       "_model_module": "@jupyter-widgets/controls",
       "_model_module_version": "2.0.0",
       "_model_name": "HTMLStyleModel",
       "_view_count": null,
       "_view_module": "@jupyter-widgets/base",
       "_view_module_version": "2.0.0",
       "_view_name": "StyleView",
       "background": null,
       "description_width": "",
       "font_size": null,
       "text_color": null
      }
     },
     "3529e268c6f54d1fb7f5cc39a6bb62d2": {
      "model_module": "@jupyter-widgets/controls",
      "model_module_version": "2.0.0",
      "model_name": "HTMLModel",
      "state": {
       "_dom_classes": [],
       "_model_module": "@jupyter-widgets/controls",
       "_model_module_version": "2.0.0",
       "_model_name": "HTMLModel",
       "_view_count": null,
       "_view_module": "@jupyter-widgets/controls",
       "_view_module_version": "2.0.0",
       "_view_name": "HTMLView",
       "description": "",
       "description_allow_html": false,
       "layout": "IPY_MODEL_27203cfc07dd4a8eb7e5834c5e97d4bb",
       "placeholder": "​",
       "style": "IPY_MODEL_9d17da9568b84cb2ae83d6da1945847e",
       "tabbable": null,
       "tooltip": null,
       "value": "tokenizer_config.json: 100%"
      }
     },
     "36f8fe2f25a440ec95e3bac2c4de3953": {
      "model_module": "@jupyter-widgets/controls",
      "model_module_version": "2.0.0",
      "model_name": "HTMLStyleModel",
      "state": {
       "_model_module": "@jupyter-widgets/controls",
       "_model_module_version": "2.0.0",
       "_model_name": "HTMLStyleModel",
       "_view_count": null,
       "_view_module": "@jupyter-widgets/base",
       "_view_module_version": "2.0.0",
       "_view_name": "StyleView",
       "background": null,
       "description_width": "",
       "font_size": null,
       "text_color": null
      }
     },
     "37b4c94d7eec469db5318d9704721905": {
      "model_module": "@jupyter-widgets/controls",
      "model_module_version": "2.0.0",
      "model_name": "HBoxModel",
      "state": {
       "_dom_classes": [],
       "_model_module": "@jupyter-widgets/controls",
       "_model_module_version": "2.0.0",
       "_model_name": "HBoxModel",
       "_view_count": null,
       "_view_module": "@jupyter-widgets/controls",
       "_view_module_version": "2.0.0",
       "_view_name": "HBoxView",
       "box_style": "",
       "children": [
        "IPY_MODEL_3529e268c6f54d1fb7f5cc39a6bb62d2",
        "IPY_MODEL_9663890608434453bb329a141b2a00d0",
        "IPY_MODEL_6763e37fa2fd4142a36ab26a3bf3bb00"
       ],
       "layout": "IPY_MODEL_6365fb8b7f6440f1864660fb3e7a0dac",
       "tabbable": null,
       "tooltip": null
      }
     },
     "3b71d7cbea3a4f40ab20fe78b51e897d": {
      "model_module": "@jupyter-widgets/controls",
      "model_module_version": "2.0.0",
      "model_name": "HTMLStyleModel",
      "state": {
       "_model_module": "@jupyter-widgets/controls",
       "_model_module_version": "2.0.0",
       "_model_name": "HTMLStyleModel",
       "_view_count": null,
       "_view_module": "@jupyter-widgets/base",
       "_view_module_version": "2.0.0",
       "_view_name": "StyleView",
       "background": null,
       "description_width": "",
       "font_size": null,
       "text_color": null
      }
     },
     "3e93f3bd99da4b799fbaef7e24171d51": {
      "model_module": "@jupyter-widgets/base",
      "model_module_version": "2.0.0",
      "model_name": "LayoutModel",
      "state": {
       "_model_module": "@jupyter-widgets/base",
       "_model_module_version": "2.0.0",
       "_model_name": "LayoutModel",
       "_view_count": null,
       "_view_module": "@jupyter-widgets/base",
       "_view_module_version": "2.0.0",
       "_view_name": "LayoutView",
       "align_content": null,
       "align_items": null,
       "align_self": null,
       "border_bottom": null,
       "border_left": null,
       "border_right": null,
       "border_top": null,
       "bottom": null,
       "display": null,
       "flex": null,
       "flex_flow": null,
       "grid_area": null,
       "grid_auto_columns": null,
       "grid_auto_flow": null,
       "grid_auto_rows": null,
       "grid_column": null,
       "grid_gap": null,
       "grid_row": null,
       "grid_template_areas": null,
       "grid_template_columns": null,
       "grid_template_rows": null,
       "height": null,
       "justify_content": null,
       "justify_items": null,
       "left": null,
       "margin": null,
       "max_height": null,
       "max_width": null,
       "min_height": null,
       "min_width": null,
       "object_fit": null,
       "object_position": null,
       "order": null,
       "overflow": null,
       "padding": null,
       "right": null,
       "top": null,
       "visibility": null,
       "width": null
      }
     },
     "40c0de2f58dc4ab1b360e2d660e34cda": {
      "model_module": "@jupyter-widgets/base",
      "model_module_version": "2.0.0",
      "model_name": "LayoutModel",
      "state": {
       "_model_module": "@jupyter-widgets/base",
       "_model_module_version": "2.0.0",
       "_model_name": "LayoutModel",
       "_view_count": null,
       "_view_module": "@jupyter-widgets/base",
       "_view_module_version": "2.0.0",
       "_view_name": "LayoutView",
       "align_content": null,
       "align_items": null,
       "align_self": null,
       "border_bottom": null,
       "border_left": null,
       "border_right": null,
       "border_top": null,
       "bottom": null,
       "display": null,
       "flex": null,
       "flex_flow": null,
       "grid_area": null,
       "grid_auto_columns": null,
       "grid_auto_flow": null,
       "grid_auto_rows": null,
       "grid_column": null,
       "grid_gap": null,
       "grid_row": null,
       "grid_template_areas": null,
       "grid_template_columns": null,
       "grid_template_rows": null,
       "height": null,
       "justify_content": null,
       "justify_items": null,
       "left": null,
       "margin": null,
       "max_height": null,
       "max_width": null,
       "min_height": null,
       "min_width": null,
       "object_fit": null,
       "object_position": null,
       "order": null,
       "overflow": null,
       "padding": null,
       "right": null,
       "top": null,
       "visibility": null,
       "width": null
      }
     },
     "46d51f3b36934f16a60a1377b48fbfd5": {
      "model_module": "@jupyter-widgets/base",
      "model_module_version": "2.0.0",
      "model_name": "LayoutModel",
      "state": {
       "_model_module": "@jupyter-widgets/base",
       "_model_module_version": "2.0.0",
       "_model_name": "LayoutModel",
       "_view_count": null,
       "_view_module": "@jupyter-widgets/base",
       "_view_module_version": "2.0.0",
       "_view_name": "LayoutView",
       "align_content": null,
       "align_items": null,
       "align_self": null,
       "border_bottom": null,
       "border_left": null,
       "border_right": null,
       "border_top": null,
       "bottom": null,
       "display": null,
       "flex": null,
       "flex_flow": null,
       "grid_area": null,
       "grid_auto_columns": null,
       "grid_auto_flow": null,
       "grid_auto_rows": null,
       "grid_column": null,
       "grid_gap": null,
       "grid_row": null,
       "grid_template_areas": null,
       "grid_template_columns": null,
       "grid_template_rows": null,
       "height": null,
       "justify_content": null,
       "justify_items": null,
       "left": null,
       "margin": null,
       "max_height": null,
       "max_width": null,
       "min_height": null,
       "min_width": null,
       "object_fit": null,
       "object_position": null,
       "order": null,
       "overflow": null,
       "padding": null,
       "right": null,
       "top": null,
       "visibility": null,
       "width": null
      }
     },
     "4c92639d0ca241d080d885fe2b1f5c50": {
      "model_module": "@jupyter-widgets/base",
      "model_module_version": "2.0.0",
      "model_name": "LayoutModel",
      "state": {
       "_model_module": "@jupyter-widgets/base",
       "_model_module_version": "2.0.0",
       "_model_name": "LayoutModel",
       "_view_count": null,
       "_view_module": "@jupyter-widgets/base",
       "_view_module_version": "2.0.0",
       "_view_name": "LayoutView",
       "align_content": null,
       "align_items": null,
       "align_self": null,
       "border_bottom": null,
       "border_left": null,
       "border_right": null,
       "border_top": null,
       "bottom": null,
       "display": null,
       "flex": null,
       "flex_flow": null,
       "grid_area": null,
       "grid_auto_columns": null,
       "grid_auto_flow": null,
       "grid_auto_rows": null,
       "grid_column": null,
       "grid_gap": null,
       "grid_row": null,
       "grid_template_areas": null,
       "grid_template_columns": null,
       "grid_template_rows": null,
       "height": null,
       "justify_content": null,
       "justify_items": null,
       "left": null,
       "margin": null,
       "max_height": null,
       "max_width": null,
       "min_height": null,
       "min_width": null,
       "object_fit": null,
       "object_position": null,
       "order": null,
       "overflow": null,
       "padding": null,
       "right": null,
       "top": null,
       "visibility": null,
       "width": null
      }
     },
     "50625949b78c4815b02e2be19b6150d9": {
      "model_module": "@jupyter-widgets/base",
      "model_module_version": "2.0.0",
      "model_name": "LayoutModel",
      "state": {
       "_model_module": "@jupyter-widgets/base",
       "_model_module_version": "2.0.0",
       "_model_name": "LayoutModel",
       "_view_count": null,
       "_view_module": "@jupyter-widgets/base",
       "_view_module_version": "2.0.0",
       "_view_name": "LayoutView",
       "align_content": null,
       "align_items": null,
       "align_self": null,
       "border_bottom": null,
       "border_left": null,
       "border_right": null,
       "border_top": null,
       "bottom": null,
       "display": null,
       "flex": null,
       "flex_flow": null,
       "grid_area": null,
       "grid_auto_columns": null,
       "grid_auto_flow": null,
       "grid_auto_rows": null,
       "grid_column": null,
       "grid_gap": null,
       "grid_row": null,
       "grid_template_areas": null,
       "grid_template_columns": null,
       "grid_template_rows": null,
       "height": null,
       "justify_content": null,
       "justify_items": null,
       "left": null,
       "margin": null,
       "max_height": null,
       "max_width": null,
       "min_height": null,
       "min_width": null,
       "object_fit": null,
       "object_position": null,
       "order": null,
       "overflow": null,
       "padding": null,
       "right": null,
       "top": null,
       "visibility": null,
       "width": null
      }
     },
     "5b978388e71e42dbab05f1b03bb8f45a": {
      "model_module": "@jupyter-widgets/controls",
      "model_module_version": "2.0.0",
      "model_name": "FloatProgressModel",
      "state": {
       "_dom_classes": [],
       "_model_module": "@jupyter-widgets/controls",
       "_model_module_version": "2.0.0",
       "_model_name": "FloatProgressModel",
       "_view_count": null,
       "_view_module": "@jupyter-widgets/controls",
       "_view_module_version": "2.0.0",
       "_view_name": "ProgressView",
       "bar_style": "success",
       "description": "",
       "description_allow_html": false,
       "layout": "IPY_MODEL_b430c95c130348b898672c16a2afb0c5",
       "max": 570.0,
       "min": 0.0,
       "orientation": "horizontal",
       "style": "IPY_MODEL_6771ce56582443d889455d7ba640eebe",
       "tabbable": null,
       "tooltip": null,
       "value": 570.0
      }
     },
     "6188cfd3d72643349ea43d2b7e505317": {
      "model_module": "@jupyter-widgets/controls",
      "model_module_version": "2.0.0",
      "model_name": "FloatProgressModel",
      "state": {
       "_dom_classes": [],
       "_model_module": "@jupyter-widgets/controls",
       "_model_module_version": "2.0.0",
       "_model_name": "FloatProgressModel",
       "_view_count": null,
       "_view_module": "@jupyter-widgets/controls",
       "_view_module_version": "2.0.0",
       "_view_name": "ProgressView",
       "bar_style": "success",
       "description": "",
       "description_allow_html": false,
       "layout": "IPY_MODEL_8bd23939125b4b3eac23f2e111e6f3cc",
       "max": 231508.0,
       "min": 0.0,
       "orientation": "horizontal",
       "style": "IPY_MODEL_9aa2e941c6b94f39a2b5028a04521652",
       "tabbable": null,
       "tooltip": null,
       "value": 231508.0
      }
     },
     "6365fb8b7f6440f1864660fb3e7a0dac": {
      "model_module": "@jupyter-widgets/base",
      "model_module_version": "2.0.0",
      "model_name": "LayoutModel",
      "state": {
       "_model_module": "@jupyter-widgets/base",
       "_model_module_version": "2.0.0",
       "_model_name": "LayoutModel",
       "_view_count": null,
       "_view_module": "@jupyter-widgets/base",
       "_view_module_version": "2.0.0",
       "_view_name": "LayoutView",
       "align_content": null,
       "align_items": null,
       "align_self": null,
       "border_bottom": null,
       "border_left": null,
       "border_right": null,
       "border_top": null,
       "bottom": null,
       "display": null,
       "flex": null,
       "flex_flow": null,
       "grid_area": null,
       "grid_auto_columns": null,
       "grid_auto_flow": null,
       "grid_auto_rows": null,
       "grid_column": null,
       "grid_gap": null,
       "grid_row": null,
       "grid_template_areas": null,
       "grid_template_columns": null,
       "grid_template_rows": null,
       "height": null,
       "justify_content": null,
       "justify_items": null,
       "left": null,
       "margin": null,
       "max_height": null,
       "max_width": null,
       "min_height": null,
       "min_width": null,
       "object_fit": null,
       "object_position": null,
       "order": null,
       "overflow": null,
       "padding": null,
       "right": null,
       "top": null,
       "visibility": null,
       "width": null
      }
     },
     "6763e37fa2fd4142a36ab26a3bf3bb00": {
      "model_module": "@jupyter-widgets/controls",
      "model_module_version": "2.0.0",
      "model_name": "HTMLModel",
      "state": {
       "_dom_classes": [],
       "_model_module": "@jupyter-widgets/controls",
       "_model_module_version": "2.0.0",
       "_model_name": "HTMLModel",
       "_view_count": null,
       "_view_module": "@jupyter-widgets/controls",
       "_view_module_version": "2.0.0",
       "_view_name": "HTMLView",
       "description": "",
       "description_allow_html": false,
       "layout": "IPY_MODEL_069f45ff56f740158d4345454b7fc8c0",
       "placeholder": "​",
       "style": "IPY_MODEL_3b71d7cbea3a4f40ab20fe78b51e897d",
       "tabbable": null,
       "tooltip": null,
       "value": " 48.0/48.0 [00:00&lt;00:00, 5.66kB/s]"
      }
     },
     "6771ce56582443d889455d7ba640eebe": {
      "model_module": "@jupyter-widgets/controls",
      "model_module_version": "2.0.0",
      "model_name": "ProgressStyleModel",
      "state": {
       "_model_module": "@jupyter-widgets/controls",
       "_model_module_version": "2.0.0",
       "_model_name": "ProgressStyleModel",
       "_view_count": null,
       "_view_module": "@jupyter-widgets/base",
       "_view_module_version": "2.0.0",
       "_view_name": "StyleView",
       "bar_color": null,
       "description_width": ""
      }
     },
     "6d67509868b0495bbf09510c596b6bf7": {
      "model_module": "@jupyter-widgets/base",
      "model_module_version": "2.0.0",
      "model_name": "LayoutModel",
      "state": {
       "_model_module": "@jupyter-widgets/base",
       "_model_module_version": "2.0.0",
       "_model_name": "LayoutModel",
       "_view_count": null,
       "_view_module": "@jupyter-widgets/base",
       "_view_module_version": "2.0.0",
       "_view_name": "LayoutView",
       "align_content": null,
       "align_items": null,
       "align_self": null,
       "border_bottom": null,
       "border_left": null,
       "border_right": null,
       "border_top": null,
       "bottom": null,
       "display": null,
       "flex": null,
       "flex_flow": null,
       "grid_area": null,
       "grid_auto_columns": null,
       "grid_auto_flow": null,
       "grid_auto_rows": null,
       "grid_column": null,
       "grid_gap": null,
       "grid_row": null,
       "grid_template_areas": null,
       "grid_template_columns": null,
       "grid_template_rows": null,
       "height": null,
       "justify_content": null,
       "justify_items": null,
       "left": null,
       "margin": null,
       "max_height": null,
       "max_width": null,
       "min_height": null,
       "min_width": null,
       "object_fit": null,
       "object_position": null,
       "order": null,
       "overflow": null,
       "padding": null,
       "right": null,
       "top": null,
       "visibility": null,
       "width": null
      }
     },
     "6e06cb35a3264eca93becbffaeee8249": {
      "model_module": "@jupyter-widgets/base",
      "model_module_version": "2.0.0",
      "model_name": "LayoutModel",
      "state": {
       "_model_module": "@jupyter-widgets/base",
       "_model_module_version": "2.0.0",
       "_model_name": "LayoutModel",
       "_view_count": null,
       "_view_module": "@jupyter-widgets/base",
       "_view_module_version": "2.0.0",
       "_view_name": "LayoutView",
       "align_content": null,
       "align_items": null,
       "align_self": null,
       "border_bottom": null,
       "border_left": null,
       "border_right": null,
       "border_top": null,
       "bottom": null,
       "display": null,
       "flex": null,
       "flex_flow": null,
       "grid_area": null,
       "grid_auto_columns": null,
       "grid_auto_flow": null,
       "grid_auto_rows": null,
       "grid_column": null,
       "grid_gap": null,
       "grid_row": null,
       "grid_template_areas": null,
       "grid_template_columns": null,
       "grid_template_rows": null,
       "height": null,
       "justify_content": null,
       "justify_items": null,
       "left": null,
       "margin": null,
       "max_height": null,
       "max_width": null,
       "min_height": null,
       "min_width": null,
       "object_fit": null,
       "object_position": null,
       "order": null,
       "overflow": null,
       "padding": null,
       "right": null,
       "top": null,
       "visibility": null,
       "width": null
      }
     },
     "70ec416db62b4bc49b332328dec6a4c1": {
      "model_module": "@jupyter-widgets/base",
      "model_module_version": "2.0.0",
      "model_name": "LayoutModel",
      "state": {
       "_model_module": "@jupyter-widgets/base",
       "_model_module_version": "2.0.0",
       "_model_name": "LayoutModel",
       "_view_count": null,
       "_view_module": "@jupyter-widgets/base",
       "_view_module_version": "2.0.0",
       "_view_name": "LayoutView",
       "align_content": null,
       "align_items": null,
       "align_self": null,
       "border_bottom": null,
       "border_left": null,
       "border_right": null,
       "border_top": null,
       "bottom": null,
       "display": null,
       "flex": null,
       "flex_flow": null,
       "grid_area": null,
       "grid_auto_columns": null,
       "grid_auto_flow": null,
       "grid_auto_rows": null,
       "grid_column": null,
       "grid_gap": null,
       "grid_row": null,
       "grid_template_areas": null,
       "grid_template_columns": null,
       "grid_template_rows": null,
       "height": null,
       "justify_content": null,
       "justify_items": null,
       "left": null,
       "margin": null,
       "max_height": null,
       "max_width": null,
       "min_height": null,
       "min_width": null,
       "object_fit": null,
       "object_position": null,
       "order": null,
       "overflow": null,
       "padding": null,
       "right": null,
       "top": null,
       "visibility": null,
       "width": null
      }
     },
     "72a98abfc96048679fc253be40cdb8a0": {
      "model_module": "@jupyter-widgets/controls",
      "model_module_version": "2.0.0",
      "model_name": "HTMLStyleModel",
      "state": {
       "_model_module": "@jupyter-widgets/controls",
       "_model_module_version": "2.0.0",
       "_model_name": "HTMLStyleModel",
       "_view_count": null,
       "_view_module": "@jupyter-widgets/base",
       "_view_module_version": "2.0.0",
       "_view_name": "StyleView",
       "background": null,
       "description_width": "",
       "font_size": null,
       "text_color": null
      }
     },
     "752dd3699efb4b409b5e14e28f09b927": {
      "model_module": "@jupyter-widgets/controls",
      "model_module_version": "2.0.0",
      "model_name": "HTMLModel",
      "state": {
       "_dom_classes": [],
       "_model_module": "@jupyter-widgets/controls",
       "_model_module_version": "2.0.0",
       "_model_name": "HTMLModel",
       "_view_count": null,
       "_view_module": "@jupyter-widgets/controls",
       "_view_module_version": "2.0.0",
       "_view_name": "HTMLView",
       "description": "",
       "description_allow_html": false,
       "layout": "IPY_MODEL_fd3782ea0a2d4e889d93ae866a4f3e25",
       "placeholder": "​",
       "style": "IPY_MODEL_f153d18a6d7e4daba629edd6b509a218",
       "tabbable": null,
       "tooltip": null,
       "value": " 570/570 [00:00&lt;00:00, 84.2kB/s]"
      }
     },
     "77abad34e19b45a9be707fc7d431c93e": {
      "model_module": "@jupyter-widgets/controls",
      "model_module_version": "2.0.0",
      "model_name": "ProgressStyleModel",
      "state": {
       "_model_module": "@jupyter-widgets/controls",
       "_model_module_version": "2.0.0",
       "_model_name": "ProgressStyleModel",
       "_view_count": null,
       "_view_module": "@jupyter-widgets/base",
       "_view_module_version": "2.0.0",
       "_view_name": "StyleView",
       "bar_color": null,
       "description_width": ""
      }
     },
     "7a956b91c35e40b291805a4ccfdef586": {
      "model_module": "@jupyter-widgets/controls",
      "model_module_version": "2.0.0",
      "model_name": "ProgressStyleModel",
      "state": {
       "_model_module": "@jupyter-widgets/controls",
       "_model_module_version": "2.0.0",
       "_model_name": "ProgressStyleModel",
       "_view_count": null,
       "_view_module": "@jupyter-widgets/base",
       "_view_module_version": "2.0.0",
       "_view_name": "StyleView",
       "bar_color": null,
       "description_width": ""
      }
     },
     "7c3e2dcc803944b29890d41f15036e92": {
      "model_module": "@jupyter-widgets/controls",
      "model_module_version": "2.0.0",
      "model_name": "FloatProgressModel",
      "state": {
       "_dom_classes": [],
       "_model_module": "@jupyter-widgets/controls",
       "_model_module_version": "2.0.0",
       "_model_name": "FloatProgressModel",
       "_view_count": null,
       "_view_module": "@jupyter-widgets/controls",
       "_view_module_version": "2.0.0",
       "_view_name": "ProgressView",
       "bar_style": "success",
       "description": "",
       "description_allow_html": false,
       "layout": "IPY_MODEL_7c86491bb3e64daaafb9d919a5859208",
       "max": 440449768.0,
       "min": 0.0,
       "orientation": "horizontal",
       "style": "IPY_MODEL_af68c6101f9c4efb9d519a92e7c3c12a",
       "tabbable": null,
       "tooltip": null,
       "value": 440449768.0
      }
     },
     "7c86491bb3e64daaafb9d919a5859208": {
      "model_module": "@jupyter-widgets/base",
      "model_module_version": "2.0.0",
      "model_name": "LayoutModel",
      "state": {
       "_model_module": "@jupyter-widgets/base",
       "_model_module_version": "2.0.0",
       "_model_name": "LayoutModel",
       "_view_count": null,
       "_view_module": "@jupyter-widgets/base",
       "_view_module_version": "2.0.0",
       "_view_name": "LayoutView",
       "align_content": null,
       "align_items": null,
       "align_self": null,
       "border_bottom": null,
       "border_left": null,
       "border_right": null,
       "border_top": null,
       "bottom": null,
       "display": null,
       "flex": null,
       "flex_flow": null,
       "grid_area": null,
       "grid_auto_columns": null,
       "grid_auto_flow": null,
       "grid_auto_rows": null,
       "grid_column": null,
       "grid_gap": null,
       "grid_row": null,
       "grid_template_areas": null,
       "grid_template_columns": null,
       "grid_template_rows": null,
       "height": null,
       "justify_content": null,
       "justify_items": null,
       "left": null,
       "margin": null,
       "max_height": null,
       "max_width": null,
       "min_height": null,
       "min_width": null,
       "object_fit": null,
       "object_position": null,
       "order": null,
       "overflow": null,
       "padding": null,
       "right": null,
       "top": null,
       "visibility": null,
       "width": null
      }
     },
     "7c9e37cb7cdd46a4a6d5d2aab59967dd": {
      "model_module": "@jupyter-widgets/controls",
      "model_module_version": "2.0.0",
      "model_name": "HBoxModel",
      "state": {
       "_dom_classes": [],
       "_model_module": "@jupyter-widgets/controls",
       "_model_module_version": "2.0.0",
       "_model_name": "HBoxModel",
       "_view_count": null,
       "_view_module": "@jupyter-widgets/controls",
       "_view_module_version": "2.0.0",
       "_view_name": "HBoxView",
       "box_style": "",
       "children": [
        "IPY_MODEL_2c74bb4d84404871939e60855280c449",
        "IPY_MODEL_9979a048545b485d8333f21c809f2e4a",
        "IPY_MODEL_cf06ae6a4b0a40a6a2cb7b617601105c"
       ],
       "layout": "IPY_MODEL_6e06cb35a3264eca93becbffaeee8249",
       "tabbable": null,
       "tooltip": null
      }
     },
     "7f89783ba8be42d9a0039eb12de3f706": {
      "model_module": "@jupyter-widgets/controls",
      "model_module_version": "2.0.0",
      "model_name": "HTMLModel",
      "state": {
       "_dom_classes": [],
       "_model_module": "@jupyter-widgets/controls",
       "_model_module_version": "2.0.0",
       "_model_name": "HTMLModel",
       "_view_count": null,
       "_view_module": "@jupyter-widgets/controls",
       "_view_module_version": "2.0.0",
       "_view_name": "HTMLView",
       "description": "",
       "description_allow_html": false,
       "layout": "IPY_MODEL_be91e24a73b643fc871d3387381048d4",
       "placeholder": "​",
       "style": "IPY_MODEL_36f8fe2f25a440ec95e3bac2c4de3953",
       "tabbable": null,
       "tooltip": null,
       "value": " 232k/232k [00:00&lt;00:00, 1.83MB/s]"
      }
     },
     "85590de3f0444aabb77a34d6da14470f": {
      "model_module": "@jupyter-widgets/controls",
      "model_module_version": "2.0.0",
      "model_name": "HTMLStyleModel",
      "state": {
       "_model_module": "@jupyter-widgets/controls",
       "_model_module_version": "2.0.0",
       "_model_name": "HTMLStyleModel",
       "_view_count": null,
       "_view_module": "@jupyter-widgets/base",
       "_view_module_version": "2.0.0",
       "_view_name": "StyleView",
       "background": null,
       "description_width": "",
       "font_size": null,
       "text_color": null
      }
     },
     "8bd23939125b4b3eac23f2e111e6f3cc": {
      "model_module": "@jupyter-widgets/base",
      "model_module_version": "2.0.0",
      "model_name": "LayoutModel",
      "state": {
       "_model_module": "@jupyter-widgets/base",
       "_model_module_version": "2.0.0",
       "_model_name": "LayoutModel",
       "_view_count": null,
       "_view_module": "@jupyter-widgets/base",
       "_view_module_version": "2.0.0",
       "_view_name": "LayoutView",
       "align_content": null,
       "align_items": null,
       "align_self": null,
       "border_bottom": null,
       "border_left": null,
       "border_right": null,
       "border_top": null,
       "bottom": null,
       "display": null,
       "flex": null,
       "flex_flow": null,
       "grid_area": null,
       "grid_auto_columns": null,
       "grid_auto_flow": null,
       "grid_auto_rows": null,
       "grid_column": null,
       "grid_gap": null,
       "grid_row": null,
       "grid_template_areas": null,
       "grid_template_columns": null,
       "grid_template_rows": null,
       "height": null,
       "justify_content": null,
       "justify_items": null,
       "left": null,
       "margin": null,
       "max_height": null,
       "max_width": null,
       "min_height": null,
       "min_width": null,
       "object_fit": null,
       "object_position": null,
       "order": null,
       "overflow": null,
       "padding": null,
       "right": null,
       "top": null,
       "visibility": null,
       "width": null
      }
     },
     "8c22fc70e8cd412ab577c0e3d18e78f9": {
      "model_module": "@jupyter-widgets/base",
      "model_module_version": "2.0.0",
      "model_name": "LayoutModel",
      "state": {
       "_model_module": "@jupyter-widgets/base",
       "_model_module_version": "2.0.0",
       "_model_name": "LayoutModel",
       "_view_count": null,
       "_view_module": "@jupyter-widgets/base",
       "_view_module_version": "2.0.0",
       "_view_name": "LayoutView",
       "align_content": null,
       "align_items": null,
       "align_self": null,
       "border_bottom": null,
       "border_left": null,
       "border_right": null,
       "border_top": null,
       "bottom": null,
       "display": null,
       "flex": null,
       "flex_flow": null,
       "grid_area": null,
       "grid_auto_columns": null,
       "grid_auto_flow": null,
       "grid_auto_rows": null,
       "grid_column": null,
       "grid_gap": null,
       "grid_row": null,
       "grid_template_areas": null,
       "grid_template_columns": null,
       "grid_template_rows": null,
       "height": null,
       "justify_content": null,
       "justify_items": null,
       "left": null,
       "margin": null,
       "max_height": null,
       "max_width": null,
       "min_height": null,
       "min_width": null,
       "object_fit": null,
       "object_position": null,
       "order": null,
       "overflow": null,
       "padding": null,
       "right": null,
       "top": null,
       "visibility": null,
       "width": null
      }
     },
     "9635fa06e25e475eaed662ca947a6ef2": {
      "model_module": "@jupyter-widgets/controls",
      "model_module_version": "2.0.0",
      "model_name": "HTMLModel",
      "state": {
       "_dom_classes": [],
       "_model_module": "@jupyter-widgets/controls",
       "_model_module_version": "2.0.0",
       "_model_name": "HTMLModel",
       "_view_count": null,
       "_view_module": "@jupyter-widgets/controls",
       "_view_module_version": "2.0.0",
       "_view_name": "HTMLView",
       "description": "",
       "description_allow_html": false,
       "layout": "IPY_MODEL_40c0de2f58dc4ab1b360e2d660e34cda",
       "placeholder": "​",
       "style": "IPY_MODEL_72a98abfc96048679fc253be40cdb8a0",
       "tabbable": null,
       "tooltip": null,
       "value": "vocab.txt: 100%"
      }
     },
     "9663890608434453bb329a141b2a00d0": {
      "model_module": "@jupyter-widgets/controls",
      "model_module_version": "2.0.0",
      "model_name": "FloatProgressModel",
      "state": {
       "_dom_classes": [],
       "_model_module": "@jupyter-widgets/controls",
       "_model_module_version": "2.0.0",
       "_model_name": "FloatProgressModel",
       "_view_count": null,
       "_view_module": "@jupyter-widgets/controls",
       "_view_module_version": "2.0.0",
       "_view_name": "ProgressView",
       "bar_style": "success",
       "description": "",
       "description_allow_html": false,
       "layout": "IPY_MODEL_70ec416db62b4bc49b332328dec6a4c1",
       "max": 48.0,
       "min": 0.0,
       "orientation": "horizontal",
       "style": "IPY_MODEL_77abad34e19b45a9be707fc7d431c93e",
       "tabbable": null,
       "tooltip": null,
       "value": 48.0
      }
     },
     "9979a048545b485d8333f21c809f2e4a": {
      "model_module": "@jupyter-widgets/controls",
      "model_module_version": "2.0.0",
      "model_name": "FloatProgressModel",
      "state": {
       "_dom_classes": [],
       "_model_module": "@jupyter-widgets/controls",
       "_model_module_version": "2.0.0",
       "_model_name": "FloatProgressModel",
       "_view_count": null,
       "_view_module": "@jupyter-widgets/controls",
       "_view_module_version": "2.0.0",
       "_view_name": "ProgressView",
       "bar_style": "success",
       "description": "",
       "description_allow_html": false,
       "layout": "IPY_MODEL_3e93f3bd99da4b799fbaef7e24171d51",
       "max": 466062.0,
       "min": 0.0,
       "orientation": "horizontal",
       "style": "IPY_MODEL_7a956b91c35e40b291805a4ccfdef586",
       "tabbable": null,
       "tooltip": null,
       "value": 466062.0
      }
     },
     "9aa2e941c6b94f39a2b5028a04521652": {
      "model_module": "@jupyter-widgets/controls",
      "model_module_version": "2.0.0",
      "model_name": "ProgressStyleModel",
      "state": {
       "_model_module": "@jupyter-widgets/controls",
       "_model_module_version": "2.0.0",
       "_model_name": "ProgressStyleModel",
       "_view_count": null,
       "_view_module": "@jupyter-widgets/base",
       "_view_module_version": "2.0.0",
       "_view_name": "StyleView",
       "bar_color": null,
       "description_width": ""
      }
     },
     "9d17da9568b84cb2ae83d6da1945847e": {
      "model_module": "@jupyter-widgets/controls",
      "model_module_version": "2.0.0",
      "model_name": "HTMLStyleModel",
      "state": {
       "_model_module": "@jupyter-widgets/controls",
       "_model_module_version": "2.0.0",
       "_model_name": "HTMLStyleModel",
       "_view_count": null,
       "_view_module": "@jupyter-widgets/base",
       "_view_module_version": "2.0.0",
       "_view_name": "StyleView",
       "background": null,
       "description_width": "",
       "font_size": null,
       "text_color": null
      }
     },
     "9e4aac0530094878bc18116f89d7b2f6": {
      "model_module": "@jupyter-widgets/base",
      "model_module_version": "2.0.0",
      "model_name": "LayoutModel",
      "state": {
       "_model_module": "@jupyter-widgets/base",
       "_model_module_version": "2.0.0",
       "_model_name": "LayoutModel",
       "_view_count": null,
       "_view_module": "@jupyter-widgets/base",
       "_view_module_version": "2.0.0",
       "_view_name": "LayoutView",
       "align_content": null,
       "align_items": null,
       "align_self": null,
       "border_bottom": null,
       "border_left": null,
       "border_right": null,
       "border_top": null,
       "bottom": null,
       "display": null,
       "flex": null,
       "flex_flow": null,
       "grid_area": null,
       "grid_auto_columns": null,
       "grid_auto_flow": null,
       "grid_auto_rows": null,
       "grid_column": null,
       "grid_gap": null,
       "grid_row": null,
       "grid_template_areas": null,
       "grid_template_columns": null,
       "grid_template_rows": null,
       "height": null,
       "justify_content": null,
       "justify_items": null,
       "left": null,
       "margin": null,
       "max_height": null,
       "max_width": null,
       "min_height": null,
       "min_width": null,
       "object_fit": null,
       "object_position": null,
       "order": null,
       "overflow": null,
       "padding": null,
       "right": null,
       "top": null,
       "visibility": null,
       "width": null
      }
     },
     "9f74e351ca72496a89d15a5b6f988514": {
      "model_module": "@jupyter-widgets/controls",
      "model_module_version": "2.0.0",
      "model_name": "HTMLModel",
      "state": {
       "_dom_classes": [],
       "_model_module": "@jupyter-widgets/controls",
       "_model_module_version": "2.0.0",
       "_model_name": "HTMLModel",
       "_view_count": null,
       "_view_module": "@jupyter-widgets/controls",
       "_view_module_version": "2.0.0",
       "_view_name": "HTMLView",
       "description": "",
       "description_allow_html": false,
       "layout": "IPY_MODEL_46d51f3b36934f16a60a1377b48fbfd5",
       "placeholder": "​",
       "style": "IPY_MODEL_0f6211ad52fd4b3786a30a2970a65a8c",
       "tabbable": null,
       "tooltip": null,
       "value": "model.safetensors: 100%"
      }
     },
     "acd7935b4a704db4a14f91e322a163c3": {
      "model_module": "@jupyter-widgets/controls",
      "model_module_version": "2.0.0",
      "model_name": "HTMLModel",
      "state": {
       "_dom_classes": [],
       "_model_module": "@jupyter-widgets/controls",
       "_model_module_version": "2.0.0",
       "_model_name": "HTMLModel",
       "_view_count": null,
       "_view_module": "@jupyter-widgets/controls",
       "_view_module_version": "2.0.0",
       "_view_name": "HTMLView",
       "description": "",
       "description_allow_html": false,
       "layout": "IPY_MODEL_f69a6274d0364b68b52a1ed500d953dd",
       "placeholder": "​",
       "style": "IPY_MODEL_2d62feb1f431403798367c87511d78b0",
       "tabbable": null,
       "tooltip": null,
       "value": " 440M/440M [00:01&lt;00:00, 338MB/s]"
      }
     },
     "af68c6101f9c4efb9d519a92e7c3c12a": {
      "model_module": "@jupyter-widgets/controls",
      "model_module_version": "2.0.0",
      "model_name": "ProgressStyleModel",
      "state": {
       "_model_module": "@jupyter-widgets/controls",
       "_model_module_version": "2.0.0",
       "_model_name": "ProgressStyleModel",
       "_view_count": null,
       "_view_module": "@jupyter-widgets/base",
       "_view_module_version": "2.0.0",
       "_view_name": "StyleView",
       "bar_color": null,
       "description_width": ""
      }
     },
     "aff34eca432b4f798713d19b6fd5c438": {
      "model_module": "@jupyter-widgets/controls",
      "model_module_version": "2.0.0",
      "model_name": "HBoxModel",
      "state": {
       "_dom_classes": [],
       "_model_module": "@jupyter-widgets/controls",
       "_model_module_version": "2.0.0",
       "_model_name": "HBoxModel",
       "_view_count": null,
       "_view_module": "@jupyter-widgets/controls",
       "_view_module_version": "2.0.0",
       "_view_name": "HBoxView",
       "box_style": "",
       "children": [
        "IPY_MODEL_9f74e351ca72496a89d15a5b6f988514",
        "IPY_MODEL_7c3e2dcc803944b29890d41f15036e92",
        "IPY_MODEL_acd7935b4a704db4a14f91e322a163c3"
       ],
       "layout": "IPY_MODEL_8c22fc70e8cd412ab577c0e3d18e78f9",
       "tabbable": null,
       "tooltip": null
      }
     },
     "b011b28092214908acb18b4bf91e6aab": {
      "model_module": "@jupyter-widgets/controls",
      "model_module_version": "2.0.0",
      "model_name": "HTMLStyleModel",
      "state": {
       "_model_module": "@jupyter-widgets/controls",
       "_model_module_version": "2.0.0",
       "_model_name": "HTMLStyleModel",
       "_view_count": null,
       "_view_module": "@jupyter-widgets/base",
       "_view_module_version": "2.0.0",
       "_view_name": "StyleView",
       "background": null,
       "description_width": "",
       "font_size": null,
       "text_color": null
      }
     },
     "b09dc6ff5e4c444191787908b01effa6": {
      "model_module": "@jupyter-widgets/base",
      "model_module_version": "2.0.0",
      "model_name": "LayoutModel",
      "state": {
       "_model_module": "@jupyter-widgets/base",
       "_model_module_version": "2.0.0",
       "_model_name": "LayoutModel",
       "_view_count": null,
       "_view_module": "@jupyter-widgets/base",
       "_view_module_version": "2.0.0",
       "_view_name": "LayoutView",
       "align_content": null,
       "align_items": null,
       "align_self": null,
       "border_bottom": null,
       "border_left": null,
       "border_right": null,
       "border_top": null,
       "bottom": null,
       "display": null,
       "flex": null,
       "flex_flow": null,
       "grid_area": null,
       "grid_auto_columns": null,
       "grid_auto_flow": null,
       "grid_auto_rows": null,
       "grid_column": null,
       "grid_gap": null,
       "grid_row": null,
       "grid_template_areas": null,
       "grid_template_columns": null,
       "grid_template_rows": null,
       "height": null,
       "justify_content": null,
       "justify_items": null,
       "left": null,
       "margin": null,
       "max_height": null,
       "max_width": null,
       "min_height": null,
       "min_width": null,
       "object_fit": null,
       "object_position": null,
       "order": null,
       "overflow": null,
       "padding": null,
       "right": null,
       "top": null,
       "visibility": null,
       "width": null
      }
     },
     "b430c95c130348b898672c16a2afb0c5": {
      "model_module": "@jupyter-widgets/base",
      "model_module_version": "2.0.0",
      "model_name": "LayoutModel",
      "state": {
       "_model_module": "@jupyter-widgets/base",
       "_model_module_version": "2.0.0",
       "_model_name": "LayoutModel",
       "_view_count": null,
       "_view_module": "@jupyter-widgets/base",
       "_view_module_version": "2.0.0",
       "_view_name": "LayoutView",
       "align_content": null,
       "align_items": null,
       "align_self": null,
       "border_bottom": null,
       "border_left": null,
       "border_right": null,
       "border_top": null,
       "bottom": null,
       "display": null,
       "flex": null,
       "flex_flow": null,
       "grid_area": null,
       "grid_auto_columns": null,
       "grid_auto_flow": null,
       "grid_auto_rows": null,
       "grid_column": null,
       "grid_gap": null,
       "grid_row": null,
       "grid_template_areas": null,
       "grid_template_columns": null,
       "grid_template_rows": null,
       "height": null,
       "justify_content": null,
       "justify_items": null,
       "left": null,
       "margin": null,
       "max_height": null,
       "max_width": null,
       "min_height": null,
       "min_width": null,
       "object_fit": null,
       "object_position": null,
       "order": null,
       "overflow": null,
       "padding": null,
       "right": null,
       "top": null,
       "visibility": null,
       "width": null
      }
     },
     "be91e24a73b643fc871d3387381048d4": {
      "model_module": "@jupyter-widgets/base",
      "model_module_version": "2.0.0",
      "model_name": "LayoutModel",
      "state": {
       "_model_module": "@jupyter-widgets/base",
       "_model_module_version": "2.0.0",
       "_model_name": "LayoutModel",
       "_view_count": null,
       "_view_module": "@jupyter-widgets/base",
       "_view_module_version": "2.0.0",
       "_view_name": "LayoutView",
       "align_content": null,
       "align_items": null,
       "align_self": null,
       "border_bottom": null,
       "border_left": null,
       "border_right": null,
       "border_top": null,
       "bottom": null,
       "display": null,
       "flex": null,
       "flex_flow": null,
       "grid_area": null,
       "grid_auto_columns": null,
       "grid_auto_flow": null,
       "grid_auto_rows": null,
       "grid_column": null,
       "grid_gap": null,
       "grid_row": null,
       "grid_template_areas": null,
       "grid_template_columns": null,
       "grid_template_rows": null,
       "height": null,
       "justify_content": null,
       "justify_items": null,
       "left": null,
       "margin": null,
       "max_height": null,
       "max_width": null,
       "min_height": null,
       "min_width": null,
       "object_fit": null,
       "object_position": null,
       "order": null,
       "overflow": null,
       "padding": null,
       "right": null,
       "top": null,
       "visibility": null,
       "width": null
      }
     },
     "c3b297b0cef740bbb4b4fe2f7af071c4": {
      "model_module": "@jupyter-widgets/controls",
      "model_module_version": "2.0.0",
      "model_name": "HTMLModel",
      "state": {
       "_dom_classes": [],
       "_model_module": "@jupyter-widgets/controls",
       "_model_module_version": "2.0.0",
       "_model_name": "HTMLModel",
       "_view_count": null,
       "_view_module": "@jupyter-widgets/controls",
       "_view_module_version": "2.0.0",
       "_view_name": "HTMLView",
       "description": "",
       "description_allow_html": false,
       "layout": "IPY_MODEL_50625949b78c4815b02e2be19b6150d9",
       "placeholder": "​",
       "style": "IPY_MODEL_198e8879a5844baebbe0c96b0cb23996",
       "tabbable": null,
       "tooltip": null,
       "value": "config.json: 100%"
      }
     },
     "cb3843d695704585920f6439b47822a9": {
      "model_module": "@jupyter-widgets/controls",
      "model_module_version": "2.0.0",
      "model_name": "HBoxModel",
      "state": {
       "_dom_classes": [],
       "_model_module": "@jupyter-widgets/controls",
       "_model_module_version": "2.0.0",
       "_model_name": "HBoxModel",
       "_view_count": null,
       "_view_module": "@jupyter-widgets/controls",
       "_view_module_version": "2.0.0",
       "_view_name": "HBoxView",
       "box_style": "",
       "children": [
        "IPY_MODEL_c3b297b0cef740bbb4b4fe2f7af071c4",
        "IPY_MODEL_5b978388e71e42dbab05f1b03bb8f45a",
        "IPY_MODEL_752dd3699efb4b409b5e14e28f09b927"
       ],
       "layout": "IPY_MODEL_b09dc6ff5e4c444191787908b01effa6",
       "tabbable": null,
       "tooltip": null
      }
     },
     "cf06ae6a4b0a40a6a2cb7b617601105c": {
      "model_module": "@jupyter-widgets/controls",
      "model_module_version": "2.0.0",
      "model_name": "HTMLModel",
      "state": {
       "_dom_classes": [],
       "_model_module": "@jupyter-widgets/controls",
       "_model_module_version": "2.0.0",
       "_model_name": "HTMLModel",
       "_view_count": null,
       "_view_module": "@jupyter-widgets/controls",
       "_view_module_version": "2.0.0",
       "_view_name": "HTMLView",
       "description": "",
       "description_allow_html": false,
       "layout": "IPY_MODEL_6d67509868b0495bbf09510c596b6bf7",
       "placeholder": "​",
       "style": "IPY_MODEL_b011b28092214908acb18b4bf91e6aab",
       "tabbable": null,
       "tooltip": null,
       "value": " 466k/466k [00:00&lt;00:00, 6.97MB/s]"
      }
     },
     "f153d18a6d7e4daba629edd6b509a218": {
      "model_module": "@jupyter-widgets/controls",
      "model_module_version": "2.0.0",
      "model_name": "HTMLStyleModel",
      "state": {
       "_model_module": "@jupyter-widgets/controls",
       "_model_module_version": "2.0.0",
       "_model_name": "HTMLStyleModel",
       "_view_count": null,
       "_view_module": "@jupyter-widgets/base",
       "_view_module_version": "2.0.0",
       "_view_name": "StyleView",
       "background": null,
       "description_width": "",
       "font_size": null,
       "text_color": null
      }
     },
     "f69a6274d0364b68b52a1ed500d953dd": {
      "model_module": "@jupyter-widgets/base",
      "model_module_version": "2.0.0",
      "model_name": "LayoutModel",
      "state": {
       "_model_module": "@jupyter-widgets/base",
       "_model_module_version": "2.0.0",
       "_model_name": "LayoutModel",
       "_view_count": null,
       "_view_module": "@jupyter-widgets/base",
       "_view_module_version": "2.0.0",
       "_view_name": "LayoutView",
       "align_content": null,
       "align_items": null,
       "align_self": null,
       "border_bottom": null,
       "border_left": null,
       "border_right": null,
       "border_top": null,
       "bottom": null,
       "display": null,
       "flex": null,
       "flex_flow": null,
       "grid_area": null,
       "grid_auto_columns": null,
       "grid_auto_flow": null,
       "grid_auto_rows": null,
       "grid_column": null,
       "grid_gap": null,
       "grid_row": null,
       "grid_template_areas": null,
       "grid_template_columns": null,
       "grid_template_rows": null,
       "height": null,
       "justify_content": null,
       "justify_items": null,
       "left": null,
       "margin": null,
       "max_height": null,
       "max_width": null,
       "min_height": null,
       "min_width": null,
       "object_fit": null,
       "object_position": null,
       "order": null,
       "overflow": null,
       "padding": null,
       "right": null,
       "top": null,
       "visibility": null,
       "width": null
      }
     },
     "fd3782ea0a2d4e889d93ae866a4f3e25": {
      "model_module": "@jupyter-widgets/base",
      "model_module_version": "2.0.0",
      "model_name": "LayoutModel",
      "state": {
       "_model_module": "@jupyter-widgets/base",
       "_model_module_version": "2.0.0",
       "_model_name": "LayoutModel",
       "_view_count": null,
       "_view_module": "@jupyter-widgets/base",
       "_view_module_version": "2.0.0",
       "_view_name": "LayoutView",
       "align_content": null,
       "align_items": null,
       "align_self": null,
       "border_bottom": null,
       "border_left": null,
       "border_right": null,
       "border_top": null,
       "bottom": null,
       "display": null,
       "flex": null,
       "flex_flow": null,
       "grid_area": null,
       "grid_auto_columns": null,
       "grid_auto_flow": null,
       "grid_auto_rows": null,
       "grid_column": null,
       "grid_gap": null,
       "grid_row": null,
       "grid_template_areas": null,
       "grid_template_columns": null,
       "grid_template_rows": null,
       "height": null,
       "justify_content": null,
       "justify_items": null,
       "left": null,
       "margin": null,
       "max_height": null,
       "max_width": null,
       "min_height": null,
       "min_width": null,
       "object_fit": null,
       "object_position": null,
       "order": null,
       "overflow": null,
       "padding": null,
       "right": null,
       "top": null,
       "visibility": null,
       "width": null
      }
     }
    },
    "version_major": 2,
    "version_minor": 0
   }
  }
 },
 "nbformat": 4,
 "nbformat_minor": 5
}
